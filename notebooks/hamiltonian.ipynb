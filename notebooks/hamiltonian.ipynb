{
 "cells": [
  {
   "cell_type": "code",
   "execution_count": 1,
   "metadata": {
    "collapsed": true
   },
   "outputs": [],
   "source": [
    "import kwant\n",
    "import sympy\n",
    "\n",
    "from semicon.models.serialized import serialized_kp"
   ]
  },
  {
   "cell_type": "code",
   "execution_count": 2,
   "metadata": {},
   "outputs": [],
   "source": [
    "import kwant\n",
    "import sympy\n",
    "sympy.init_printing()\n",
    "\n",
    "\n",
    "varied_parameters = ['E_0', 'E_v', 'Delta', 'P', 'kappa', 'g', \n",
    "                     'gamma_0', 'gamma_1', 'gamma_2', 'gamma_3']\n",
    "\n",
    "substitutions = {v: v+'(z)' for v in varied_parameters}\n",
    "smp = kwant.continuum.sympify(serialized_kp, locals=substitutions)\n"
   ]
  },
  {
   "cell_type": "code",
   "execution_count": 3,
   "metadata": {},
   "outputs": [
    {
     "data": {
      "text/latex": [
       "$$\\left[\\begin{matrix}\\frac{\\hbar^{2} k_{x}}{2 m_{0}} \\gamma_{0}{\\left (z \\right )} k_{x} + \\frac{\\hbar^{2} k_{y}}{2 m_{0}} \\gamma_{0}{\\left (z \\right )} k_{y} + \\frac{\\hbar^{2} k_{z}}{2 m_{0}} \\gamma_{0}{\\left (z \\right )} k_{z} + \\operatorname{E_{0}}{\\left (z \\right )} + \\operatorname{E_{v}}{\\left (z \\right )} & 0\\\\0 & \\frac{\\hbar^{2} k_{x}}{2 m_{0}} \\gamma_{0}{\\left (z \\right )} k_{x} + \\frac{\\hbar^{2} k_{y}}{2 m_{0}} \\gamma_{0}{\\left (z \\right )} k_{y} + \\frac{\\hbar^{2} k_{z}}{2 m_{0}} \\gamma_{0}{\\left (z \\right )} k_{z} + \\operatorname{E_{0}}{\\left (z \\right )} + \\operatorname{E_{v}}{\\left (z \\right )}\\end{matrix}\\right]$$"
      ],
      "text/plain": [
       "⎡  2                 2                   2                                    \n",
       "⎢h̅ ⋅kₓ⋅γ₀(z)⋅kₓ   h̅ ⋅k_y⋅γ₀(z)⋅k_y   h̅ ⋅k_z⋅γ₀(z)⋅k_z                      \n",
       "⎢─────────────── + ───────────────── + ───────────────── + E₀(z) + Eᵥ(z)      \n",
       "⎢      2⋅m₀               2⋅m₀                2⋅m₀                            \n",
       "⎢                                                                             \n",
       "⎢                                                                           2 \n",
       "⎢                                                                         h̅ ⋅\n",
       "⎢                                   0                                     ────\n",
       "⎣                                                                             \n",
       "\n",
       "                                                                   ⎤\n",
       "                                                                   ⎥\n",
       "                               0                                   ⎥\n",
       "                                                                   ⎥\n",
       "                                                                   ⎥\n",
       "                2                   2                              ⎥\n",
       "kₓ⋅γ₀(z)⋅kₓ   h̅ ⋅k_y⋅γ₀(z)⋅k_y   h̅ ⋅k_z⋅γ₀(z)⋅k_z                ⎥\n",
       "─────────── + ───────────────── + ───────────────── + E₀(z) + Eᵥ(z)⎥\n",
       "  2⋅m₀               2⋅m₀                2⋅m₀                      ⎦"
      ]
     },
     "execution_count": 3,
     "metadata": {},
     "output_type": "execute_result"
    }
   ],
   "source": [
    "smp[:2, :2]"
   ]
  }
 ],
 "metadata": {
  "kernelspec": {
   "display_name": "Python 3",
   "language": "python",
   "name": "python3"
  },
  "language_info": {
   "codemirror_mode": {
    "name": "ipython",
    "version": 3
   },
   "file_extension": ".py",
   "mimetype": "text/x-python",
   "name": "python",
   "nbconvert_exporter": "python",
   "pygments_lexer": "ipython3",
   "version": "3.5.2"
  }
 },
 "nbformat": 4,
 "nbformat_minor": 2
}
