{
 "cells": [
  {
   "cell_type": "code",
   "execution_count": 1,
   "metadata": {},
   "outputs": [
    {
     "name": "stderr",
     "output_type": "stream",
     "text": [
      "/usr/local/lib/python3.5/dist-packages/kwant/plotter.py:45: RuntimeWarning: 3D plotting not available.\n",
      "  warnings.warn(\"3D plotting not available.\", RuntimeWarning)\n"
     ]
    }
   ],
   "source": [
    "import semicon\n",
    "import sympy\n",
    "sympy.init_printing()"
   ]
  },
  {
   "cell_type": "code",
   "execution_count": 2,
   "metadata": {},
   "outputs": [
    {
     "data": {
      "image/png": "[encoded data removed]",
      "text/latex": [
       "$$\\left[\\begin{matrix}\\frac{B_{z} g}{2} \\mu_{B} + E_{0} + E_{v} + \\frac{\\gamma_{0} \\hbar^{2} k_{x}^{2}}{2 m_{0}} + \\frac{\\gamma_{0} \\hbar^{2} k_{y}^{2}}{2 m_{0}} + \\frac{\\gamma_{0} \\hbar^{2} k_{z}^{2}}{2 m_{0}} & \\frac{B_{x} g}{2} \\mu_{B} - \\frac{i B_{y}}{2} g \\mu_{B}\\\\\\frac{B_{x} g}{2} \\mu_{B} + \\frac{i B_{y}}{2} g \\mu_{B} & - \\frac{B_{z} g}{2} \\mu_{B} + E_{0} + E_{v} + \\frac{\\gamma_{0} \\hbar^{2} k_{x}^{2}}{2 m_{0}} + \\frac{\\gamma_{0} \\hbar^{2} k_{y}^{2}}{2 m_{0}} + \\frac{\\gamma_{0} \\hbar^{2} k_{z}^{2}}{2 m_{0}}\\end{matrix}\\right]$$"
      ],
      "text/plain": [
       "⎡                           2   2        2    2        2    2                 \n",
       "⎢B_z⋅g⋅μ_B             γ₀⋅h̅ ⋅kₓ    γ₀⋅h̅ ⋅k_y    γ₀⋅h̅ ⋅k_z                  \n",
       "⎢───────── + E₀ + Eᵥ + ────────── + ─────────── + ───────────                 \n",
       "⎢    2                    2⋅m₀          2⋅m₀          2⋅m₀                    \n",
       "⎢                                                                             \n",
       "⎢                                                                             \n",
       "⎢                   Bₓ⋅g⋅μ_B   ⅈ⋅B_y⋅g⋅μ_B                       B_z⋅g⋅μ_B    \n",
       "⎢                   ──────── + ───────────                     - ───────── + E\n",
       "⎣                      2            2                                2        \n",
       "\n",
       "                                               ⎤\n",
       "     Bₓ⋅g⋅μ_B   ⅈ⋅B_y⋅g⋅μ_B                    ⎥\n",
       "     ──────── - ───────────                    ⎥\n",
       "        2            2                         ⎥\n",
       "                                               ⎥\n",
       "              2   2        2    2        2    2⎥\n",
       "         γ₀⋅h̅ ⋅kₓ    γ₀⋅h̅ ⋅k_y    γ₀⋅h̅ ⋅k_z ⎥\n",
       "₀ + Eᵥ + ────────── + ─────────── + ───────────⎥\n",
       "            2⋅m₀          2⋅m₀          2⋅m₀   ⎦"
      ]
     },
     "execution_count": 2,
     "metadata": {},
     "output_type": "execute_result"
    }
   ],
   "source": [
    "semicon.models.foreman(components=['foreman', 'zeeman'], bands=['gamma_6c'])"
   ]
  },
  {
   "cell_type": "code",
   "execution_count": 13,
   "metadata": {
    "collapsed": true
   },
   "outputs": [],
   "source": [
    "semicon.models.foreman(components=['foreman', 'zeeman'], bands=['gamma_6c'])"
   ]
  },
  {
   "cell_type": "code",
   "execution_count": null,
   "metadata": {
    "collapsed": true
   },
   "outputs": [],
   "source": []
  }
 ],
 "metadata": {
  "kernelspec": {
   "display_name": "Python 3",
   "language": "python",
   "name": "python3"
  },
  "language_info": {
   "codemirror_mode": {
    "name": "ipython",
    "version": 3
   },
   "file_extension": ".py",
   "mimetype": "text/x-python",
   "name": "python",
   "nbconvert_exporter": "python",
   "pygments_lexer": "ipython3",
   "version": "3.5.2"
  }
 },
 "nbformat": 4,
 "nbformat_minor": 2
}
