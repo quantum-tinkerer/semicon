{
 "cells": [
  {
   "cell_type": "code",
   "execution_count": 1,
   "metadata": {},
   "outputs": [],
   "source": [
    "from semicon import parameters"
   ]
  },
  {
   "cell_type": "markdown",
   "metadata": {},
   "source": [
    "# load parameters as dataframe"
   ]
  },
  {
   "cell_type": "code",
   "execution_count": 2,
   "metadata": {},
   "outputs": [
    {
     "data": {
      "text/html": [
       "<div>\n",
       "<style scoped>\n",
       "    .dataframe tbody tr th:only-of-type {\n",
       "        vertical-align: middle;\n",
       "    }\n",
       "\n",
       "    .dataframe tbody tr th {\n",
       "        vertical-align: top;\n",
       "    }\n",
       "\n",
       "    .dataframe thead th {\n",
       "        text-align: right;\n",
       "    }\n",
       "</style>\n",
       "<table border=\"1\" class=\"dataframe\">\n",
       "  <thead>\n",
       "    <tr style=\"text-align: right;\">\n",
       "      <th></th>\n",
       "      <th>Delta_0</th>\n",
       "      <th>E_0</th>\n",
       "      <th>P</th>\n",
       "      <th>g_c</th>\n",
       "      <th>gamma_1</th>\n",
       "      <th>gamma_2</th>\n",
       "      <th>gamma_3</th>\n",
       "      <th>kappa</th>\n",
       "      <th>m_c</th>\n",
       "      <th>q</th>\n",
       "    </tr>\n",
       "  </thead>\n",
       "  <tbody>\n",
       "    <tr>\n",
       "      <th>InAs</th>\n",
       "      <td>0.380</td>\n",
       "      <td>0.418</td>\n",
       "      <td>0.9197</td>\n",
       "      <td>-14.900</td>\n",
       "      <td>20.40</td>\n",
       "      <td>8.30</td>\n",
       "      <td>9.10</td>\n",
       "      <td>7.60</td>\n",
       "      <td>0.0229</td>\n",
       "      <td>0.39</td>\n",
       "    </tr>\n",
       "    <tr>\n",
       "      <th>AlSb</th>\n",
       "      <td>0.673</td>\n",
       "      <td>2.384</td>\n",
       "      <td>0.8463</td>\n",
       "      <td>0.843</td>\n",
       "      <td>4.15</td>\n",
       "      <td>1.01</td>\n",
       "      <td>1.71</td>\n",
       "      <td>0.31</td>\n",
       "      <td>0.1200</td>\n",
       "      <td>0.07</td>\n",
       "    </tr>\n",
       "    <tr>\n",
       "      <th>InSb</th>\n",
       "      <td>0.810</td>\n",
       "      <td>0.237</td>\n",
       "      <td>0.9641</td>\n",
       "      <td>-51.560</td>\n",
       "      <td>37.10</td>\n",
       "      <td>16.50</td>\n",
       "      <td>17.70</td>\n",
       "      <td>15.60</td>\n",
       "      <td>0.0139</td>\n",
       "      <td>0.39</td>\n",
       "    </tr>\n",
       "    <tr>\n",
       "      <th>Ge</th>\n",
       "      <td>0.296</td>\n",
       "      <td>NaN</td>\n",
       "      <td>NaN</td>\n",
       "      <td>NaN</td>\n",
       "      <td>13.38</td>\n",
       "      <td>4.24</td>\n",
       "      <td>5.69</td>\n",
       "      <td>3.41</td>\n",
       "      <td>NaN</td>\n",
       "      <td>0.06</td>\n",
       "    </tr>\n",
       "  </tbody>\n",
       "</table>\n",
       "</div>"
      ],
      "text/plain": [
       "      Delta_0    E_0       P     g_c  gamma_1  gamma_2  gamma_3  kappa  \\\n",
       "InAs    0.380  0.418  0.9197 -14.900    20.40     8.30     9.10   7.60   \n",
       "AlSb    0.673  2.384  0.8463   0.843     4.15     1.01     1.71   0.31   \n",
       "InSb    0.810  0.237  0.9641 -51.560    37.10    16.50    17.70  15.60   \n",
       "Ge      0.296    NaN     NaN     NaN    13.38     4.24     5.69   3.41   \n",
       "\n",
       "         m_c     q  \n",
       "InAs  0.0229  0.39  \n",
       "AlSb  0.1200  0.07  \n",
       "InSb  0.0139  0.39  \n",
       "Ge       NaN  0.06  "
      ]
     },
     "execution_count": 2,
     "metadata": {},
     "output_type": "execute_result"
    }
   ],
   "source": [
    "databank_winkler = parameters.DataBank('winkler')\n",
    "databank_winkler.to_dataframe()"
   ]
  },
  {
   "cell_type": "code",
   "execution_count": 3,
   "metadata": {},
   "outputs": [
    {
     "data": {
      "text/html": [
       "<div>\n",
       "<style scoped>\n",
       "    .dataframe tbody tr th:only-of-type {\n",
       "        vertical-align: middle;\n",
       "    }\n",
       "\n",
       "    .dataframe tbody tr th {\n",
       "        vertical-align: top;\n",
       "    }\n",
       "\n",
       "    .dataframe thead th {\n",
       "        text-align: right;\n",
       "    }\n",
       "</style>\n",
       "<table border=\"1\" class=\"dataframe\">\n",
       "  <thead>\n",
       "    <tr style=\"text-align: right;\">\n",
       "      <th></th>\n",
       "      <th>Delta_0</th>\n",
       "      <th>E_0</th>\n",
       "      <th>P</th>\n",
       "      <th>g_c</th>\n",
       "      <th>gamma_1</th>\n",
       "      <th>gamma_2</th>\n",
       "      <th>gamma_3</th>\n",
       "      <th>kappa</th>\n",
       "      <th>m_c</th>\n",
       "      <th>q</th>\n",
       "    </tr>\n",
       "  </thead>\n",
       "  <tbody>\n",
       "    <tr>\n",
       "      <th>AlSb</th>\n",
       "      <td>0.75</td>\n",
       "      <td>2.300</td>\n",
       "      <td>0.8441</td>\n",
       "      <td>0.52</td>\n",
       "      <td>4.15</td>\n",
       "      <td>1.01</td>\n",
       "      <td>1.75</td>\n",
       "      <td>0.31</td>\n",
       "      <td>0.180</td>\n",
       "      <td>0.07</td>\n",
       "    </tr>\n",
       "    <tr>\n",
       "      <th>GaSb</th>\n",
       "      <td>0.77</td>\n",
       "      <td>0.810</td>\n",
       "      <td>0.9238</td>\n",
       "      <td>-7.12</td>\n",
       "      <td>11.80</td>\n",
       "      <td>4.03</td>\n",
       "      <td>5.26</td>\n",
       "      <td>3.18</td>\n",
       "      <td>0.045</td>\n",
       "      <td>0.13</td>\n",
       "    </tr>\n",
       "    <tr>\n",
       "      <th>InAs</th>\n",
       "      <td>0.38</td>\n",
       "      <td>0.420</td>\n",
       "      <td>0.9197</td>\n",
       "      <td>-14.80</td>\n",
       "      <td>19.67</td>\n",
       "      <td>8.37</td>\n",
       "      <td>9.29</td>\n",
       "      <td>7.68</td>\n",
       "      <td>0.023</td>\n",
       "      <td>0.04</td>\n",
       "    </tr>\n",
       "    <tr>\n",
       "      <th>HgTe</th>\n",
       "      <td>1.00</td>\n",
       "      <td>-0.303</td>\n",
       "      <td>0.8281</td>\n",
       "      <td>59.00</td>\n",
       "      <td>-18.68</td>\n",
       "      <td>-10.19</td>\n",
       "      <td>-9.56</td>\n",
       "      <td>-10.85</td>\n",
       "      <td>-0.031</td>\n",
       "      <td>0.06</td>\n",
       "    </tr>\n",
       "    <tr>\n",
       "      <th>CdTe</th>\n",
       "      <td>0.91</td>\n",
       "      <td>1.600</td>\n",
       "      <td>0.8881</td>\n",
       "      <td>-1.12</td>\n",
       "      <td>5.29</td>\n",
       "      <td>1.89</td>\n",
       "      <td>2.46</td>\n",
       "      <td>1.27</td>\n",
       "      <td>0.096</td>\n",
       "      <td>0.05</td>\n",
       "    </tr>\n",
       "  </tbody>\n",
       "</table>\n",
       "</div>"
      ],
      "text/plain": [
       "      Delta_0    E_0       P    g_c  gamma_1  gamma_2  gamma_3  kappa    m_c  \\\n",
       "AlSb     0.75  2.300  0.8441   0.52     4.15     1.01     1.75   0.31  0.180   \n",
       "GaSb     0.77  0.810  0.9238  -7.12    11.80     4.03     5.26   3.18  0.045   \n",
       "InAs     0.38  0.420  0.9197 -14.80    19.67     8.37     9.29   7.68  0.023   \n",
       "HgTe     1.00 -0.303  0.8281  59.00   -18.68   -10.19    -9.56 -10.85 -0.031   \n",
       "CdTe     0.91  1.600  0.8881  -1.12     5.29     1.89     2.46   1.27  0.096   \n",
       "\n",
       "         q  \n",
       "AlSb  0.07  \n",
       "GaSb  0.13  \n",
       "InAs  0.04  \n",
       "HgTe  0.06  \n",
       "CdTe  0.05  "
      ]
     },
     "execution_count": 3,
     "metadata": {},
     "output_type": "execute_result"
    }
   ],
   "source": [
    "databank_lawaetz = parameters.DataBank('lawaetz')\n",
    "databank_lawaetz.to_dataframe()"
   ]
  },
  {
   "cell_type": "markdown",
   "metadata": {},
   "source": [
    "# effective parameters"
   ]
  },
  {
   "cell_type": "code",
   "execution_count": 4,
   "metadata": {},
   "outputs": [
    {
     "name": "stdout",
     "output_type": "stream",
     "text": [
      "Databank:\n",
      "    bank name: lawaetz\n",
      "    materials: AlSb, GaSb, InAs, HgTe, CdTe\n"
     ]
    }
   ],
   "source": [
    "print(databank_lawaetz)"
   ]
  },
  {
   "cell_type": "code",
   "execution_count": 5,
   "metadata": {},
   "outputs": [
    {
     "data": {
      "text/plain": [
       "['AlSb', 'GaSb', 'InAs', 'HgTe', 'CdTe']"
      ]
     },
     "execution_count": 5,
     "metadata": {},
     "output_type": "execute_result"
    }
   ],
   "source": [
    "list(databank_lawaetz)"
   ]
  },
  {
   "cell_type": "code",
   "execution_count": 6,
   "metadata": {},
   "outputs": [
    {
     "data": {
      "text/plain": [
       "{'E_0': 0.42,\n",
       " 'Delta_0': 0.38,\n",
       " 'P': 0.9197,\n",
       " 'm_c': 0.023,\n",
       " 'g_c': -14.8,\n",
       " 'gamma_1': 19.67,\n",
       " 'gamma_2': 8.37,\n",
       " 'gamma_3': 9.29,\n",
       " 'kappa': 7.68,\n",
       " 'q': 0.04}"
      ]
     },
     "execution_count": 6,
     "metadata": {},
     "output_type": "execute_result"
    }
   ],
   "source": [
    "databank_lawaetz['InAs']"
   ]
  },
  {
   "cell_type": "markdown",
   "metadata": {},
   "source": [
    "# ZincBlende parameters"
   ]
  },
  {
   "cell_type": "markdown",
   "metadata": {},
   "source": [
    "## original parametres show spurious solutions"
   ]
  },
  {
   "cell_type": "code",
   "execution_count": 7,
   "metadata": {},
   "outputs": [
    {
     "data": {
      "text/plain": [
       "{'Delta_0': 0.38,\n",
       " 'E_0': 0.42,\n",
       " 'E_v': 0.1,\n",
       " 'P': 0.9197,\n",
       " 'g_c': 1.9387298407111935,\n",
       " 'gamma_0': -1.0115210754829604,\n",
       " 'gamma_1': 2.050284378198743,\n",
       " 'gamma_2': -0.43985781090063014,\n",
       " 'gamma_3': 0.4801421890993698,\n",
       " 'kappa': -1.1298578109006296,\n",
       " 'q': 0.04}"
      ]
     },
     "execution_count": 7,
     "metadata": {},
     "output_type": "execute_result"
    }
   ],
   "source": [
    "p = parameters.ZincBlendeParameters(\n",
    "    name='InAs',\n",
    "    bands=('gamma_6c', 'gamma_8v', 'gamma_7v'),\n",
    "    parameters=databank_lawaetz['InAs'],\n",
    "    valence_band_offset=0.1,\n",
    ")\n",
    "\n",
    "# casting to dict to enforce default notebook rendering\n",
    "# and print values in same order as in parameters.ipynb\n",
    "{k: p[k] for k in sorted(p)}"
   ]
  },
  {
   "cell_type": "markdown",
   "metadata": {},
   "source": [
    "## that can be avoid by renormalizing $P$ in a way that $\\gamma_0=1$"
   ]
  },
  {
   "cell_type": "code",
   "execution_count": 8,
   "metadata": {},
   "outputs": [
    {
     "data": {
      "text/plain": [
       "{'Delta_0': 0.38,\n",
       " 'E_0': 0.42,\n",
       " 'E_v': 0,\n",
       " 'P': 0.8986682778019771,\n",
       " 'g_c': 1.1819199311235522,\n",
       " 'gamma_0': 0.9999999999999964,\n",
       " 'gamma_1': 2.8469263882910028,\n",
       " 'gamma_2': -0.04153680585450026,\n",
       " 'gamma_3': 0.8784631941454997,\n",
       " 'kappa': -0.7315368058544998,\n",
       " 'q': 0.04}"
      ]
     },
     "execution_count": 8,
     "metadata": {},
     "output_type": "execute_result"
    }
   ],
   "source": [
    "p = parameters.ZincBlendeParameters(\n",
    "    name='InAs',\n",
    "    bands=('gamma_6c', 'gamma_8v', 'gamma_7v'),\n",
    "    parameters=databank_lawaetz['InAs']\n",
    ")\n",
    "\n",
    "p = p.renormalize(new_gamma_0=1)\n",
    "\n",
    "# casting to dict to enforce default notebook rendering\n",
    "# and print values in same order as in parameters.ipynb\n",
    "{k: p[k] for k in sorted(p)}"
   ]
  },
  {
   "cell_type": "markdown",
   "metadata": {},
   "source": [
    "## or one can set $P$ to desire value"
   ]
  },
  {
   "cell_type": "code",
   "execution_count": 9,
   "metadata": {},
   "outputs": [
    {
     "data": {
      "text/plain": [
       "{'Delta_0': 0.38,\n",
       " 'E_0': 0.42,\n",
       " 'E_v': 0,\n",
       " 'P': 0.8986682776955899,\n",
       " 'g_c': 1.1819199273395675,\n",
       " 'gamma_0': 1.0000000100574216,\n",
       " 'gamma_1': 2.846926392274142,\n",
       " 'gamma_2': -0.04153680386293068,\n",
       " 'gamma_3': 0.8784631961370692,\n",
       " 'kappa': -0.7315368038629302,\n",
       " 'q': 0.04}"
      ]
     },
     "execution_count": 9,
     "metadata": {},
     "output_type": "execute_result"
    }
   ],
   "source": [
    "p = parameters.ZincBlendeParameters(\n",
    "    name='InAs',\n",
    "    bands=('gamma_6c', 'gamma_8v', 'gamma_7v'),\n",
    "    parameters=databank_lawaetz['InAs']\n",
    ")\n",
    "\n",
    "p = p.renormalize(new_P=0.89866827769558988)\n",
    "\n",
    "# casting to dict to enforce default notebook rendering\n",
    "# and print values in same order as in parameters.ipynb\n",
    "{k: p[k] for k in sorted(p)}"
   ]
  },
  {
   "cell_type": "markdown",
   "metadata": {},
   "source": [
    "# 2DEG parameters"
   ]
  },
  {
   "cell_type": "code",
   "execution_count": 10,
   "metadata": {},
   "outputs": [
    {
     "ename": "NotImplementedError",
     "evalue": "Need to write it...",
     "output_type": "error",
     "traceback": [
      "\u001b[0;31m---------------------------------------------------------------------------\u001b[0m",
      "\u001b[0;31mNotImplementedError\u001b[0m                       Traceback (most recent call last)",
      "\u001b[0;32m<ipython-input-10-894833e302a1>\u001b[0m in \u001b[0;36m<module>\u001b[0;34m()\u001b[0m\n\u001b[0;32m----> 1\u001b[0;31m \u001b[0;32mraise\u001b[0m \u001b[0mNotImplementedError\u001b[0m\u001b[0;34m(\u001b[0m\u001b[0;34m\"Need to write it...\"\u001b[0m\u001b[0;34m)\u001b[0m\u001b[0;34m\u001b[0m\u001b[0m\n\u001b[0m",
      "\u001b[0;31mNotImplementedError\u001b[0m: Need to write it..."
     ]
    }
   ],
   "source": [
    "raise NotImplementedError(\"Need to write it...\")"
   ]
  },
  {
   "cell_type": "markdown",
   "metadata": {},
   "source": [
    "# Provide parameters by hand"
   ]
  },
  {
   "cell_type": "code",
   "execution_count": 11,
   "metadata": {},
   "outputs": [
    {
     "data": {
      "text/plain": [
       "True"
      ]
     },
     "execution_count": 11,
     "metadata": {},
     "output_type": "execute_result"
    }
   ],
   "source": [
    "p1 = parameters.ZincBlendeParameters(\n",
    "    name='InAs',\n",
    "    bands=('gamma_6c', 'gamma_8v', 'gamma_7v'),\n",
    "    parameters=databank_lawaetz['InAs']\n",
    ")\n",
    "\n",
    "\n",
    "# We provide parameters from p1 and set flag\n",
    "# informing that we already give bare_parameters\n",
    "\n",
    "p2 = parameters.ZincBlendeParameters(\n",
    "    name='InAs',\n",
    "    bands=('gamma_6c', 'gamma_8v', 'gamma_7v'),\n",
    "    parameters=p1.data, \n",
    "    already_bare=True,\n",
    ")\n",
    "\n",
    "p1 == p2"
   ]
  }
 ],
 "metadata": {
  "kernelspec": {
   "display_name": "Python 3",
   "language": "python",
   "name": "python3"
  },
  "language_info": {
   "codemirror_mode": {
    "name": "ipython",
    "version": 3
   },
   "file_extension": ".py",
   "mimetype": "text/x-python",
   "name": "python",
   "nbconvert_exporter": "python",
   "pygments_lexer": "ipython3",
   "version": "3.6.6"
  }
 },
 "nbformat": 4,
 "nbformat_minor": 2
}
