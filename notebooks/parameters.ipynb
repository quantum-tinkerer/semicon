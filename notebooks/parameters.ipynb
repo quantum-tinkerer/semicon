{
 "cells": [
  {
   "cell_type": "code",
   "execution_count": 1,
   "metadata": {},
   "outputs": [],
   "source": [
    "import semicon"
   ]
  },
  {
   "cell_type": "markdown",
   "metadata": {},
   "source": [
    "# load parameters as dataframe"
   ]
  },
  {
   "cell_type": "code",
   "execution_count": 2,
   "metadata": {},
   "outputs": [
    {
     "data": {
      "text/html": [
       "<div>\n",
       "<style scoped>\n",
       "    .dataframe tbody tr th:only-of-type {\n",
       "        vertical-align: middle;\n",
       "    }\n",
       "\n",
       "    .dataframe tbody tr th {\n",
       "        vertical-align: top;\n",
       "    }\n",
       "\n",
       "    .dataframe thead th {\n",
       "        text-align: right;\n",
       "    }\n",
       "</style>\n",
       "<table border=\"1\" class=\"dataframe\">\n",
       "  <thead>\n",
       "    <tr style=\"text-align: right;\">\n",
       "      <th></th>\n",
       "      <th>E_0</th>\n",
       "      <th>Delta_0</th>\n",
       "      <th>P</th>\n",
       "      <th>m_c</th>\n",
       "      <th>gamma_1</th>\n",
       "      <th>gamma_2</th>\n",
       "      <th>gamma_3</th>\n",
       "      <th>g_c</th>\n",
       "      <th>kappa</th>\n",
       "      <th>q</th>\n",
       "    </tr>\n",
       "  </thead>\n",
       "  <tbody>\n",
       "    <tr>\n",
       "      <th>InAs</th>\n",
       "      <td>0.418</td>\n",
       "      <td>0.380</td>\n",
       "      <td>0.9197</td>\n",
       "      <td>0.0229</td>\n",
       "      <td>20.40</td>\n",
       "      <td>8.30</td>\n",
       "      <td>9.10</td>\n",
       "      <td>-14.900</td>\n",
       "      <td>7.60</td>\n",
       "      <td>0.39</td>\n",
       "    </tr>\n",
       "    <tr>\n",
       "      <th>AlSb</th>\n",
       "      <td>2.384</td>\n",
       "      <td>0.673</td>\n",
       "      <td>0.8463</td>\n",
       "      <td>0.1200</td>\n",
       "      <td>4.15</td>\n",
       "      <td>1.01</td>\n",
       "      <td>1.71</td>\n",
       "      <td>0.843</td>\n",
       "      <td>0.31</td>\n",
       "      <td>0.07</td>\n",
       "    </tr>\n",
       "    <tr>\n",
       "      <th>InSb</th>\n",
       "      <td>0.237</td>\n",
       "      <td>0.810</td>\n",
       "      <td>0.9641</td>\n",
       "      <td>0.0139</td>\n",
       "      <td>37.10</td>\n",
       "      <td>16.50</td>\n",
       "      <td>17.70</td>\n",
       "      <td>-51.560</td>\n",
       "      <td>15.60</td>\n",
       "      <td>0.39</td>\n",
       "    </tr>\n",
       "    <tr>\n",
       "      <th>Ge</th>\n",
       "      <td>NaN</td>\n",
       "      <td>0.296</td>\n",
       "      <td>NaN</td>\n",
       "      <td>NaN</td>\n",
       "      <td>13.38</td>\n",
       "      <td>4.24</td>\n",
       "      <td>5.69</td>\n",
       "      <td>NaN</td>\n",
       "      <td>3.41</td>\n",
       "      <td>0.06</td>\n",
       "    </tr>\n",
       "  </tbody>\n",
       "</table>\n",
       "</div>"
      ],
      "text/plain": [
       "        E_0  Delta_0       P     m_c  gamma_1  gamma_2  gamma_3     g_c  \\\n",
       "InAs  0.418    0.380  0.9197  0.0229    20.40     8.30     9.10 -14.900   \n",
       "AlSb  2.384    0.673  0.8463  0.1200     4.15     1.01     1.71   0.843   \n",
       "InSb  0.237    0.810  0.9641  0.0139    37.10    16.50    17.70 -51.560   \n",
       "Ge      NaN    0.296     NaN     NaN    13.38     4.24     5.69     NaN   \n",
       "\n",
       "      kappa     q  \n",
       "InAs   7.60  0.39  \n",
       "AlSb   0.31  0.07  \n",
       "InSb  15.60  0.39  \n",
       "Ge     3.41  0.06  "
      ]
     },
     "execution_count": 2,
     "metadata": {},
     "output_type": "execute_result"
    }
   ],
   "source": [
    "semicon.parameters.load_as_df('winkler')"
   ]
  },
  {
   "cell_type": "code",
   "execution_count": 3,
   "metadata": {},
   "outputs": [
    {
     "data": {
      "text/html": [
       "<div>\n",
       "<style scoped>\n",
       "    .dataframe tbody tr th:only-of-type {\n",
       "        vertical-align: middle;\n",
       "    }\n",
       "\n",
       "    .dataframe tbody tr th {\n",
       "        vertical-align: top;\n",
       "    }\n",
       "\n",
       "    .dataframe thead th {\n",
       "        text-align: right;\n",
       "    }\n",
       "</style>\n",
       "<table border=\"1\" class=\"dataframe\">\n",
       "  <thead>\n",
       "    <tr style=\"text-align: right;\">\n",
       "      <th></th>\n",
       "      <th>E_0</th>\n",
       "      <th>Delta_0</th>\n",
       "      <th>P</th>\n",
       "      <th>m_c</th>\n",
       "      <th>gamma_1</th>\n",
       "      <th>gamma_2</th>\n",
       "      <th>gamma_3</th>\n",
       "      <th>g_c</th>\n",
       "      <th>kappa</th>\n",
       "      <th>q</th>\n",
       "    </tr>\n",
       "  </thead>\n",
       "  <tbody>\n",
       "    <tr>\n",
       "      <th>AlSb</th>\n",
       "      <td>2.300</td>\n",
       "      <td>0.75</td>\n",
       "      <td>0.8441</td>\n",
       "      <td>0.180</td>\n",
       "      <td>4.15</td>\n",
       "      <td>1.01</td>\n",
       "      <td>1.75</td>\n",
       "      <td>0.52</td>\n",
       "      <td>0.31</td>\n",
       "      <td>0.07</td>\n",
       "    </tr>\n",
       "    <tr>\n",
       "      <th>GaSb</th>\n",
       "      <td>0.810</td>\n",
       "      <td>0.77</td>\n",
       "      <td>0.9238</td>\n",
       "      <td>0.045</td>\n",
       "      <td>11.80</td>\n",
       "      <td>4.03</td>\n",
       "      <td>5.26</td>\n",
       "      <td>-7.12</td>\n",
       "      <td>3.18</td>\n",
       "      <td>0.13</td>\n",
       "    </tr>\n",
       "    <tr>\n",
       "      <th>InAs</th>\n",
       "      <td>0.420</td>\n",
       "      <td>0.38</td>\n",
       "      <td>0.9197</td>\n",
       "      <td>0.023</td>\n",
       "      <td>19.67</td>\n",
       "      <td>8.37</td>\n",
       "      <td>9.29</td>\n",
       "      <td>-14.80</td>\n",
       "      <td>7.68</td>\n",
       "      <td>0.04</td>\n",
       "    </tr>\n",
       "    <tr>\n",
       "      <th>HgTe</th>\n",
       "      <td>-0.303</td>\n",
       "      <td>1.00</td>\n",
       "      <td>0.8281</td>\n",
       "      <td>-0.031</td>\n",
       "      <td>-18.68</td>\n",
       "      <td>-10.19</td>\n",
       "      <td>-9.56</td>\n",
       "      <td>59.00</td>\n",
       "      <td>-10.85</td>\n",
       "      <td>0.06</td>\n",
       "    </tr>\n",
       "    <tr>\n",
       "      <th>CdTe</th>\n",
       "      <td>1.600</td>\n",
       "      <td>0.91</td>\n",
       "      <td>0.8881</td>\n",
       "      <td>0.096</td>\n",
       "      <td>5.29</td>\n",
       "      <td>1.89</td>\n",
       "      <td>2.46</td>\n",
       "      <td>-1.12</td>\n",
       "      <td>1.27</td>\n",
       "      <td>0.05</td>\n",
       "    </tr>\n",
       "  </tbody>\n",
       "</table>\n",
       "</div>"
      ],
      "text/plain": [
       "        E_0  Delta_0       P    m_c  gamma_1  gamma_2  gamma_3    g_c  kappa  \\\n",
       "AlSb  2.300     0.75  0.8441  0.180     4.15     1.01     1.75   0.52   0.31   \n",
       "GaSb  0.810     0.77  0.9238  0.045    11.80     4.03     5.26  -7.12   3.18   \n",
       "InAs  0.420     0.38  0.9197  0.023    19.67     8.37     9.29 -14.80   7.68   \n",
       "HgTe -0.303     1.00  0.8281 -0.031   -18.68   -10.19    -9.56  59.00 -10.85   \n",
       "CdTe  1.600     0.91  0.8881  0.096     5.29     1.89     2.46  -1.12   1.27   \n",
       "\n",
       "         q  \n",
       "AlSb  0.07  \n",
       "GaSb  0.13  \n",
       "InAs  0.04  \n",
       "HgTe  0.06  \n",
       "CdTe  0.05  "
      ]
     },
     "execution_count": 3,
     "metadata": {},
     "output_type": "execute_result"
    }
   ],
   "source": [
    "semicon.parameters.load_as_df('lawaetz')"
   ]
  },
  {
   "cell_type": "markdown",
   "metadata": {},
   "source": [
    "# Load raw parameters (as used by other functions)"
   ]
  },
  {
   "cell_type": "code",
   "execution_count": 4,
   "metadata": {},
   "outputs": [
    {
     "data": {
      "text/plain": [
       "{'InAs': {'E_0': 0.418,\n",
       "  'Delta_0': 0.38,\n",
       "  'P': 0.9197,\n",
       "  'm_c': 0.0229,\n",
       "  'g_c': -14.9,\n",
       "  'gamma_1': 20.4,\n",
       "  'gamma_2': 8.3,\n",
       "  'gamma_3': 9.1,\n",
       "  'kappa': 7.6,\n",
       "  'q': 0.39},\n",
       " 'AlSb': {'E_0': 2.384,\n",
       "  'Delta_0': 0.673,\n",
       "  'P': 0.8463,\n",
       "  'm_c': 0.12,\n",
       "  'g_c': 0.843,\n",
       "  'gamma_1': 4.15,\n",
       "  'gamma_2': 1.01,\n",
       "  'gamma_3': 1.71,\n",
       "  'kappa': 0.31,\n",
       "  'q': 0.07},\n",
       " 'InSb': {'E_0': 0.237,\n",
       "  'Delta_0': 0.81,\n",
       "  'P': 0.9641,\n",
       "  'm_c': 0.0139,\n",
       "  'g_c': -51.56,\n",
       "  'gamma_1': 37.1,\n",
       "  'gamma_2': 16.5,\n",
       "  'gamma_3': 17.7,\n",
       "  'kappa': 15.6,\n",
       "  'q': 0.39},\n",
       " 'Ge': {'E_0': None,\n",
       "  'Delta_0': 0.296,\n",
       "  'P': None,\n",
       "  'm_c': None,\n",
       "  'g_c': None,\n",
       "  'gamma_1': 13.38,\n",
       "  'gamma_2': 4.24,\n",
       "  'gamma_3': 5.69,\n",
       "  'kappa': 3.41,\n",
       "  'q': 0.06}}"
      ]
     },
     "execution_count": 4,
     "metadata": {},
     "output_type": "execute_result"
    }
   ],
   "source": [
    "semicon.parameters.load_params('winkler')"
   ]
  },
  {
   "cell_type": "markdown",
   "metadata": {},
   "source": [
    "# bulk parameters"
   ]
  },
  {
   "cell_type": "markdown",
   "metadata": {},
   "source": [
    "## original parametres show spurious solutions"
   ]
  },
  {
   "cell_type": "code",
   "execution_count": 5,
   "metadata": {},
   "outputs": [
    {
     "data": {
      "text/plain": [
       "{'Delta_0': 0.38,\n",
       " 'E_0': 0.42,\n",
       " 'E_v': 0.0,\n",
       " 'P': 0.9197,\n",
       " 'g_c': 1.938729840711197,\n",
       " 'gamma_0': -1.0115210754829587,\n",
       " 'gamma_1': 2.050284378198743,\n",
       " 'gamma_2': -0.43985781090063014,\n",
       " 'gamma_3': 0.4801421890993698,\n",
       " 'kappa': -1.1298578109006296,\n",
       " 'q': 0.04}"
      ]
     },
     "execution_count": 5,
     "metadata": {},
     "output_type": "execute_result"
    }
   ],
   "source": [
    "p = semicon.parameters.bulk(\n",
    "    bank='lawaetz',\n",
    "    material='InAs',\n",
    ")\n",
    "\n",
    "{k: p[k] for k in sorted(p)}"
   ]
  },
  {
   "cell_type": "markdown",
   "metadata": {},
   "source": [
    "## that can be avoid by renormalizing $P$ in a way that $\\gamma_0=1$"
   ]
  },
  {
   "cell_type": "code",
   "execution_count": 6,
   "metadata": {},
   "outputs": [
    {
     "data": {
      "text/plain": [
       "{'Delta_0': 0.38,\n",
       " 'E_0': 0.42,\n",
       " 'E_v': 0.0,\n",
       " 'P': 0.898668277801977,\n",
       " 'g_c': 1.181919931123545,\n",
       " 'gamma_0': 1,\n",
       " 'gamma_1': 2.8469263882910063,\n",
       " 'gamma_2': -0.04153680585449848,\n",
       " 'gamma_3': 0.8784631941455014,\n",
       " 'kappa': -0.731536805854498,\n",
       " 'q': 0.04}"
      ]
     },
     "execution_count": 6,
     "metadata": {},
     "output_type": "execute_result"
    }
   ],
   "source": [
    "p = semicon.parameters.bulk(\n",
    "    bank='lawaetz',\n",
    "    material='InAs',\n",
    "    new_gamma_0=1,\n",
    ")\n",
    "\n",
    "{k: p[k] for k in sorted(p)}"
   ]
  },
  {
   "cell_type": "markdown",
   "metadata": {},
   "source": [
    "## One can also set $P$ to desire value"
   ]
  },
  {
   "cell_type": "code",
   "execution_count": 7,
   "metadata": {},
   "outputs": [
    {
     "data": {
      "text/plain": [
       "{'Delta_0': 0.38,\n",
       " 'E_0': 0.42,\n",
       " 'E_v': 0.0,\n",
       " 'P': 0.8986682776955899,\n",
       " 'g_c': 1.1819199273395675,\n",
       " 'gamma_0': 1.0000000100574233,\n",
       " 'gamma_1': 2.846926392274142,\n",
       " 'gamma_2': -0.04153680386293068,\n",
       " 'gamma_3': 0.8784631961370692,\n",
       " 'kappa': -0.7315368038629302,\n",
       " 'q': 0.04}"
      ]
     },
     "execution_count": 7,
     "metadata": {},
     "output_type": "execute_result"
    }
   ],
   "source": [
    "p = semicon.parameters.bulk(\n",
    "    bank='lawaetz',\n",
    "    material='InAs',\n",
    "    new_P=0.89866827769558988,\n",
    ")\n",
    "\n",
    "{k: p[k] for k in sorted(p)}"
   ]
  },
  {
   "cell_type": "markdown",
   "metadata": {},
   "source": [
    "# 2DEG parameters"
   ]
  },
  {
   "cell_type": "code",
   "execution_count": 8,
   "metadata": {},
   "outputs": [],
   "source": [
    "%matplotlib inline"
   ]
  },
  {
   "cell_type": "code",
   "execution_count": 9,
   "metadata": {},
   "outputs": [],
   "source": [
    "grid_spacing = 0.5\n",
    "widths = [5, 12.5, 5, 5]\n",
    "gamma_0 = 1.0\n",
    "\n",
    "AlSb = semicon.parameters.bulk('lawaetz', 'AlSb', gamma_0, valence_band_offset=.18)\n",
    "InAs = semicon.parameters.bulk('lawaetz', 'InAs', gamma_0)\n",
    "GaSb = semicon.parameters.bulk('lawaetz', 'GaSb', gamma_0, valence_band_offset=.56)\n",
    "\n",
    "two_deg_params, walls = semicon.parameters.two_deg(\n",
    "    parameters = [AlSb, InAs, GaSb, AlSb],\n",
    "    widths = widths,\n",
    "    grid_spacing=grid_spacing,\n",
    "    extra_constants={'hbar': 1, 'e': 1},\n",
    ")"
   ]
  },
  {
   "cell_type": "code",
   "execution_count": 10,
   "metadata": {},
   "outputs": [
    {
     "data": {
      "image/png": "[encoded data removed]",
      "text/plain": [
       "<Figure size 1440x360 with 1 Axes>"
      ]
     },
     "metadata": {},
     "output_type": "display_data"
    }
   ],
   "source": [
    "import numpy as np\n",
    "\n",
    "xpos = np.arange(- 2 * grid_spacing, sum(widths) + 2 * grid_spacing, 0.5)\n",
    "semicon.parameters.plot_2deg_bandedges(two_deg_params, xpos, walls);"
   ]
  },
  {
   "cell_type": "markdown",
   "metadata": {},
   "source": [
    "# Provide parameters by hand"
   ]
  },
  {
   "cell_type": "code",
   "execution_count": 11,
   "metadata": {},
   "outputs": [],
   "source": [
    "# parmaters is dictionary where key is name and val a dict of parameters\n",
    "# using load_params simulate value that could be provided by user\n",
    "parameters = semicon.parameters.load_params('lawaetz')\n",
    "\n",
    "inp_AlSb = semicon.parameters.bulk(parameters, 'AlSb', gamma_0, valence_band_offset=.18)\n",
    "inp_InAs = semicon.parameters.bulk(parameters, 'InAs', gamma_0)\n",
    "inp_GaSb = semicon.parameters.bulk(parameters, 'GaSb', gamma_0, valence_band_offset=.56)\n",
    "\n",
    "assert all([AlSb == inp_AlSb, InAs == inp_InAs, GaSb == inp_GaSb])"
   ]
  },
  {
   "cell_type": "code",
   "execution_count": 12,
   "metadata": {},
   "outputs": [],
   "source": [
    "# parmaters is dictionary where key is name and val a dict of parameters\n",
    "# using load_params simulate value that could be provided by user\n",
    "parameters = semicon.parameters.load_params('lawaetz')\n",
    "\n",
    "inp_AlSb = semicon.parameters.bulk(parameters['AlSb'], new_gamma_0=gamma_0, valence_band_offset=.18)\n",
    "inp_InAs = semicon.parameters.bulk(parameters['InAs'], new_gamma_0=gamma_0)\n",
    "inp_GaSb = semicon.parameters.bulk(parameters['GaSb'], new_gamma_0=gamma_0, valence_band_offset=.56)\n",
    "\n",
    "assert all([AlSb == inp_AlSb, InAs == inp_InAs, GaSb == inp_GaSb])"
   ]
  }
 ],
 "metadata": {
  "kernelspec": {
   "display_name": "Python 3",
   "language": "python",
   "name": "python3"
  },
  "language_info": {
   "codemirror_mode": {
    "name": "ipython",
    "version": 3
   },
   "file_extension": ".py",
   "mimetype": "text/x-python",
   "name": "python",
   "nbconvert_exporter": "python",
   "pygments_lexer": "ipython3",
   "version": "3.6.5"
  }
 },
 "nbformat": 4,
 "nbformat_minor": 2
}
