{
 "cells": [
  {
   "cell_type": "code",
   "execution_count": 1,
   "metadata": {
    "collapsed": true
   },
   "outputs": [],
   "source": [
    "import semicon"
   ]
  },
  {
   "cell_type": "markdown",
   "metadata": {},
   "source": [
    "# load parameters as dataframe"
   ]
  },
  {
   "cell_type": "code",
   "execution_count": 2,
   "metadata": {},
   "outputs": [
    {
     "data": {
      "text/html": [
       "<div>\n",
       "<style>\n",
       "    .dataframe thead tr:only-child th {\n",
       "        text-align: right;\n",
       "    }\n",
       "\n",
       "    .dataframe thead th {\n",
       "        text-align: left;\n",
       "    }\n",
       "\n",
       "    .dataframe tbody tr th {\n",
       "        vertical-align: top;\n",
       "    }\n",
       "</style>\n",
       "<table border=\"1\" class=\"dataframe\">\n",
       "  <thead>\n",
       "    <tr style=\"text-align: right;\">\n",
       "      <th></th>\n",
       "      <th>E_0</th>\n",
       "      <th>Delta_0</th>\n",
       "      <th>P</th>\n",
       "      <th>m_c</th>\n",
       "      <th>g_c</th>\n",
       "      <th>gamma_1</th>\n",
       "      <th>gamma_2</th>\n",
       "      <th>gamma_3</th>\n",
       "      <th>kappa</th>\n",
       "      <th>q</th>\n",
       "    </tr>\n",
       "  </thead>\n",
       "  <tbody>\n",
       "    <tr>\n",
       "      <th>InAs</th>\n",
       "      <td>0.418</td>\n",
       "      <td>0.380</td>\n",
       "      <td>0.9197</td>\n",
       "      <td>0.0229</td>\n",
       "      <td>-14.900</td>\n",
       "      <td>20.40</td>\n",
       "      <td>8.30</td>\n",
       "      <td>9.10</td>\n",
       "      <td>7.60</td>\n",
       "      <td>0.39</td>\n",
       "    </tr>\n",
       "    <tr>\n",
       "      <th>AlSb</th>\n",
       "      <td>2.384</td>\n",
       "      <td>0.673</td>\n",
       "      <td>0.8463</td>\n",
       "      <td>0.1200</td>\n",
       "      <td>0.843</td>\n",
       "      <td>4.15</td>\n",
       "      <td>1.01</td>\n",
       "      <td>1.71</td>\n",
       "      <td>0.31</td>\n",
       "      <td>0.07</td>\n",
       "    </tr>\n",
       "    <tr>\n",
       "      <th>InSb</th>\n",
       "      <td>0.237</td>\n",
       "      <td>0.810</td>\n",
       "      <td>0.9641</td>\n",
       "      <td>0.0139</td>\n",
       "      <td>-51.560</td>\n",
       "      <td>37.10</td>\n",
       "      <td>16.50</td>\n",
       "      <td>17.70</td>\n",
       "      <td>15.60</td>\n",
       "      <td>0.39</td>\n",
       "    </tr>\n",
       "  </tbody>\n",
       "</table>\n",
       "</div>"
      ],
      "text/plain": [
       "        E_0  Delta_0       P     m_c     g_c  gamma_1  gamma_2  gamma_3  \\\n",
       "InAs  0.418    0.380  0.9197  0.0229 -14.900    20.40     8.30     9.10   \n",
       "AlSb  2.384    0.673  0.8463  0.1200   0.843     4.15     1.01     1.71   \n",
       "InSb  0.237    0.810  0.9641  0.0139 -51.560    37.10    16.50    17.70   \n",
       "\n",
       "      kappa     q  \n",
       "InAs   7.60  0.39  \n",
       "AlSb   0.31  0.07  \n",
       "InSb  15.60  0.39  "
      ]
     },
     "execution_count": 2,
     "metadata": {},
     "output_type": "execute_result"
    }
   ],
   "source": [
    "semicon.parameters.load_params('winkler')"
   ]
  },
  {
   "cell_type": "code",
   "execution_count": 3,
   "metadata": {},
   "outputs": [
    {
     "data": {
      "text/html": [
       "<div>\n",
       "<style>\n",
       "    .dataframe thead tr:only-child th {\n",
       "        text-align: right;\n",
       "    }\n",
       "\n",
       "    .dataframe thead th {\n",
       "        text-align: left;\n",
       "    }\n",
       "\n",
       "    .dataframe tbody tr th {\n",
       "        vertical-align: top;\n",
       "    }\n",
       "</style>\n",
       "<table border=\"1\" class=\"dataframe\">\n",
       "  <thead>\n",
       "    <tr style=\"text-align: right;\">\n",
       "      <th></th>\n",
       "      <th>E_0</th>\n",
       "      <th>Delta_0</th>\n",
       "      <th>P</th>\n",
       "      <th>m_c</th>\n",
       "      <th>g_c</th>\n",
       "      <th>gamma_1</th>\n",
       "      <th>gamma_2</th>\n",
       "      <th>gamma_3</th>\n",
       "      <th>kappa</th>\n",
       "      <th>q</th>\n",
       "    </tr>\n",
       "  </thead>\n",
       "  <tbody>\n",
       "    <tr>\n",
       "      <th>AlSb</th>\n",
       "      <td>2.30</td>\n",
       "      <td>0.75</td>\n",
       "      <td>0.8441</td>\n",
       "      <td>0.180</td>\n",
       "      <td>0.52</td>\n",
       "      <td>4.15</td>\n",
       "      <td>1.01</td>\n",
       "      <td>1.75</td>\n",
       "      <td>0.31</td>\n",
       "      <td>0.07</td>\n",
       "    </tr>\n",
       "    <tr>\n",
       "      <th>GaSb</th>\n",
       "      <td>0.81</td>\n",
       "      <td>0.77</td>\n",
       "      <td>0.9238</td>\n",
       "      <td>0.045</td>\n",
       "      <td>-7.12</td>\n",
       "      <td>11.80</td>\n",
       "      <td>4.03</td>\n",
       "      <td>5.26</td>\n",
       "      <td>3.18</td>\n",
       "      <td>0.13</td>\n",
       "    </tr>\n",
       "    <tr>\n",
       "      <th>InAs</th>\n",
       "      <td>0.42</td>\n",
       "      <td>0.38</td>\n",
       "      <td>0.9197</td>\n",
       "      <td>0.023</td>\n",
       "      <td>-14.80</td>\n",
       "      <td>19.67</td>\n",
       "      <td>8.37</td>\n",
       "      <td>9.29</td>\n",
       "      <td>7.68</td>\n",
       "      <td>0.04</td>\n",
       "    </tr>\n",
       "  </tbody>\n",
       "</table>\n",
       "</div>"
      ],
      "text/plain": [
       "       E_0  Delta_0       P    m_c    g_c  gamma_1  gamma_2  gamma_3  kappa  \\\n",
       "AlSb  2.30     0.75  0.8441  0.180   0.52     4.15     1.01     1.75   0.31   \n",
       "GaSb  0.81     0.77  0.9238  0.045  -7.12    11.80     4.03     5.26   3.18   \n",
       "InAs  0.42     0.38  0.9197  0.023 -14.80    19.67     8.37     9.29   7.68   \n",
       "\n",
       "         q  \n",
       "AlSb  0.07  \n",
       "GaSb  0.13  \n",
       "InAs  0.04  "
      ]
     },
     "execution_count": 3,
     "metadata": {},
     "output_type": "execute_result"
    }
   ],
   "source": [
    "semicon.parameters.load_params('lawaetz')"
   ]
  },
  {
   "cell_type": "markdown",
   "metadata": {},
   "source": [
    "# bulk parameters"
   ]
  },
  {
   "cell_type": "code",
   "execution_count": 4,
   "metadata": {},
   "outputs": [
    {
     "data": {
      "text/plain": [
       "{'Delta_0': 0.38,\n",
       " 'E_0': 0.41999999999999998,\n",
       " 'P': 0.89866827778003733,\n",
       " 'g_c': 1.1819199311235469,\n",
       " 'gamma_0': 1,\n",
       " 'gamma_1': 2.8469263882910028,\n",
       " 'gamma_2': -0.041536805854500258,\n",
       " 'gamma_3': 0.87846319414549967,\n",
       " 'kappa': -0.73153680585449976,\n",
       " 'q': 0.040000000000000001}"
      ]
     },
     "execution_count": 4,
     "metadata": {},
     "output_type": "execute_result"
    }
   ],
   "source": [
    "semicon.parameters.bulk(\n",
    "    bank='lawaetz',\n",
    "    material='InAs',\n",
    "    new_gamma_0=1,\n",
    ")"
   ]
  },
  {
   "cell_type": "markdown",
   "metadata": {},
   "source": [
    "# 2DEG parameters"
   ]
  },
  {
   "cell_type": "code",
   "execution_count": 5,
   "metadata": {},
   "outputs": [],
   "source": [
    "grid_spacing = 0.5\n",
    "widths = [5, 12.5, 5, 5]\n",
    "\n",
    "two_deg_params, walls = semicon.parameters.two_deg(\n",
    "    bank='lawaetz',\n",
    "    materials=['AlSb', 'InAs', 'GaSb', 'AlSb'],\n",
    "    widths=widths,\n",
    "    valence_band_offsets=[.18, .0, .56, .18],\n",
    "    grid_spacing=0.5,\n",
    "    new_gamma_0=0.5,\n",
    "    extra_constants={'hbar': 1, 'e': 1},\n",
    "#     bands=bands,\n",
    ")"
   ]
  },
  {
   "cell_type": "code",
   "execution_count": 6,
   "metadata": {},
   "outputs": [
    {
     "data": {
      "image/png": "[encoded data removed]",
      "text/plain": [
       "<matplotlib.figure.Figure at 0x7fecd137a748>"
      ]
     },
     "execution_count": 6,
     "metadata": {},
     "output_type": "execute_result"
    }
   ],
   "source": [
    "import numpy as np\n",
    "\n",
    "xpos = np.arange(- 2 * grid_spacing, sum(widths) + 2 * grid_spacing, 0.5)\n",
    "semicon.parameters.plot_2deg_bandedges(two_deg_params, xpos, walls)"
   ]
  }
 ],
 "metadata": {
  "kernelspec": {
   "display_name": "Python 3",
   "language": "python",
   "name": "python3"
  },
  "language_info": {
   "codemirror_mode": {
    "name": "ipython",
    "version": 3
   },
   "file_extension": ".py",
   "mimetype": "text/x-python",
   "name": "python",
   "nbconvert_exporter": "python",
   "pygments_lexer": "ipython3",
   "version": "3.5.2"
  }
 },
 "nbformat": 4,
 "nbformat_minor": 2
}
