{
 "cells": [
  {
   "cell_type": "code",
   "execution_count": 1,
   "metadata": {},
   "outputs": [],
   "source": [
    "import semicon\n",
    "from semicon.misc import prettify"
   ]
  },
  {
   "cell_type": "code",
   "execution_count": 2,
   "metadata": {},
   "outputs": [
    {
     "data": {
      "text/plain": [
       "'1.2.0.dev0+10233db'"
      ]
     },
     "execution_count": 2,
     "metadata": {},
     "output_type": "execute_result"
    }
   ],
   "source": [
    "import scipy\n",
    "scipy.__version__"
   ]
  },
  {
   "cell_type": "code",
   "execution_count": 3,
   "metadata": {},
   "outputs": [],
   "source": [
    "import kwant\n",
    "\n",
    "import numpy as np\n",
    "import sympy\n",
    "sympy.init_printing(print_builtin=False)"
   ]
  },
  {
   "cell_type": "markdown",
   "metadata": {},
   "source": [
    "# proof of concept\n",
    "\n",
    "* R rotation from x, y, z to x', y', z'\n",
    "* n corresponding rotation vector\n",
    "* primed coordinates: crystalographic axes (Hamiltionian is defined in this coordinates)\n",
    "* non-primed coordinates: simulation coordinate system\n",
    "\n",
    "Coordinate transformation:\n",
    "\n",
    "$\n",
    "\\begin{pmatrix}\n",
    "x^\\prime \\\\\n",
    "y^\\prime \\\\\n",
    "z^\\prime \\\\\n",
    "\\end{pmatrix}\n",
    "= R\n",
    "\\begin{pmatrix}\n",
    "x \\\\\n",
    "y \\\\\n",
    "z \\\\\n",
    "\\end{pmatrix}\n",
    "$\n",
    "\n",
    "with corresponding unitary part:\n",
    "$\n",
    "U = \\exp(\\textrm{i} \\, \\vec{n} \\cdot \\vec{S})\n",
    "$"
   ]
  },
  {
   "cell_type": "markdown",
   "metadata": {},
   "source": [
    "## test Hamiltonian"
   ]
  },
  {
   "cell_type": "code",
   "execution_count": 4,
   "metadata": {},
   "outputs": [],
   "source": [
    "tmp = \"alpha_{0} * k_{0} * sigma_{0}\"\n",
    "sx, sy, sz = sympy.symbols('sigma_x sigma_y sigma_z')\n",
    "\n",
    "ham1 = kwant.continuum.sympify(\n",
    "    \" + \".join(tmp.format(s) for s in ['x', 'y', 'z']),\n",
    "    locals={'sigma_x': sx, 'sigma_y': sy, 'sigma_z': sz}\n",
    "\n",
    ")\n",
    "\n",
    "ham2 = kwant.continuum.sympify(\" + \".join(tmp.format(s) for s in ['x', 'y', 'z']))"
   ]
  },
  {
   "cell_type": "code",
   "execution_count": 5,
   "metadata": {},
   "outputs": [
    {
     "data": {
      "image/png": "[encoded data removed]",
      "text/latex": [
       "$$\\alpha_{x} \\sigma_{x} k_{x} + \\alpha_{y} \\sigma_{y} k_{y} + \\alpha_{z} \\sigma_{z} k_{z}$$"
      ],
      "text/plain": [
       "αₓ⋅σₓ⋅kₓ + α_y⋅σ_y⋅k_y + α_z⋅σ_z⋅k_z"
      ]
     },
     "execution_count": 5,
     "metadata": {},
     "output_type": "execute_result"
    }
   ],
   "source": [
    "ham1"
   ]
  },
  {
   "cell_type": "code",
   "execution_count": 6,
   "metadata": {},
   "outputs": [
    {
     "data": {
      "text/latex": [
       "$$\\left[\\begin{matrix}\\alpha_{z} k_{z} & \\alpha_{x} k_{x} - i \\alpha_{y} k_{y}\\\\\\alpha_{x} k_{x} + i \\alpha_{y} k_{y} & - \\alpha_{z} k_{z}\\end{matrix}\\right]$$"
      ],
      "text/plain": [
       "⎡     α_z⋅k_z       αₓ⋅kₓ - ⅈ⋅α_y⋅k_y⎤\n",
       "⎢                                    ⎥\n",
       "⎣αₓ⋅kₓ + ⅈ⋅α_y⋅k_y      -α_z⋅k_z     ⎦"
      ]
     },
     "execution_count": 6,
     "metadata": {},
     "output_type": "execute_result"
    }
   ],
   "source": [
    "ham2"
   ]
  },
  {
   "cell_type": "markdown",
   "metadata": {},
   "source": [
    "## Define rotation"
   ]
  },
  {
   "cell_type": "code",
   "execution_count": 7,
   "metadata": {},
   "outputs": [],
   "source": [
    "import scipy.linalg as la\n",
    "from scipy.spatial.transform import Rotation\n",
    "\n",
    "\n",
    "def tmp_rotate(expr, R):\n",
    "    def rotation_subs(R, v):\n",
    "        return {cprime: c for (cprime, c) in zip(v, R @ v)}\n",
    "\n",
    "    subs = rotation_subs(R, sympy.Matrix(kwant.continuum.momentum_operators))\n",
    "    subs.update(rotation_subs(R, sympy.Matrix([sx, sy, sz])))\n",
    "\n",
    "    return expr.subs(subs, simultaneous=True).expand()\n"
   ]
  },
  {
   "cell_type": "code",
   "execution_count": 8,
   "metadata": {},
   "outputs": [],
   "source": [
    "sigma_x = np.array([[0, 1], [1, 0]])\n",
    "sigma_y = np.array([[0, -1j], [1j, 0]])\n",
    "sigma_z = np.array([[1, 0], [0, -1]])\n",
    "\n",
    "spin_operators = [sigma_x / 2, sigma_y / 2, sigma_z / 2]\n",
    "\n",
    "\n",
    "R = np.array([[0, -1, 0],\n",
    "              [+1, 0, 0],\n",
    "              [0, 0, 1]])\n",
    "\n",
    "n = Rotation.from_dcm(R).as_rotvec()\n",
    "\n",
    "ns = np.sum([ni * si for (ni, si) in zip(n, spin_operators)], axis=0)\n",
    "U = la.expm(1j * ns)"
   ]
  },
  {
   "cell_type": "code",
   "execution_count": 9,
   "metadata": {},
   "outputs": [
    {
     "data": {
      "text/plain": [
       "1.0"
      ]
     },
     "execution_count": 9,
     "metadata": {},
     "output_type": "execute_result"
    }
   ],
   "source": [
    "la.det(R)"
   ]
  },
  {
   "cell_type": "markdown",
   "metadata": {},
   "source": [
    "## apply test rotation 1"
   ]
  },
  {
   "cell_type": "code",
   "execution_count": 10,
   "metadata": {},
   "outputs": [
    {
     "data": {
      "image/png": "[encoded data removed]",
      "text/latex": [
       "$$\\alpha_{x} \\sigma_{y} k_{y} + \\alpha_{y} \\sigma_{x} k_{x} + \\alpha_{z} \\sigma_{z} k_{z}$$"
      ],
      "text/plain": [
       "αₓ⋅σ_y⋅k_y + α_y⋅σₓ⋅kₓ + α_z⋅σ_z⋅k_z"
      ]
     },
     "execution_count": 10,
     "metadata": {},
     "output_type": "execute_result"
    }
   ],
   "source": [
    "s = tmp_rotate(ham1, R); s"
   ]
  },
  {
   "cell_type": "markdown",
   "metadata": {},
   "source": [
    "## apply test rotation 2"
   ]
  },
  {
   "cell_type": "code",
   "execution_count": 11,
   "metadata": {},
   "outputs": [
    {
     "data": {
      "text/latex": [
       "$$\\left[\\begin{matrix}\\alpha_{z} k_{z} & - \\alpha_{x} k_{y} - i \\alpha_{y} k_{x}\\\\- \\alpha_{x} k_{y} + i \\alpha_{y} k_{x} & - \\alpha_{z} k_{z}\\end{matrix}\\right]$$"
      ],
      "text/plain": [
       "⎡     α_z⋅k_z        -αₓ⋅k_y - ⅈ⋅α_y⋅kₓ⎤\n",
       "⎢                                      ⎥\n",
       "⎣-αₓ⋅k_y + ⅈ⋅α_y⋅kₓ       -α_z⋅k_z     ⎦"
      ]
     },
     "execution_count": 11,
     "metadata": {},
     "output_type": "execute_result"
    }
   ],
   "source": [
    "t = tmp_rotate(ham2, R); t"
   ]
  },
  {
   "cell_type": "code",
   "execution_count": 12,
   "metadata": {},
   "outputs": [
    {
     "data": {
      "text/latex": [
       "$$\\left[\\begin{matrix}1.0 \\alpha_{z} k_{z} & - 1.0 i \\alpha_{x} k_{y} + 1.0 \\alpha_{y} k_{x}\\\\1.0 i \\alpha_{x} k_{y} + 1.0 \\alpha_{y} k_{x} & - 1.0 \\alpha_{z} k_{z}\\end{matrix}\\right]$$"
      ],
      "text/plain": [
       "⎡       1.0⋅α_z⋅k_z         -1.0⋅ⅈ⋅αₓ⋅k_y + 1.0⋅α_y⋅kₓ⎤\n",
       "⎢                                                     ⎥\n",
       "⎣1.0⋅ⅈ⋅αₓ⋅k_y + 1.0⋅α_y⋅kₓ         -1.0⋅α_z⋅k_z       ⎦"
      ]
     },
     "execution_count": 12,
     "metadata": {},
     "output_type": "execute_result"
    }
   ],
   "source": [
    "t = prettify(U @ t @ U.transpose().conjugate(), decimals=12); t"
   ]
  },
  {
   "cell_type": "markdown",
   "metadata": {},
   "source": [
    "## test "
   ]
  },
  {
   "cell_type": "code",
   "execution_count": 13,
   "metadata": {},
   "outputs": [
    {
     "data": {
      "text/latex": [
       "$$\\left[\\begin{matrix}0 & 0\\\\0 & 0\\end{matrix}\\right]$$"
      ],
      "text/plain": [
       "⎡0  0⎤\n",
       "⎢    ⎥\n",
       "⎣0  0⎦"
      ]
     },
     "execution_count": 13,
     "metadata": {},
     "output_type": "execute_result"
    }
   ],
   "source": [
    "prettify(sympy.expand(kwant.continuum.sympify(str(s)) - t), decimals=12)"
   ]
  },
  {
   "cell_type": "markdown",
   "metadata": {},
   "source": [
    "## test with implemented functions"
   ]
  },
  {
   "cell_type": "code",
   "execution_count": 14,
   "metadata": {},
   "outputs": [
    {
     "data": {
      "text/latex": [
       "$$\\left[\\begin{matrix}1.0 \\alpha_{z} k_{z} & - 1.0 i \\alpha_{x} k_{y} + 1.0 \\alpha_{y} k_{x}\\\\1.0 i \\alpha_{x} k_{y} + 1.0 \\alpha_{y} k_{x} & - 1.0 \\alpha_{z} k_{z}\\end{matrix}\\right]$$"
      ],
      "text/plain": [
       "⎡       1.0⋅α_z⋅k_z         -1.0⋅ⅈ⋅αₓ⋅k_y + 1.0⋅α_y⋅kₓ⎤\n",
       "⎢                                                     ⎥\n",
       "⎣1.0⋅ⅈ⋅αₓ⋅k_y + 1.0⋅α_y⋅kₓ         -1.0⋅α_z⋅k_z       ⎦"
      ]
     },
     "execution_count": 14,
     "metadata": {},
     "output_type": "execute_result"
    }
   ],
   "source": [
    "S = kwant.continuum.sympify(\"[[sigma_x, sigma_y, sigma_z]]\") / 2\n",
    "\n",
    "t = semicon.misc.rotate_symbols(ham2, R)\n",
    "U = semicon.misc.basis_rotation(R, S)\n",
    "\n",
    "t = semicon.misc.prettify(U @ t @ U.transpose().conjugate(), decimals=12); t"
   ]
  },
  {
   "cell_type": "code",
   "execution_count": 16,
   "metadata": {},
   "outputs": [
    {
     "data": {
      "text/latex": [
       "$$\\left[\\begin{matrix}0 & 0\\\\0 & 0\\end{matrix}\\right]$$"
      ],
      "text/plain": [
       "⎡0  0⎤\n",
       "⎢    ⎥\n",
       "⎣0  0⎦"
      ]
     },
     "execution_count": 16,
     "metadata": {},
     "output_type": "execute_result"
    }
   ],
   "source": [
    "semicon.misc.prettify(sympy.expand(kwant.continuum.sympify(str(s)) - t), decimals=12)"
   ]
  },
  {
   "cell_type": "markdown",
   "metadata": {},
   "source": [
    "# on kp ham"
   ]
  },
  {
   "cell_type": "code",
   "execution_count": 17,
   "metadata": {},
   "outputs": [],
   "source": [
    "def rotation110_matrix(xi='0'):\n",
    "    sin = sympy.sin(xi)\n",
    "    cos = sympy.cos(xi)\n",
    "    sqrt2 = sympy.sqrt(2)\n",
    "    matrix = sympy.Matrix([[+ sin / sqrt2, + cos / sqrt2, 1 / sqrt2],\n",
    "                           [- sin / sqrt2, - cos / sqrt2, 1 / sqrt2],\n",
    "                           [cos, - sin, 0]])\n",
    "    return matrix\n",
    "\n",
    "R = rotation110_matrix()"
   ]
  },
  {
   "cell_type": "code",
   "execution_count": 18,
   "metadata": {},
   "outputs": [],
   "source": [
    "import semicon\n",
    "\n",
    "bands = ('gamma_8v', )\n",
    "kpham = semicon.models.foreman(bands=bands)\n",
    "S = semicon.models.spin_operators(bands=bands)\n",
    "ham = semicon.models.rotate(kpham, R, S)"
   ]
  },
  {
   "cell_type": "code",
   "execution_count": 19,
   "metadata": {},
   "outputs": [
    {
     "data": {
      "image/png": "[encoded data removed]",
      "text/latex": [
       "$$\\frac{\\sqrt{3} \\gamma_{3} \\hbar^{2} k_{x}}{2 m_{0}} k_{z} - \\frac{\\sqrt{3} i \\gamma_{3} \\hbar^{2}}{2 m_{0}} k_{y} k_{z} + \\frac{\\sqrt{3} \\gamma_{3} \\hbar^{2} k_{z}}{2 m_{0}} k_{x} - \\frac{\\sqrt{3} i \\gamma_{3} \\hbar^{2}}{2 m_{0}} k_{z} k_{y} + \\frac{\\sqrt{3} \\hbar^{2} \\kappa k_{x}}{2 m_{0}} k_{z} - \\frac{\\sqrt{3} i \\hbar^{2} \\kappa}{2 m_{0}} k_{y} k_{z} - \\frac{\\sqrt{3} \\hbar^{2} \\kappa k_{z}}{2 m_{0}} k_{x} + \\frac{\\sqrt{3} i \\hbar^{2} \\kappa}{2 m_{0}} k_{z} k_{y} + \\frac{\\sqrt{3} \\hbar^{2} k_{x} k_{z}}{6 m_{0}} - \\frac{\\sqrt{3} i \\hbar^{2} k_{y}}{6 m_{0}} k_{z} - \\frac{\\sqrt{3} \\hbar^{2} k_{z} k_{x}}{6 m_{0}} + \\frac{\\sqrt{3} i \\hbar^{2} k_{z}}{6 m_{0}} k_{y}$$"
      ],
      "text/plain": [
       "        2                    2                   2                    2       \n",
       "√3⋅γ₃⋅h̅ ⋅kₓ⋅k_z   √3⋅ⅈ⋅γ₃⋅h̅ ⋅k_y⋅k_z   √3⋅γ₃⋅h̅ ⋅k_z⋅kₓ   √3⋅ⅈ⋅γ₃⋅h̅ ⋅k_z⋅k_\n",
       "──────────────── - ─────────────────── + ──────────────── - ──────────────────\n",
       "      2⋅m₀                 2⋅m₀                2⋅m₀                 2⋅m₀      \n",
       "\n",
       "         2                   2                  2                   2         \n",
       "y   √3⋅h̅ ⋅κ⋅kₓ⋅k_z   √3⋅ⅈ⋅h̅ ⋅κ⋅k_y⋅k_z   √3⋅h̅ ⋅κ⋅k_z⋅kₓ   √3⋅ⅈ⋅h̅ ⋅κ⋅k_z⋅k_\n",
       "─ + ─────────────── - ────────────────── - ─────────────── + ─────────────────\n",
       "          2⋅m₀               2⋅m₀                2⋅m₀               2⋅m₀      \n",
       "\n",
       "         2                 2                2                 2        \n",
       "y   √3⋅h̅ ⋅kₓ⋅k_z   √3⋅ⅈ⋅h̅ ⋅k_y⋅k_z   √3⋅h̅ ⋅k_z⋅kₓ   √3⋅ⅈ⋅h̅ ⋅k_z⋅k_y\n",
       "─ + ───────────── - ──────────────── - ───────────── + ────────────────\n",
       "         6⋅m₀             6⋅m₀              6⋅m₀             6⋅m₀      "
      ]
     },
     "execution_count": 19,
     "metadata": {},
     "output_type": "execute_result"
    }
   ],
   "source": [
    "kpham[0, 1]"
   ]
  },
  {
   "cell_type": "code",
   "execution_count": 21,
   "metadata": {},
   "outputs": [],
   "source": [
    "e = ham[0, 1]"
   ]
  },
  {
   "cell_type": "code",
   "execution_count": 22,
   "metadata": {},
   "outputs": [
    {
     "data": {
      "image/png": "[encoded data removed]",
      "text/latex": [
       "$$1.38777878078145 \\cdot 10^{-16} E_{v} + 1.38777878078145 \\cdot 10^{-17} i E_{v} - \\frac{\\gamma_{1} \\hbar^{2}}{m_{0}} 6.93889390390723 \\cdot 10^{-17} k_{x}^{2} - \\frac{i \\gamma_{1}}{m_{0}} 6.93889390390723 \\cdot 10^{-18} \\hbar^{2} k_{x}^{2} - \\frac{\\gamma_{1} \\hbar^{2}}{m_{0}} 6.93889390390723 \\cdot 10^{-17} k_{y}^{2} - \\frac{i \\gamma_{1}}{m_{0}} 6.93889390390723 \\cdot 10^{-18} \\hbar^{2} k_{y}^{2} - \\frac{\\gamma_{1} \\hbar^{2}}{m_{0}} 6.93889390390723 \\cdot 10^{-17} k_{z}^{2} - \\frac{i \\gamma_{1}}{m_{0}} 6.93889390390723 \\cdot 10^{-18} \\hbar^{2} k_{z}^{2} + \\frac{\\gamma_{2} \\hbar^{2}}{m_{0}} 3.60822483003176 \\cdot 10^{-16} k_{x}^{2} + \\frac{i \\gamma_{2}}{m_{0}} 2.63677968348475 \\cdot 10^{-16} \\hbar^{2} k_{x}^{2} + \\frac{\\sqrt{3} \\gamma_{2}}{m_{0}} 1.04083408558608 \\cdot 10^{-16} \\hbar^{2} k_{y} k_{z} - \\frac{0.5 i}{m_{0}} \\sqrt{3} \\gamma_{2} \\hbar^{2} k_{y} k_{z} - \\frac{\\gamma_{2} \\hbar^{2}}{m_{0}} 1.80411241501588 \\cdot 10^{-16} k_{y}^{2} - \\frac{i \\gamma_{2}}{m_{0}} 1.31838984174237 \\cdot 10^{-16} \\hbar^{2} k_{y}^{2} + \\frac{\\sqrt{3} \\gamma_{2}}{m_{0}} 1.04083408558608 \\cdot 10^{-16} \\hbar^{2} k_{z} k_{y} - \\frac{0.5 i}{m_{0}} \\sqrt{3} \\gamma_{2} \\hbar^{2} k_{z} k_{y} - \\frac{\\gamma_{2} \\hbar^{2}}{m_{0}} 1.80411241501588 \\cdot 10^{-16} k_{z}^{2} - \\frac{i \\gamma_{2}}{m_{0}} 1.31838984174237 \\cdot 10^{-16} \\hbar^{2} k_{z}^{2} - \\frac{\\sqrt{6} \\gamma_{3}}{m_{0}} 1.42247325030098 \\cdot 10^{-16} \\hbar^{2} k_{x} k_{y} - \\frac{i \\gamma_{3}}{m_{0}} 1.87350135405495 \\cdot 10^{-16} \\sqrt{6} \\hbar^{2} k_{x} k_{y} + \\frac{0.353553390593274 \\gamma_{3}}{m_{0}} \\sqrt{6} \\hbar^{2} k_{x} k_{z} + \\frac{i \\gamma_{3}}{m_{0}} 6.59194920871187 \\cdot 10^{-17} \\sqrt{6} \\hbar^{2} k_{x} k_{z} - \\frac{\\sqrt{6} \\gamma_{3}}{m_{0}} 1.42247325030098 \\cdot 10^{-16} \\hbar^{2} k_{y} k_{x} - \\frac{i \\gamma_{3}}{m_{0}} 1.87350135405495 \\cdot 10^{-16} \\sqrt{6} \\hbar^{2} k_{y} k_{x} + \\frac{\\sqrt{3} \\gamma_{3}}{m_{0}} 1.66533453693773 \\cdot 10^{-16} \\hbar^{2} k_{y}^{2} + \\frac{i \\gamma_{3}}{m_{0}} 2.56739074444567 \\cdot 10^{-16} \\sqrt{3} \\hbar^{2} k_{y}^{2} + \\frac{0.353553390593274 \\gamma_{3}}{m_{0}} \\sqrt{6} \\hbar^{2} k_{z} k_{x} + \\frac{i \\gamma_{3}}{m_{0}} 6.59194920871187 \\cdot 10^{-17} \\sqrt{6} \\hbar^{2} k_{z} k_{x} - \\frac{\\sqrt{3} \\gamma_{3}}{m_{0}} 1.66533453693773 \\cdot 10^{-16} \\hbar^{2} k_{z}^{2} - \\frac{i \\gamma_{3}}{m_{0}} 2.56739074444567 \\cdot 10^{-16} \\sqrt{3} \\hbar^{2} k_{z}^{2} - \\frac{\\sqrt{6} \\kappa}{m_{0}} 6.59194920871187 \\cdot 10^{-17} \\hbar^{2} k_{x} k_{y} - \\frac{\\sqrt{2} \\kappa}{m_{0}} 7.63278329429795 \\cdot 10^{-17} \\hbar^{2} k_{x} k_{y} - \\frac{i \\kappa}{m_{0}} 1.45716771982052 \\cdot 10^{-16} \\sqrt{6} \\hbar^{2} k_{x} k_{y} + \\frac{i \\kappa}{m_{0}} 2.77555756156289 \\cdot 10^{-16} \\sqrt{2} \\hbar^{2} k_{x} k_{y} + \\frac{0.176776695296637 \\kappa}{m_{0}} \\sqrt{6} \\hbar^{2} k_{x} k_{z} + \\frac{0.306186217847897 \\kappa}{m_{0}} \\sqrt{2} \\hbar^{2} k_{x} k_{z} - \\frac{i \\kappa}{m_{0}} 9.0205620750794 \\cdot 10^{-17} \\sqrt{2} \\hbar^{2} k_{x} k_{z} + \\frac{i \\kappa}{m_{0}} 1.14491749414469 \\cdot 10^{-16} \\sqrt{6} \\hbar^{2} k_{x} k_{z} + \\frac{\\sqrt{2} \\kappa}{m_{0}} 7.63278329429795 \\cdot 10^{-17} \\hbar^{2} k_{y} k_{x} + \\frac{\\sqrt{6} \\kappa}{m_{0}} 6.59194920871187 \\cdot 10^{-17} \\hbar^{2} k_{y} k_{x} - \\frac{i \\kappa}{m_{0}} 2.77555756156289 \\cdot 10^{-16} \\sqrt{2} \\hbar^{2} k_{y} k_{x} + \\frac{i \\kappa}{m_{0}} 1.45716771982052 \\cdot 10^{-16} \\sqrt{6} \\hbar^{2} k_{y} k_{x} + \\frac{\\hbar^{2} \\kappa}{m_{0}} 1.73472347597681 \\cdot 10^{-16} k_{y} k_{z} - \\frac{0.866025403784439 i}{m_{0}} \\hbar^{2} \\kappa k_{y} k_{z} - \\frac{0.306186217847897 \\kappa}{m_{0}} \\sqrt{2} \\hbar^{2} k_{z} k_{x} - \\frac{0.176776695296637 \\kappa}{m_{0}} \\sqrt{6} \\hbar^{2} k_{z} k_{x} - \\frac{i \\kappa}{m_{0}} 1.14491749414469 \\cdot 10^{-16} \\sqrt{6} \\hbar^{2} k_{z} k_{x} + \\frac{i \\kappa}{m_{0}} 9.0205620750794 \\cdot 10^{-17} \\sqrt{2} \\hbar^{2} k_{z} k_{x} - \\frac{\\hbar^{2} \\kappa}{m_{0}} 1.73472347597681 \\cdot 10^{-16} k_{z} k_{y} + \\frac{0.866025403784439 i}{m_{0}} \\hbar^{2} \\kappa k_{z} k_{y} - \\frac{\\sqrt{6} \\hbar^{2}}{m_{0}} 2.51534904016637 \\cdot 10^{-17} k_{x} k_{y} - \\frac{\\sqrt{2} \\hbar^{2}}{m_{0}} 2.08166817117217 \\cdot 10^{-17} k_{x} k_{y} - \\frac{\\sqrt{6} i}{m_{0}} 4.16333634234434 \\cdot 10^{-17} \\hbar^{2} k_{x} k_{y} + \\frac{\\sqrt{2} i}{m_{0}} 9.71445146547012 \\cdot 10^{-17} \\hbar^{2} k_{x} k_{y} + \\frac{0.058925565098879 \\sqrt{6}}{m_{0}} \\hbar^{2} k_{x} k_{z} + \\frac{0.102062072615966 \\sqrt{2}}{m_{0}} \\hbar^{2} k_{x} k_{z} - \\frac{\\sqrt{2} i}{m_{0}} 3.46944695195361 \\cdot 10^{-17} \\hbar^{2} k_{x} k_{z} + \\frac{\\sqrt{6} i}{m_{0}} 3.72965547335014 \\cdot 10^{-17} \\hbar^{2} k_{x} k_{z} + \\frac{\\sqrt{2} \\hbar^{2}}{m_{0}} 2.08166817117217 \\cdot 10^{-17} k_{y} k_{x} + \\frac{\\sqrt{6} \\hbar^{2}}{m_{0}} 2.51534904016637 \\cdot 10^{-17} k_{y} k_{x} - \\frac{\\sqrt{2} i}{m_{0}} 9.71445146547012 \\cdot 10^{-17} \\hbar^{2} k_{y} k_{x} + \\frac{\\sqrt{6} i}{m_{0}} 4.16333634234434 \\cdot 10^{-17} \\hbar^{2} k_{y} k_{x} + \\frac{\\hbar^{2} k_{y}}{m_{0}} 5.72458747072346 \\cdot 10^{-17} k_{z} - \\frac{0.288675134594813 i}{m_{0}} \\hbar^{2} k_{y} k_{z} - \\frac{0.102062072615966 \\sqrt{2}}{m_{0}} \\hbar^{2} k_{z} k_{x} - \\frac{0.058925565098879 \\sqrt{6}}{m_{0}} \\hbar^{2} k_{z} k_{x} - \\frac{\\sqrt{6} i}{m_{0}} 3.72965547335014 \\cdot 10^{-17} \\hbar^{2} k_{z} k_{x} + \\frac{\\sqrt{2} i}{m_{0}} 3.46944695195361 \\cdot 10^{-17} \\hbar^{2} k_{z} k_{x} - \\frac{\\hbar^{2} k_{z}}{m_{0}} 5.72458747072346 \\cdot 10^{-17} k_{y} + \\frac{0.288675134594813 i}{m_{0}} \\hbar^{2} k_{z} k_{y}$$"
      ],
      "text/plain": [
       "                                                                              \n",
       "                                                      6.93889390390723e-17⋅γ₁⋅\n",
       "1.38777878078145e-16⋅Eᵥ + 1.38777878078145e-17⋅ⅈ⋅Eᵥ - ────────────────────────\n",
       "                                                                     m₀       \n",
       "\n",
       "  2   2                               2   2                             2    2\n",
       "h̅ ⋅kₓ    6.93889390390723e-18⋅ⅈ⋅γ₁⋅h̅ ⋅kₓ    6.93889390390723e-17⋅γ₁⋅h̅ ⋅k_y \n",
       "─────── - ───────────────────────────────── - ────────────────────────────────\n",
       "                          m₀                                 m₀               \n",
       "\n",
       "                               2    2                             2    2      \n",
       "   6.93889390390723e-18⋅ⅈ⋅γ₁⋅h̅ ⋅k_y    6.93889390390723e-17⋅γ₁⋅h̅ ⋅k_z    6.9\n",
       " - ────────────────────────────────── - ──────────────────────────────── - ───\n",
       "                   m₀                                  m₀                     \n",
       "\n",
       "                         2    2                             2   2             \n",
       "3889390390723e-18⋅ⅈ⋅γ₁⋅h̅ ⋅k_z    3.60822483003176e-16⋅γ₂⋅h̅ ⋅kₓ    2.63677968\n",
       "─────────────────────────────── + ─────────────────────────────── + ──────────\n",
       "             m₀                                  m₀                           \n",
       "\n",
       "                  2   2                                2                      \n",
       "348475e-16⋅ⅈ⋅γ₂⋅h̅ ⋅kₓ    1.04083408558608e-16⋅√3⋅γ₂⋅h̅ ⋅k_y⋅k_z   0.5⋅√3⋅ⅈ⋅γ₂\n",
       "─────────────────────── + ────────────────────────────────────── - ───────────\n",
       "      m₀                                    m₀                                \n",
       "\n",
       "   2                                     2    2                               \n",
       "⋅h̅ ⋅k_y⋅k_z   1.80411241501588e-16⋅γ₂⋅h̅ ⋅k_y    1.31838984174237e-16⋅ⅈ⋅γ₂⋅h̅\n",
       "──────────── - ──────────────────────────────── - ────────────────────────────\n",
       "m₀                            m₀                                  m₀          \n",
       "\n",
       "2    2                                2                         2             \n",
       " ⋅k_y    1.04083408558608e-16⋅√3⋅γ₂⋅h̅ ⋅k_z⋅k_y   0.5⋅√3⋅ⅈ⋅γ₂⋅h̅ ⋅k_z⋅k_y   1.\n",
       "────── + ────────────────────────────────────── - ─────────────────────── - ──\n",
       "                           m₀                                m₀               \n",
       "\n",
       "                        2    2                               2    2           \n",
       "80411241501588e-16⋅γ₂⋅h̅ ⋅k_z    1.31838984174237e-16⋅ⅈ⋅γ₂⋅h̅ ⋅k_z    1.422473\n",
       "────────────────────────────── - ────────────────────────────────── - ────────\n",
       "             m₀                                  m₀                           \n",
       "\n",
       "                     2                                         2              \n",
       "25030098e-16⋅√6⋅γ₃⋅h̅ ⋅kₓ⋅k_y   1.87350135405495e-16⋅√6⋅ⅈ⋅γ₃⋅h̅ ⋅kₓ⋅k_y   0.35\n",
       "───────────────────────────── - ─────────────────────────────────────── + ────\n",
       "          m₀                                       m₀                         \n",
       "\n",
       "                      2                                         2             \n",
       "3553390593274⋅√6⋅γ₃⋅h̅ ⋅kₓ⋅k_z   6.59194920871187e-17⋅√6⋅ⅈ⋅γ₃⋅h̅ ⋅kₓ⋅k_z   1.4\n",
       "────────────────────────────── + ─────────────────────────────────────── - ───\n",
       "            m₀                                      m₀                        \n",
       "\n",
       "                          2                                         2         \n",
       "2247325030098e-16⋅√6⋅γ₃⋅h̅ ⋅k_y⋅kₓ   1.87350135405495e-16⋅√6⋅ⅈ⋅γ₃⋅h̅ ⋅k_y⋅kₓ  \n",
       "────────────────────────────────── - ─────────────────────────────────────── +\n",
       "               m₀                                       m₀                    \n",
       "\n",
       "                              2    2                                  2    2  \n",
       " 1.66533453693773e-16⋅√3⋅γ₃⋅h̅ ⋅k_y    2.56739074444567e-16⋅√3⋅ⅈ⋅γ₃⋅h̅ ⋅k_y   \n",
       " ─────────────────────────────────── + ───────────────────────────────────── +\n",
       "                  m₀                                     m₀                   \n",
       "\n",
       "                           2                                         2        \n",
       " 0.353553390593274⋅√6⋅γ₃⋅h̅ ⋅k_z⋅kₓ   6.59194920871187e-17⋅√6⋅ⅈ⋅γ₃⋅h̅ ⋅k_z⋅kₓ \n",
       " ────────────────────────────────── + ─────────────────────────────────────── \n",
       "                 m₀                                      m₀                   \n",
       "\n",
       "                               2    2                                  2    2 \n",
       "  1.66533453693773e-16⋅√3⋅γ₃⋅h̅ ⋅k_z    2.56739074444567e-16⋅√3⋅ⅈ⋅γ₃⋅h̅ ⋅k_z  \n",
       "- ─────────────────────────────────── - ───────────────────────────────────── \n",
       "                   m₀                                     m₀                  \n",
       "\n",
       "                            2                                      2          \n",
       "  6.59194920871187e-17⋅√6⋅h̅ ⋅κ⋅kₓ⋅k_y   7.63278329429795e-17⋅√2⋅h̅ ⋅κ⋅kₓ⋅k_y \n",
       "- ──────────────────────────────────── - ──────────────────────────────────── \n",
       "                   m₀                                     m₀                  \n",
       "\n",
       "                              2                                        2      \n",
       "  1.45716771982052e-16⋅√6⋅ⅈ⋅h̅ ⋅κ⋅kₓ⋅k_y   2.77555756156289e-16⋅√2⋅ⅈ⋅h̅ ⋅κ⋅kₓ⋅\n",
       "- ────────────────────────────────────── + ───────────────────────────────────\n",
       "                    m₀                                       m₀               \n",
       "\n",
       "                             2                                   2            \n",
       "k_y   0.176776695296637⋅√6⋅h̅ ⋅κ⋅kₓ⋅k_z   0.306186217847897⋅√2⋅h̅ ⋅κ⋅kₓ⋅k_z   \n",
       "─── + ───────────────────────────────── + ───────────────────────────────── - \n",
       "                      m₀                                  m₀                  \n",
       "\n",
       "                           2                                        2         \n",
       "9.0205620750794e-17⋅√2⋅ⅈ⋅h̅ ⋅κ⋅kₓ⋅k_z   1.14491749414469e-16⋅√6⋅ⅈ⋅h̅ ⋅κ⋅kₓ⋅k_z\n",
       "───────────────────────────────────── + ──────────────────────────────────────\n",
       "                  m₀                                      m₀                  \n",
       "\n",
       "                             2                                      2         \n",
       "   7.63278329429795e-17⋅√2⋅h̅ ⋅κ⋅k_y⋅kₓ   6.59194920871187e-17⋅√6⋅h̅ ⋅κ⋅k_y⋅kₓ\n",
       " + ──────────────────────────────────── + ────────────────────────────────────\n",
       "                    m₀                                     m₀                 \n",
       "\n",
       "                               2                                        2     \n",
       "   2.77555756156289e-16⋅√2⋅ⅈ⋅h̅ ⋅κ⋅k_y⋅kₓ   1.45716771982052e-16⋅√6⋅ⅈ⋅h̅ ⋅κ⋅k_\n",
       " - ────────────────────────────────────── + ──────────────────────────────────\n",
       "                     m₀                                       m₀              \n",
       "\n",
       "                              2                                   2           \n",
       "y⋅kₓ   1.73472347597681e-16⋅h̅ ⋅κ⋅k_y⋅k_z   0.866025403784439⋅ⅈ⋅h̅ ⋅κ⋅k_y⋅k_z \n",
       "──── + ────────────────────────────────── - ───────────────────────────────── \n",
       "                       m₀                                   m₀                \n",
       "\n",
       "                         2                                   2                \n",
       "  0.306186217847897⋅√2⋅h̅ ⋅κ⋅k_z⋅kₓ   0.176776695296637⋅√6⋅h̅ ⋅κ⋅k_z⋅kₓ   1.14\n",
       "- ───────────────────────────────── - ───────────────────────────────── - ────\n",
       "                  m₀                                  m₀                      \n",
       "\n",
       "                        2                                       2             \n",
       "491749414469e-16⋅√6⋅ⅈ⋅h̅ ⋅κ⋅k_z⋅kₓ   9.0205620750794e-17⋅√2⋅ⅈ⋅h̅ ⋅κ⋅k_z⋅kₓ   1\n",
       "────────────────────────────────── + ───────────────────────────────────── - ─\n",
       "              m₀                                       m₀                     \n",
       "\n",
       "                      2                                   2                   \n",
       ".73472347597681e-16⋅h̅ ⋅κ⋅k_z⋅k_y   0.866025403784439⋅ⅈ⋅h̅ ⋅κ⋅k_z⋅k_y   2.5153\n",
       "───────────────────────────────── + ───────────────────────────────── - ──────\n",
       "               m₀                                   m₀                        \n",
       "\n",
       "                    2                                    2                    \n",
       "4904016637e-17⋅√6⋅h̅ ⋅kₓ⋅k_y   2.08166817117217e-17⋅√2⋅h̅ ⋅kₓ⋅k_y   4.16333634\n",
       "──────────────────────────── - ────────────────────────────────── - ──────────\n",
       "          m₀                                   m₀                             \n",
       "\n",
       "                  2                                      2                    \n",
       "234434e-17⋅√6⋅ⅈ⋅h̅ ⋅kₓ⋅k_y   9.71445146547012e-17⋅√2⋅ⅈ⋅h̅ ⋅kₓ⋅k_y   0.05892556\n",
       "────────────────────────── + ──────────────────────────────────── + ──────────\n",
       "       m₀                                     m₀                              \n",
       "\n",
       "             2                                 2                              \n",
       "5098879⋅√6⋅h̅ ⋅kₓ⋅k_z   0.102062072615966⋅√2⋅h̅ ⋅kₓ⋅k_z   3.46944695195361e-17\n",
       "───────────────────── + ─────────────────────────────── - ────────────────────\n",
       "     m₀                                m₀                                  m₀ \n",
       "\n",
       "        2                                      2                              \n",
       "⋅√2⋅ⅈ⋅h̅ ⋅kₓ⋅k_z   3.72965547335014e-17⋅√6⋅ⅈ⋅h̅ ⋅kₓ⋅k_z   2.08166817117217e-17\n",
       "──────────────── + ──────────────────────────────────── + ────────────────────\n",
       "                                    m₀                                    m₀  \n",
       "\n",
       "      2                                    2                                  \n",
       "⋅√2⋅h̅ ⋅k_y⋅kₓ   2.51534904016637e-17⋅√6⋅h̅ ⋅k_y⋅kₓ   9.71445146547012e-17⋅√2⋅\n",
       "────────────── + ────────────────────────────────── - ────────────────────────\n",
       "                                 m₀                                    m₀     \n",
       "\n",
       "    2                                      2                                 2\n",
       "ⅈ⋅h̅ ⋅k_y⋅kₓ   4.16333634234434e-17⋅√6⋅ⅈ⋅h̅ ⋅k_y⋅kₓ   5.72458747072346e-17⋅h̅ \n",
       "──────────── + ──────────────────────────────────── + ────────────────────────\n",
       "                                m₀                                   m₀       \n",
       "\n",
       "                                 2                                  2         \n",
       "⋅k_y⋅k_z   0.288675134594813⋅ⅈ⋅h̅ ⋅k_y⋅k_z   0.102062072615966⋅√2⋅h̅ ⋅k_z⋅kₓ  \n",
       "──────── - ─────────────────────────────── - ─────────────────────────────── -\n",
       "                          m₀                                m₀                \n",
       "\n",
       "                        2                                      2              \n",
       " 0.058925565098879⋅√6⋅h̅ ⋅k_z⋅kₓ   3.72965547335014e-17⋅√6⋅ⅈ⋅h̅ ⋅k_z⋅kₓ   3.46\n",
       " ─────────────────────────────── - ──────────────────────────────────── + ────\n",
       "                m₀                                  m₀                        \n",
       "\n",
       "                        2                                 2                   \n",
       "944695195361e-17⋅√2⋅ⅈ⋅h̅ ⋅k_z⋅kₓ   5.72458747072346e-17⋅h̅ ⋅k_z⋅k_y   0.288675\n",
       "──────────────────────────────── - ──────────────────────────────── + ────────\n",
       "             m₀                                   m₀                          \n",
       "\n",
       "              2        \n",
       "134594813⋅ⅈ⋅h̅ ⋅k_z⋅k_y\n",
       "───────────────────────\n",
       "       m₀              "
      ]
     },
     "execution_count": 22,
     "metadata": {},
     "output_type": "execute_result"
    }
   ],
   "source": [
    "e"
   ]
  },
  {
   "cell_type": "code",
   "execution_count": 23,
   "metadata": {},
   "outputs": [
    {
     "data": {
      "image/png": "[encoded data removed]",
      "text/latex": [
       "$$- \\frac{0.866025403784 i}{m_{0}} \\gamma_{2} \\hbar^{2} k_{y} k_{z} - \\frac{0.866025403784 i}{m_{0}} \\gamma_{2} \\hbar^{2} k_{z} k_{y} + \\frac{0.866025403784 \\gamma_{3}}{m_{0}} \\hbar^{2} k_{x} k_{z} + \\frac{0.866025403784 \\gamma_{3}}{m_{0}} \\hbar^{2} k_{z} k_{x} + \\frac{0.866025403784 \\kappa}{m_{0}} \\hbar^{2} k_{x} k_{z} - \\frac{0.866025403784 i}{m_{0}} \\hbar^{2} \\kappa k_{y} k_{z} - \\frac{0.866025403784 \\kappa}{m_{0}} \\hbar^{2} k_{z} k_{x} + \\frac{0.866025403784 i}{m_{0}} \\hbar^{2} \\kappa k_{z} k_{y} + \\frac{0.288675134595 \\hbar^{2}}{m_{0}} k_{x} k_{z} - \\frac{0.288675134595 i}{m_{0}} \\hbar^{2} k_{y} k_{z} - \\frac{0.288675134595 \\hbar^{2}}{m_{0}} k_{z} k_{x} + \\frac{0.288675134595 i}{m_{0}} \\hbar^{2} k_{z} k_{y}$$"
      ],
      "text/plain": [
       "                        2                                 2                   \n",
       "  0.866025403784⋅ⅈ⋅γ₂⋅h̅ ⋅k_y⋅k_z   0.866025403784⋅ⅈ⋅γ₂⋅h̅ ⋅k_z⋅k_y   0.866025\n",
       "- ─────────────────────────────── - ─────────────────────────────── + ────────\n",
       "                 m₀                                m₀                         \n",
       "\n",
       "            2                              2                           2      \n",
       "403784⋅γ₃⋅h̅ ⋅kₓ⋅k_z   0.866025403784⋅γ₃⋅h̅ ⋅k_z⋅kₓ   0.866025403784⋅h̅ ⋅κ⋅kₓ⋅\n",
       "──────────────────── + ──────────────────────────── + ────────────────────────\n",
       "     m₀                             m₀                             m₀         \n",
       "\n",
       "                         2                              2                     \n",
       "k_z   0.866025403784⋅ⅈ⋅h̅ ⋅κ⋅k_y⋅k_z   0.866025403784⋅h̅ ⋅κ⋅k_z⋅kₓ   0.8660254\n",
       "─── - ────────────────────────────── - ─────────────────────────── + ─────────\n",
       "                    m₀                              m₀                        \n",
       "\n",
       "          2                              2                             2      \n",
       "03784⋅ⅈ⋅h̅ ⋅κ⋅k_z⋅k_y   0.288675134595⋅h̅ ⋅kₓ⋅k_z   0.288675134595⋅ⅈ⋅h̅ ⋅k_y⋅k\n",
       "───────────────────── + ───────────────────────── - ──────────────────────────\n",
       "     m₀                             m₀                           m₀           \n",
       "\n",
       "                      2                             2        \n",
       "_z   0.288675134595⋅h̅ ⋅k_z⋅kₓ   0.288675134595⋅ⅈ⋅h̅ ⋅k_z⋅k_y\n",
       "── - ───────────────────────── + ────────────────────────────\n",
       "                 m₀                           m₀             "
      ]
     },
     "execution_count": 23,
     "metadata": {},
     "output_type": "execute_result"
    }
   ],
   "source": [
    "prettify(e, 12)"
   ]
  },
  {
   "cell_type": "code",
   "execution_count": 24,
   "metadata": {},
   "outputs": [
    {
     "data": {
      "image/png": "[encoded data removed]",
      "text/latex": [
       "$$- \\frac{\\sqrt{3} i \\gamma_{2} \\hbar^{2}}{2 m_{0}} k_{y} k_{z} - \\frac{\\sqrt{3} i \\gamma_{2} \\hbar^{2}}{2 m_{0}} k_{z} k_{y} + \\frac{\\sqrt{3} \\gamma_{3} \\hbar^{2} k_{x}}{2 m_{0}} k_{z} + \\frac{\\sqrt{3} \\gamma_{3} \\hbar^{2} k_{z}}{2 m_{0}} k_{x} + \\frac{\\sqrt{3} \\hbar^{2} \\kappa k_{x}}{2 m_{0}} k_{z} - \\frac{\\sqrt{3} i \\hbar^{2} \\kappa}{2 m_{0}} k_{y} k_{z} - \\frac{\\sqrt{3} \\hbar^{2} \\kappa k_{z}}{2 m_{0}} k_{x} + \\frac{\\sqrt{3} i \\hbar^{2} \\kappa}{2 m_{0}} k_{z} k_{y} + \\frac{\\sqrt{3} \\hbar^{2} k_{x} k_{z}}{6 m_{0}} - \\frac{\\sqrt{3} i \\hbar^{2} k_{y}}{6 m_{0}} k_{z} - \\frac{\\sqrt{3} \\hbar^{2} k_{z} k_{x}}{6 m_{0}} + \\frac{\\sqrt{3} i \\hbar^{2} k_{z}}{6 m_{0}} k_{y}$$"
      ],
      "text/plain": [
       "            2                     2                   2                  2    \n",
       "  √3⋅ⅈ⋅γ₂⋅h̅ ⋅k_y⋅k_z   √3⋅ⅈ⋅γ₂⋅h̅ ⋅k_z⋅k_y   √3⋅γ₃⋅h̅ ⋅kₓ⋅k_z   √3⋅γ₃⋅h̅ ⋅k_z\n",
       "- ─────────────────── - ─────────────────── + ──────────────── + ─────────────\n",
       "          2⋅m₀                  2⋅m₀                2⋅m₀               2⋅m₀   \n",
       "\n",
       "           2                   2                  2                   2       \n",
       "⋅kₓ   √3⋅h̅ ⋅κ⋅kₓ⋅k_z   √3⋅ⅈ⋅h̅ ⋅κ⋅k_y⋅k_z   √3⋅h̅ ⋅κ⋅k_z⋅kₓ   √3⋅ⅈ⋅h̅ ⋅κ⋅k_z⋅\n",
       "─── + ─────────────── - ────────────────── - ─────────────── + ───────────────\n",
       "            2⋅m₀               2⋅m₀                2⋅m₀               2⋅m₀    \n",
       "\n",
       "           2                 2                2                 2        \n",
       "k_y   √3⋅h̅ ⋅kₓ⋅k_z   √3⋅ⅈ⋅h̅ ⋅k_y⋅k_z   √3⋅h̅ ⋅k_z⋅kₓ   √3⋅ⅈ⋅h̅ ⋅k_z⋅k_y\n",
       "─── + ───────────── - ──────────────── - ───────────── + ────────────────\n",
       "           6⋅m₀             6⋅m₀              6⋅m₀             6⋅m₀      "
      ]
     },
     "execution_count": 24,
     "metadata": {},
     "output_type": "execute_result"
    }
   ],
   "source": [
    "prettify(e, 12, True)"
   ]
  }
 ],
 "metadata": {
  "kernelspec": {
   "display_name": "Python 3",
   "language": "python",
   "name": "python3"
  },
  "language_info": {
   "codemirror_mode": {
    "name": "ipython",
    "version": 3
   },
   "file_extension": ".py",
   "mimetype": "text/x-python",
   "name": "python",
   "nbconvert_exporter": "python",
   "pygments_lexer": "ipython3",
   "version": "3.6.5"
  }
 },
 "nbformat": 4,
 "nbformat_minor": 2
}
