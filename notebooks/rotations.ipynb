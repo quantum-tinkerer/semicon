{
 "cells": [
  {
   "cell_type": "code",
   "execution_count": 1,
   "metadata": {},
   "outputs": [],
   "source": [
    "import semicon\n",
    "from semicon.misc import prettify"
   ]
  },
  {
   "cell_type": "code",
   "execution_count": 2,
   "metadata": {},
   "outputs": [
    {
     "data": {
      "text/plain": [
       "'1.2.0.dev0+10233db'"
      ]
     },
     "execution_count": 2,
     "metadata": {},
     "output_type": "execute_result"
    }
   ],
   "source": [
    "import scipy\n",
    "scipy.__version__"
   ]
  },
  {
   "cell_type": "code",
   "execution_count": 3,
   "metadata": {},
   "outputs": [],
   "source": [
    "import kwant\n",
    "\n",
    "import numpy as np\n",
    "import sympy\n",
    "sympy.init_printing(print_builtin=False)"
   ]
  },
  {
   "cell_type": "markdown",
   "metadata": {},
   "source": [
    "# proof of concept\n",
    "\n",
    "* R rotation from x, y, z to x', y', z'\n",
    "* n corresponding rotation vector\n",
    "* primed coordinates: crystalographic axes (Hamiltionian is defined in this coordinates)\n",
    "* non-primed coordinates: simulation coordinate system\n",
    "\n",
    "Coordinate transformation:\n",
    "\n",
    "$\n",
    "\\begin{pmatrix}\n",
    "x^\\prime \\\\\n",
    "y^\\prime \\\\\n",
    "z^\\prime \\\\\n",
    "\\end{pmatrix}\n",
    "= R\n",
    "\\begin{pmatrix}\n",
    "x \\\\\n",
    "y \\\\\n",
    "z \\\\\n",
    "\\end{pmatrix}\n",
    "$\n",
    "\n",
    "with corresponding unitary part:\n",
    "$\n",
    "U = \\exp(\\textrm{i} \\, \\vec{n} \\cdot \\vec{S})\n",
    "$"
   ]
  },
  {
   "cell_type": "markdown",
   "metadata": {},
   "source": [
    "## test Hamiltonian"
   ]
  },
  {
   "cell_type": "code",
   "execution_count": 4,
   "metadata": {},
   "outputs": [],
   "source": [
    "tmp = \"alpha_{0} * k_{0} * sigma_{0}\"\n",
    "sx, sy, sz = sympy.symbols('sigma_x sigma_y sigma_z')\n",
    "\n",
    "ham1 = kwant.continuum.sympify(\n",
    "    \" + \".join(tmp.format(s) for s in ['x', 'y', 'z']),\n",
    "    locals={'sigma_x': sx, 'sigma_y': sy, 'sigma_z': sz}\n",
    "\n",
    ")\n",
    "\n",
    "ham2 = kwant.continuum.sympify(\" + \".join(tmp.format(s) for s in ['x', 'y', 'z']))"
   ]
  },
  {
   "cell_type": "code",
   "execution_count": 5,
   "metadata": {},
   "outputs": [
    {
     "data": {
      "image/png": "[encoded data removed]",
      "text/latex": [
       "$$\\alpha_{x} \\sigma_{x} k_{x} + \\alpha_{y} \\sigma_{y} k_{y} + \\alpha_{z} \\sigma_{z} k_{z}$$"
      ],
      "text/plain": [
       "αₓ⋅σₓ⋅kₓ + α_y⋅σ_y⋅k_y + α_z⋅σ_z⋅k_z"
      ]
     },
     "execution_count": 5,
     "metadata": {},
     "output_type": "execute_result"
    }
   ],
   "source": [
    "ham1"
   ]
  },
  {
   "cell_type": "code",
   "execution_count": 6,
   "metadata": {},
   "outputs": [
    {
     "data": {
      "text/latex": [
       "$$\\left[\\begin{matrix}\\alpha_{z} k_{z} & \\alpha_{x} k_{x} - i \\alpha_{y} k_{y}\\\\\\alpha_{x} k_{x} + i \\alpha_{y} k_{y} & - \\alpha_{z} k_{z}\\end{matrix}\\right]$$"
      ],
      "text/plain": [
       "⎡     α_z⋅k_z       αₓ⋅kₓ - ⅈ⋅α_y⋅k_y⎤\n",
       "⎢                                    ⎥\n",
       "⎣αₓ⋅kₓ + ⅈ⋅α_y⋅k_y      -α_z⋅k_z     ⎦"
      ]
     },
     "execution_count": 6,
     "metadata": {},
     "output_type": "execute_result"
    }
   ],
   "source": [
    "ham2"
   ]
  },
  {
   "cell_type": "markdown",
   "metadata": {},
   "source": [
    "## Define rotation"
   ]
  },
  {
   "cell_type": "code",
   "execution_count": 7,
   "metadata": {},
   "outputs": [],
   "source": [
    "import scipy.linalg as la\n",
    "from scipy.spatial.transform import Rotation\n",
    "\n",
    "\n",
    "def tmp_rotate(expr, R):\n",
    "    def rotation_subs(R, v):\n",
    "        return {cprime: c for (cprime, c) in zip(v, R @ v)}\n",
    "\n",
    "    subs = rotation_subs(R, sympy.Matrix(kwant.continuum.momentum_operators))\n",
    "    subs.update(rotation_subs(R, sympy.Matrix([sx, sy, sz])))\n",
    "\n",
    "    return expr.subs(subs, simultaneous=True).expand()\n"
   ]
  },
  {
   "cell_type": "code",
   "execution_count": 8,
   "metadata": {},
   "outputs": [],
   "source": [
    "sigma_x = np.array([[0, 1], [1, 0]])\n",
    "sigma_y = np.array([[0, -1j], [1j, 0]])\n",
    "sigma_z = np.array([[1, 0], [0, -1]])\n",
    "\n",
    "spin_operators = [sigma_x / 2, sigma_y / 2, sigma_z / 2]\n",
    "\n",
    "\n",
    "R = np.array([[0, -1, 0],\n",
    "              [+1, 0, 0],\n",
    "              [0, 0, 1]])\n",
    "\n",
    "n = Rotation.from_dcm(R).as_rotvec()\n",
    "\n",
    "ns = np.sum([ni * si for (ni, si) in zip(n, spin_operators)], axis=0)\n",
    "U = la.expm(1j * ns)"
   ]
  },
  {
   "cell_type": "code",
   "execution_count": 9,
   "metadata": {},
   "outputs": [
    {
     "data": {
      "text/plain": [
       "1.0"
      ]
     },
     "execution_count": 9,
     "metadata": {},
     "output_type": "execute_result"
    }
   ],
   "source": [
    "la.det(R)"
   ]
  },
  {
   "cell_type": "markdown",
   "metadata": {},
   "source": [
    "## apply test rotation 1"
   ]
  },
  {
   "cell_type": "code",
   "execution_count": 10,
   "metadata": {},
   "outputs": [
    {
     "data": {
      "image/png": "[encoded data removed]",
      "text/latex": [
       "$$\\alpha_{x} \\sigma_{y} k_{y} + \\alpha_{y} \\sigma_{x} k_{x} + \\alpha_{z} \\sigma_{z} k_{z}$$"
      ],
      "text/plain": [
       "αₓ⋅σ_y⋅k_y + α_y⋅σₓ⋅kₓ + α_z⋅σ_z⋅k_z"
      ]
     },
     "execution_count": 10,
     "metadata": {},
     "output_type": "execute_result"
    }
   ],
   "source": [
    "s = tmp_rotate(ham1, R); s"
   ]
  },
  {
   "cell_type": "markdown",
   "metadata": {},
   "source": [
    "## apply test rotation 2"
   ]
  },
  {
   "cell_type": "code",
   "execution_count": 11,
   "metadata": {},
   "outputs": [
    {
     "data": {
      "text/latex": [
       "$$\\left[\\begin{matrix}\\alpha_{z} k_{z} & - \\alpha_{x} k_{y} - i \\alpha_{y} k_{x}\\\\- \\alpha_{x} k_{y} + i \\alpha_{y} k_{x} & - \\alpha_{z} k_{z}\\end{matrix}\\right]$$"
      ],
      "text/plain": [
       "⎡     α_z⋅k_z        -αₓ⋅k_y - ⅈ⋅α_y⋅kₓ⎤\n",
       "⎢                                      ⎥\n",
       "⎣-αₓ⋅k_y + ⅈ⋅α_y⋅kₓ       -α_z⋅k_z     ⎦"
      ]
     },
     "execution_count": 11,
     "metadata": {},
     "output_type": "execute_result"
    }
   ],
   "source": [
    "t = tmp_rotate(ham2, R); t"
   ]
  },
  {
   "cell_type": "code",
   "execution_count": 12,
   "metadata": {},
   "outputs": [
    {
     "data": {
      "text/latex": [
       "$$\\left[\\begin{matrix}1.0 \\alpha_{z} k_{z} & - 1.0 i \\alpha_{x} k_{y} + 1.0 \\alpha_{y} k_{x}\\\\1.0 i \\alpha_{x} k_{y} + 1.0 \\alpha_{y} k_{x} & - 1.0 \\alpha_{z} k_{z}\\end{matrix}\\right]$$"
      ],
      "text/plain": [
       "⎡       1.0⋅α_z⋅k_z         -1.0⋅ⅈ⋅αₓ⋅k_y + 1.0⋅α_y⋅kₓ⎤\n",
       "⎢                                                     ⎥\n",
       "⎣1.0⋅ⅈ⋅αₓ⋅k_y + 1.0⋅α_y⋅kₓ         -1.0⋅α_z⋅k_z       ⎦"
      ]
     },
     "execution_count": 12,
     "metadata": {},
     "output_type": "execute_result"
    }
   ],
   "source": [
    "t = prettify(U @ t @ U.transpose().conjugate(), decimals=12); t"
   ]
  },
  {
   "cell_type": "markdown",
   "metadata": {},
   "source": [
    "## test "
   ]
  },
  {
   "cell_type": "code",
   "execution_count": 13,
   "metadata": {},
   "outputs": [
    {
     "data": {
      "text/latex": [
       "$$\\left[\\begin{matrix}0 & 0\\\\0 & 0\\end{matrix}\\right]$$"
      ],
      "text/plain": [
       "⎡0  0⎤\n",
       "⎢    ⎥\n",
       "⎣0  0⎦"
      ]
     },
     "execution_count": 13,
     "metadata": {},
     "output_type": "execute_result"
    }
   ],
   "source": [
    "\n",
    "sympy.expand(kwant.continuum.sympify(str(s)) - t)"
   ]
  },
  {
   "cell_type": "markdown",
   "metadata": {},
   "source": [
    "## test with implemented functions"
   ]
  },
  {
   "cell_type": "code",
   "execution_count": 14,
   "metadata": {},
   "outputs": [
    {
     "data": {
      "text/latex": [
       "$$\\left[\\begin{matrix}1.0 \\alpha_{z} k_{z} & - 1.0 i \\alpha_{x} k_{y} + 1.0 \\alpha_{y} k_{x}\\\\1.0 i \\alpha_{x} k_{y} + 1.0 \\alpha_{y} k_{x} & - 1.0 \\alpha_{z} k_{z}\\end{matrix}\\right]$$"
      ],
      "text/plain": [
       "⎡       1.0⋅α_z⋅k_z         -1.0⋅ⅈ⋅αₓ⋅k_y + 1.0⋅α_y⋅kₓ⎤\n",
       "⎢                                                     ⎥\n",
       "⎣1.0⋅ⅈ⋅αₓ⋅k_y + 1.0⋅α_y⋅kₓ         -1.0⋅α_z⋅k_z       ⎦"
      ]
     },
     "execution_count": 14,
     "metadata": {},
     "output_type": "execute_result"
    }
   ],
   "source": [
    "S = kwant.continuum.sympify(\"[[sigma_x, sigma_y, sigma_z]]\") / 2\n",
    "\n",
    "t = semicon.misc.rotate(ham2, R, spin_operators=S)\n",
    "t = semicon.misc.prettify(t, decimals=12); t"
   ]
  },
  {
   "cell_type": "code",
   "execution_count": 15,
   "metadata": {},
   "outputs": [
    {
     "data": {
      "text/latex": [
       "$$\\left[\\begin{matrix}0 & 0\\\\0 & 0\\end{matrix}\\right]$$"
      ],
      "text/plain": [
       "⎡0  0⎤\n",
       "⎢    ⎥\n",
       "⎣0  0⎦"
      ]
     },
     "execution_count": 15,
     "metadata": {},
     "output_type": "execute_result"
    }
   ],
   "source": [
    "semicon.misc.prettify(sympy.expand(kwant.continuum.sympify(str(s)) - t), decimals=12)"
   ]
  },
  {
   "cell_type": "code",
   "execution_count": 16,
   "metadata": {},
   "outputs": [],
   "source": [
    "from semicon.model import BulkModel\n",
    "model = BulkModel(ham2, spins=1/2)\n",
    "model = model.rotate(R).prettify(decimals=12)"
   ]
  },
  {
   "cell_type": "code",
   "execution_count": 17,
   "metadata": {},
   "outputs": [
    {
     "data": {
      "text/latex": [
       "$$\\left[\\begin{matrix}1.0 \\alpha_{z} k_{z} & - 1.0 i \\alpha_{x} k_{y} + 1.0 \\alpha_{y} k_{x}\\\\1.0 i \\alpha_{x} k_{y} + 1.0 \\alpha_{y} k_{x} & - 1.0 \\alpha_{z} k_{z}\\end{matrix}\\right]$$"
      ],
      "text/plain": [
       "⎡       1.0⋅α_z⋅k_z         -1.0⋅ⅈ⋅αₓ⋅k_y + 1.0⋅α_y⋅kₓ⎤\n",
       "⎢                                                     ⎥\n",
       "⎣1.0⋅ⅈ⋅αₓ⋅k_y + 1.0⋅α_y⋅kₓ         -1.0⋅α_z⋅k_z       ⎦"
      ]
     },
     "execution_count": 17,
     "metadata": {},
     "output_type": "execute_result"
    }
   ],
   "source": [
    "model.hamiltonian"
   ]
  },
  {
   "cell_type": "code",
   "execution_count": 18,
   "metadata": {},
   "outputs": [
    {
     "data": {
      "text/latex": [
       "$$\\left[\\begin{matrix}0 & 0\\\\0 & 0\\end{matrix}\\right]$$"
      ],
      "text/plain": [
       "⎡0  0⎤\n",
       "⎢    ⎥\n",
       "⎣0  0⎦"
      ]
     },
     "execution_count": 18,
     "metadata": {},
     "output_type": "execute_result"
    }
   ],
   "source": [
    "semicon.misc.prettify(sympy.expand(kwant.continuum.sympify(str(s)) - model.hamiltonian), \n",
    "                      decimals=12)"
   ]
  },
  {
   "cell_type": "markdown",
   "metadata": {},
   "source": [
    "# on kp ham"
   ]
  },
  {
   "cell_type": "code",
   "execution_count": 19,
   "metadata": {},
   "outputs": [],
   "source": [
    "def rotation110_matrix(xi='0'):\n",
    "    sin = sympy.sin(xi)\n",
    "    cos = sympy.cos(xi)\n",
    "    sqrt2 = sympy.sqrt(2)\n",
    "    matrix = sympy.Matrix([[+ sin / sqrt2, + cos / sqrt2, 1 / sqrt2],\n",
    "                           [- sin / sqrt2, - cos / sqrt2, 1 / sqrt2],\n",
    "                           [cos, - sin, 0]])\n",
    "    return matrix\n",
    "\n",
    "R = rotation110_matrix(xi=\"pi/4\")"
   ]
  },
  {
   "cell_type": "code",
   "execution_count": 20,
   "metadata": {},
   "outputs": [
    {
     "data": {
      "text/latex": [
       "$$\\left[\\begin{matrix}\\frac{1}{2} & \\frac{1}{2} & \\frac{\\sqrt{2}}{2}\\\\- \\frac{1}{2} & - \\frac{1}{2} & \\frac{\\sqrt{2}}{2}\\\\\\frac{\\sqrt{2}}{2} & - \\frac{\\sqrt{2}}{2} & 0\\end{matrix}\\right]$$"
      ],
      "text/plain": [
       "⎡            √2⎤\n",
       "⎢1/2   1/2   ──⎥\n",
       "⎢            2 ⎥\n",
       "⎢              ⎥\n",
       "⎢            √2⎥\n",
       "⎢-1/2  -1/2  ──⎥\n",
       "⎢            2 ⎥\n",
       "⎢              ⎥\n",
       "⎢ √2   -√2     ⎥\n",
       "⎢ ──   ────  0 ⎥\n",
       "⎣ 2     2      ⎦"
      ]
     },
     "execution_count": 20,
     "metadata": {},
     "output_type": "execute_result"
    }
   ],
   "source": [
    "R"
   ]
  },
  {
   "cell_type": "code",
   "execution_count": 18,
   "metadata": {},
   "outputs": [],
   "source": [
    "import semicon\n",
    "\n",
    "bands = ('gamma_8v', )\n",
    "kpham = semicon.models.foreman(bands=bands)\n",
    "S = semicon.models.spin_operators(bands=bands)\n",
    "ham = semicon.models.rotate(kpham, R, S)"
   ]
  },
  {
   "cell_type": "code",
   "execution_count": 19,
   "metadata": {},
   "outputs": [
    {
     "data": {
      "image/png": "[encoded data removed]",
      "text/latex": [
       "$$\\frac{\\sqrt{3} \\gamma_{3} \\hbar^{2} k_{x}}{2 m_{0}} k_{z} - \\frac{\\sqrt{3} i \\gamma_{3} \\hbar^{2}}{2 m_{0}} k_{y} k_{z} + \\frac{\\sqrt{3} \\gamma_{3} \\hbar^{2} k_{z}}{2 m_{0}} k_{x} - \\frac{\\sqrt{3} i \\gamma_{3} \\hbar^{2}}{2 m_{0}} k_{z} k_{y} + \\frac{\\sqrt{3} \\hbar^{2} \\kappa k_{x}}{2 m_{0}} k_{z} - \\frac{\\sqrt{3} i \\hbar^{2} \\kappa}{2 m_{0}} k_{y} k_{z} - \\frac{\\sqrt{3} \\hbar^{2} \\kappa k_{z}}{2 m_{0}} k_{x} + \\frac{\\sqrt{3} i \\hbar^{2} \\kappa}{2 m_{0}} k_{z} k_{y} + \\frac{\\sqrt{3} \\hbar^{2} k_{x} k_{z}}{6 m_{0}} - \\frac{\\sqrt{3} i \\hbar^{2} k_{y}}{6 m_{0}} k_{z} - \\frac{\\sqrt{3} \\hbar^{2} k_{z} k_{x}}{6 m_{0}} + \\frac{\\sqrt{3} i \\hbar^{2} k_{z}}{6 m_{0}} k_{y}$$"
      ],
      "text/plain": [
       "        2                    2                   2                    2       \n",
       "√3⋅γ₃⋅h̅ ⋅kₓ⋅k_z   √3⋅ⅈ⋅γ₃⋅h̅ ⋅k_y⋅k_z   √3⋅γ₃⋅h̅ ⋅k_z⋅kₓ   √3⋅ⅈ⋅γ₃⋅h̅ ⋅k_z⋅k_\n",
       "──────────────── - ─────────────────── + ──────────────── - ──────────────────\n",
       "      2⋅m₀                 2⋅m₀                2⋅m₀                 2⋅m₀      \n",
       "\n",
       "         2                   2                  2                   2         \n",
       "y   √3⋅h̅ ⋅κ⋅kₓ⋅k_z   √3⋅ⅈ⋅h̅ ⋅κ⋅k_y⋅k_z   √3⋅h̅ ⋅κ⋅k_z⋅kₓ   √3⋅ⅈ⋅h̅ ⋅κ⋅k_z⋅k_\n",
       "─ + ─────────────── - ────────────────── - ─────────────── + ─────────────────\n",
       "          2⋅m₀               2⋅m₀                2⋅m₀               2⋅m₀      \n",
       "\n",
       "         2                 2                2                 2        \n",
       "y   √3⋅h̅ ⋅kₓ⋅k_z   √3⋅ⅈ⋅h̅ ⋅k_y⋅k_z   √3⋅h̅ ⋅k_z⋅kₓ   √3⋅ⅈ⋅h̅ ⋅k_z⋅k_y\n",
       "─ + ───────────── - ──────────────── - ───────────── + ────────────────\n",
       "         6⋅m₀             6⋅m₀              6⋅m₀             6⋅m₀      "
      ]
     },
     "execution_count": 19,
     "metadata": {},
     "output_type": "execute_result"
    }
   ],
   "source": [
    "kpham[0, 1]"
   ]
  },
  {
   "cell_type": "code",
   "execution_count": 20,
   "metadata": {},
   "outputs": [],
   "source": [
    "e = ham[0, 1]"
   ]
  },
  {
   "cell_type": "code",
   "execution_count": 21,
   "metadata": {},
   "outputs": [
    {
     "data": {
      "image/png": "[encoded data removed]",
      "text/latex": [
       "$$5.55111512312578 \\cdot 10^{-17} E_{v} - 1.38777878078145 \\cdot 10^{-16} i E_{v} - \\frac{\\gamma_{1} \\hbar^{2}}{m_{0}} 2.77555756156289 \\cdot 10^{-17} k_{x}^{2} + \\frac{i \\gamma_{1}}{m_{0}} 6.93889390390723 \\cdot 10^{-17} \\hbar^{2} k_{x}^{2} - \\frac{\\gamma_{1} \\hbar^{2}}{m_{0}} 2.77555756156289 \\cdot 10^{-17} k_{y}^{2} + \\frac{i \\gamma_{1}}{m_{0}} 6.93889390390723 \\cdot 10^{-17} \\hbar^{2} k_{y}^{2} - \\frac{\\gamma_{1} \\hbar^{2}}{m_{0}} 2.77555756156289 \\cdot 10^{-17} k_{z}^{2} + \\frac{i \\gamma_{1}}{m_{0}} 6.93889390390723 \\cdot 10^{-17} \\hbar^{2} k_{z}^{2} - \\frac{\\gamma_{2} \\hbar^{2}}{m_{0}} 1.11022302462516 \\cdot 10^{-16} k_{x} k_{y} - \\frac{i \\gamma_{2}}{m_{0}} 1.2490009027033 \\cdot 10^{-16} \\hbar^{2} k_{x} k_{y} + \\frac{0.176776695296637 \\gamma_{2}}{m_{0}} \\sqrt{6} \\hbar^{2} k_{x} k_{z} - \\frac{0.176776695296637 i}{m_{0}} \\sqrt{6} \\gamma_{2} \\hbar^{2} k_{x} k_{z} + \\frac{\\gamma_{2} \\hbar^{2}}{m_{0}} 2.77555756156289 \\cdot 10^{-17} k_{x}^{2} + \\frac{i \\gamma_{2}}{m_{0}} 4.85722573273506 \\cdot 10^{-17} \\hbar^{2} k_{x}^{2} - \\frac{\\gamma_{2} \\hbar^{2}}{m_{0}} 1.11022302462516 \\cdot 10^{-16} k_{y} k_{x} - \\frac{i \\gamma_{2}}{m_{0}} 1.2490009027033 \\cdot 10^{-16} \\hbar^{2} k_{y} k_{x} + \\frac{0.176776695296637 \\gamma_{2}}{m_{0}} \\sqrt{6} \\hbar^{2} k_{y} k_{z} - \\frac{0.176776695296637 i}{m_{0}} \\sqrt{6} \\gamma_{2} \\hbar^{2} k_{y} k_{z} + \\frac{\\gamma_{2} \\hbar^{2}}{m_{0}} 2.77555756156289 \\cdot 10^{-17} k_{y}^{2} + \\frac{i \\gamma_{2}}{m_{0}} 4.85722573273506 \\cdot 10^{-17} \\hbar^{2} k_{y}^{2} + \\frac{0.176776695296637 \\gamma_{2}}{m_{0}} \\sqrt{6} \\hbar^{2} k_{z} k_{x} - \\frac{0.176776695296637 i}{m_{0}} \\sqrt{6} \\gamma_{2} \\hbar^{2} k_{z} k_{x} + \\frac{0.176776695296637 \\gamma_{2}}{m_{0}} \\sqrt{6} \\hbar^{2} k_{z} k_{y} - \\frac{0.176776695296637 i}{m_{0}} \\sqrt{6} \\gamma_{2} \\hbar^{2} k_{z} k_{y} - \\frac{\\gamma_{2} \\hbar^{2}}{m_{0}} 5.55111512312578 \\cdot 10^{-17} k_{z}^{2} - \\frac{i \\gamma_{2}}{m_{0}} 9.71445146547012 \\cdot 10^{-17} \\hbar^{2} k_{z}^{2} - \\frac{\\sqrt{3} \\gamma_{3}}{m_{0}} 1.73472347597681 \\cdot 10^{-17} \\hbar^{2} k_{x} k_{y} + \\frac{i \\gamma_{3}}{m_{0}} 6.93889390390723 \\cdot 10^{-17} \\sqrt{3} \\hbar^{2} k_{x} k_{y} + \\frac{0.25 \\gamma_{3}}{m_{0}} \\sqrt{3} \\hbar^{2} k_{x} k_{z} + \\frac{0.25 i}{m_{0}} \\sqrt{3} \\gamma_{3} \\hbar^{2} k_{x} k_{z} - \\frac{\\sqrt{3} \\gamma_{3}}{m_{0}} 1.73472347597681 \\cdot 10^{-17} \\hbar^{2} k_{x}^{2} + \\frac{\\sqrt{6} \\gamma_{3}}{m_{0}} 8.32667268468867 \\cdot 10^{-17} \\hbar^{2} k_{x}^{2} - \\frac{i \\gamma_{3}}{m_{0}} 7.63278329429795 \\cdot 10^{-17} \\sqrt{6} \\hbar^{2} k_{x}^{2} + \\frac{i \\gamma_{3}}{m_{0}} 6.93889390390723 \\cdot 10^{-17} \\sqrt{3} \\hbar^{2} k_{x}^{2} - \\frac{\\sqrt{3} \\gamma_{3}}{m_{0}} 1.73472347597681 \\cdot 10^{-17} \\hbar^{2} k_{y} k_{x} + \\frac{i \\gamma_{3}}{m_{0}} 6.93889390390723 \\cdot 10^{-17} \\sqrt{3} \\hbar^{2} k_{y} k_{x} - \\frac{0.25 \\gamma_{3}}{m_{0}} \\sqrt{3} \\hbar^{2} k_{y} k_{z} - \\frac{0.25 i}{m_{0}} \\sqrt{3} \\gamma_{3} \\hbar^{2} k_{y} k_{z} - \\frac{\\sqrt{6} \\gamma_{3}}{m_{0}} 8.32667268468867 \\cdot 10^{-17} \\hbar^{2} k_{y}^{2} - \\frac{\\sqrt{3} \\gamma_{3}}{m_{0}} 1.73472347597681 \\cdot 10^{-17} \\hbar^{2} k_{y}^{2} + \\frac{i \\gamma_{3}}{m_{0}} 6.93889390390723 \\cdot 10^{-17} \\sqrt{3} \\hbar^{2} k_{y}^{2} + \\frac{i \\gamma_{3}}{m_{0}} 7.63278329429795 \\cdot 10^{-17} \\sqrt{6} \\hbar^{2} k_{y}^{2} + \\frac{0.25 \\gamma_{3}}{m_{0}} \\sqrt{3} \\hbar^{2} k_{z} k_{x} + \\frac{0.25 i}{m_{0}} \\sqrt{3} \\gamma_{3} \\hbar^{2} k_{z} k_{x} - \\frac{0.25 \\gamma_{3}}{m_{0}} \\sqrt{3} \\hbar^{2} k_{z} k_{y} - \\frac{0.25 i}{m_{0}} \\sqrt{3} \\gamma_{3} \\hbar^{2} k_{z} k_{y} + \\frac{\\sqrt{3} \\gamma_{3}}{m_{0}} 3.46944695195361 \\cdot 10^{-17} \\hbar^{2} k_{z}^{2} - \\frac{i \\gamma_{3}}{m_{0}} 1.38777878078145 \\cdot 10^{-16} \\sqrt{3} \\hbar^{2} k_{z}^{2} - \\frac{\\sqrt{2} \\kappa}{m_{0}} 1.94289029309402 \\cdot 10^{-16} \\hbar^{2} k_{x} k_{y} - \\frac{\\sqrt{6} \\kappa}{m_{0}} 1.38777878078145 \\cdot 10^{-17} \\hbar^{2} k_{x} k_{y} - \\frac{i \\kappa}{m_{0}} 6.24500451351651 \\cdot 10^{-17} \\sqrt{6} \\hbar^{2} k_{x} k_{y} + \\frac{i \\kappa}{m_{0}} 8.32667268468867 \\cdot 10^{-17} \\sqrt{2} \\hbar^{2} k_{x} k_{y} + \\frac{0.21650635094611 \\kappa}{m_{0}} \\hbar^{2} k_{x} k_{z} + \\frac{0.125 \\kappa}{m_{0}} \\sqrt{3} \\hbar^{2} k_{x} k_{z} + \\frac{0.306186217847897 \\kappa}{m_{0}} \\sqrt{2} \\hbar^{2} k_{x} k_{z} - \\frac{0.306186217847897 i}{m_{0}} \\sqrt{2} \\hbar^{2} \\kappa k_{x} k_{z} + \\frac{0.21650635094611 i}{m_{0}} \\hbar^{2} \\kappa k_{x} k_{z} + \\frac{0.125 i}{m_{0}} \\sqrt{3} \\hbar^{2} \\kappa k_{x} k_{z} + \\frac{\\sqrt{6} \\kappa}{m_{0}} 1.38777878078145 \\cdot 10^{-17} \\hbar^{2} k_{y} k_{x} + \\frac{\\sqrt{2} \\kappa}{m_{0}} 1.94289029309402 \\cdot 10^{-16} \\hbar^{2} k_{y} k_{x} - \\frac{i \\kappa}{m_{0}} 8.32667268468867 \\cdot 10^{-17} \\sqrt{2} \\hbar^{2} k_{y} k_{x} + \\frac{i \\kappa}{m_{0}} 6.24500451351651 \\cdot 10^{-17} \\sqrt{6} \\hbar^{2} k_{y} k_{x} - \\frac{0.125 \\kappa}{m_{0}} \\sqrt{3} \\hbar^{2} k_{y} k_{z} - \\frac{0.21650635094611 \\kappa}{m_{0}} \\hbar^{2} k_{y} k_{z} + \\frac{0.306186217847897 \\kappa}{m_{0}} \\sqrt{2} \\hbar^{2} k_{y} k_{z} - \\frac{0.306186217847897 i}{m_{0}} \\sqrt{2} \\hbar^{2} \\kappa k_{y} k_{z} - \\frac{0.125 i}{m_{0}} \\sqrt{3} \\hbar^{2} \\kappa k_{y} k_{z} - \\frac{0.21650635094611 i}{m_{0}} \\hbar^{2} \\kappa k_{y} k_{z} - \\frac{0.306186217847897 \\kappa}{m_{0}} \\sqrt{2} \\hbar^{2} k_{z} k_{x} - \\frac{0.125 \\kappa}{m_{0}} \\sqrt{3} \\hbar^{2} k_{z} k_{x} - \\frac{0.21650635094611 \\kappa}{m_{0}} \\hbar^{2} k_{z} k_{x} - \\frac{0.125 i}{m_{0}} \\sqrt{3} \\hbar^{2} \\kappa k_{z} k_{x} - \\frac{0.21650635094611 i}{m_{0}} \\hbar^{2} \\kappa k_{z} k_{x} + \\frac{0.306186217847897 i}{m_{0}} \\sqrt{2} \\hbar^{2} \\kappa k_{z} k_{x} - \\frac{0.306186217847897 \\kappa}{m_{0}} \\sqrt{2} \\hbar^{2} k_{z} k_{y} + \\frac{0.21650635094611 \\kappa}{m_{0}} \\hbar^{2} k_{z} k_{y} + \\frac{0.125 \\kappa}{m_{0}} \\sqrt{3} \\hbar^{2} k_{z} k_{y} + \\frac{0.21650635094611 i}{m_{0}} \\hbar^{2} \\kappa k_{z} k_{y} + \\frac{0.125 i}{m_{0}} \\sqrt{3} \\hbar^{2} \\kappa k_{z} k_{y} + \\frac{0.306186217847897 i}{m_{0}} \\sqrt{2} \\hbar^{2} \\kappa k_{z} k_{y} - \\frac{\\sqrt{2} \\hbar^{2}}{m_{0}} 6.24500451351651 \\cdot 10^{-17} k_{x} k_{y} - \\frac{\\sqrt{6} \\hbar^{2}}{m_{0}} 6.93889390390723 \\cdot 10^{-18} k_{x} k_{y} - \\frac{\\sqrt{6} i}{m_{0}} 2.77555756156289 \\cdot 10^{-17} \\hbar^{2} k_{x} k_{y} + \\frac{\\sqrt{2} i}{m_{0}} 2.77555756156289 \\cdot 10^{-17} \\hbar^{2} k_{x} k_{y} + \\frac{0.0721687836487032 \\hbar^{2}}{m_{0}} k_{x} k_{z} + \\frac{0.0416666666666667 \\sqrt{3}}{m_{0}} \\hbar^{2} k_{x} k_{z} + \\frac{0.102062072615966 \\sqrt{2}}{m_{0}} \\hbar^{2} k_{x} k_{z} - \\frac{0.102062072615966 i}{m_{0}} \\sqrt{2} \\hbar^{2} k_{x} k_{z} + \\frac{0.0721687836487032 i}{m_{0}} \\hbar^{2} k_{x} k_{z} + \\frac{0.0416666666666667 i}{m_{0}} \\sqrt{3} \\hbar^{2} k_{x} k_{z} + \\frac{\\sqrt{6} \\hbar^{2}}{m_{0}} 6.93889390390723 \\cdot 10^{-18} k_{y} k_{x} + \\frac{\\sqrt{2} \\hbar^{2}}{m_{0}} 6.24500451351651 \\cdot 10^{-17} k_{y} k_{x} - \\frac{\\sqrt{2} i}{m_{0}} 2.77555756156289 \\cdot 10^{-17} \\hbar^{2} k_{y} k_{x} + \\frac{\\sqrt{6} i}{m_{0}} 2.77555756156289 \\cdot 10^{-17} \\hbar^{2} k_{y} k_{x} - \\frac{0.0721687836487032 \\hbar^{2}}{m_{0}} k_{y} k_{z} - \\frac{0.0416666666666667 \\sqrt{3}}{m_{0}} \\hbar^{2} k_{y} k_{z} + \\frac{0.102062072615966 \\sqrt{2}}{m_{0}} \\hbar^{2} k_{y} k_{z} - \\frac{0.102062072615966 i}{m_{0}} \\sqrt{2} \\hbar^{2} k_{y} k_{z} - \\frac{0.0416666666666667 i}{m_{0}} \\sqrt{3} \\hbar^{2} k_{y} k_{z} - \\frac{0.0721687836487032 i}{m_{0}} \\hbar^{2} k_{y} k_{z} - \\frac{0.102062072615966 \\sqrt{2}}{m_{0}} \\hbar^{2} k_{z} k_{x} - \\frac{0.0721687836487032 \\hbar^{2}}{m_{0}} k_{z} k_{x} - \\frac{0.0416666666666667 \\sqrt{3}}{m_{0}} \\hbar^{2} k_{z} k_{x} - \\frac{0.0416666666666667 i}{m_{0}} \\sqrt{3} \\hbar^{2} k_{z} k_{x} - \\frac{0.0721687836487032 i}{m_{0}} \\hbar^{2} k_{z} k_{x} + \\frac{0.102062072615966 i}{m_{0}} \\sqrt{2} \\hbar^{2} k_{z} k_{x} - \\frac{0.102062072615966 \\sqrt{2}}{m_{0}} \\hbar^{2} k_{z} k_{y} + \\frac{0.0721687836487032 \\hbar^{2}}{m_{0}} k_{z} k_{y} + \\frac{0.0416666666666667 \\sqrt{3}}{m_{0}} \\hbar^{2} k_{z} k_{y} + \\frac{0.0721687836487032 i}{m_{0}} \\hbar^{2} k_{z} k_{y} + \\frac{0.0416666666666667 i}{m_{0}} \\sqrt{3} \\hbar^{2} k_{z} k_{y} + \\frac{0.102062072615966 i}{m_{0}} \\sqrt{2} \\hbar^{2} k_{z} k_{y}$$"
      ],
      "text/plain": [
       "                                                                              \n",
       "                                                      2.77555756156289e-17⋅γ₁⋅\n",
       "5.55111512312578e-17⋅Eᵥ - 1.38777878078145e-16⋅ⅈ⋅Eᵥ - ────────────────────────\n",
       "                                                                     m₀       \n",
       "\n",
       "  2   2                               2   2                             2    2\n",
       "h̅ ⋅kₓ    6.93889390390723e-17⋅ⅈ⋅γ₁⋅h̅ ⋅kₓ    2.77555756156289e-17⋅γ₁⋅h̅ ⋅k_y \n",
       "─────── + ───────────────────────────────── - ────────────────────────────────\n",
       "                          m₀                                 m₀               \n",
       "\n",
       "                               2    2                             2    2      \n",
       "   6.93889390390723e-17⋅ⅈ⋅γ₁⋅h̅ ⋅k_y    2.77555756156289e-17⋅γ₁⋅h̅ ⋅k_z    6.9\n",
       " + ────────────────────────────────── - ──────────────────────────────── + ───\n",
       "                   m₀                                  m₀                     \n",
       "\n",
       "                         2    2                             2                 \n",
       "3889390390723e-17⋅ⅈ⋅γ₁⋅h̅ ⋅k_z    1.11022302462516e-16⋅γ₂⋅h̅ ⋅kₓ⋅k_y   1.24900\n",
       "─────────────────────────────── - ────────────────────────────────── - ───────\n",
       "             m₀                                   m₀                          \n",
       "\n",
       "                    2                                    2                    \n",
       "09027033e-16⋅ⅈ⋅γ₂⋅h̅ ⋅kₓ⋅k_y   0.176776695296637⋅√6⋅γ₂⋅h̅ ⋅kₓ⋅k_z   0.17677669\n",
       "──────────────────────────── + ────────────────────────────────── - ──────────\n",
       "          m₀                                   m₀                             \n",
       "\n",
       "                  2                                    2   2                  \n",
       "5296637⋅√6⋅ⅈ⋅γ₂⋅h̅ ⋅kₓ⋅k_z   2.77555756156289e-17⋅γ₂⋅h̅ ⋅kₓ    4.8572257327350\n",
       "────────────────────────── + ─────────────────────────────── + ───────────────\n",
       "       m₀                                   m₀                                \n",
       "\n",
       "             2   2                             2                              \n",
       "6e-17⋅ⅈ⋅γ₂⋅h̅ ⋅kₓ    1.11022302462516e-16⋅γ₂⋅h̅ ⋅k_y⋅kₓ   1.2490009027033e-16⋅\n",
       "────────────────── - ────────────────────────────────── - ────────────────────\n",
       " m₀                                  m₀                                    m₀ \n",
       "\n",
       "       2                                    2                                 \n",
       "ⅈ⋅γ₂⋅h̅ ⋅k_y⋅kₓ   0.176776695296637⋅√6⋅γ₂⋅h̅ ⋅k_y⋅k_z   0.176776695296637⋅√6⋅ⅈ\n",
       "─────────────── + ─────────────────────────────────── - ──────────────────────\n",
       "                                   m₀                                     m₀  \n",
       "\n",
       "      2                                     2    2                            \n",
       "⋅γ₂⋅h̅ ⋅k_y⋅k_z   2.77555756156289e-17⋅γ₂⋅h̅ ⋅k_y    4.85722573273506e-17⋅ⅈ⋅γ₂\n",
       "─────────────── + ──────────────────────────────── + ─────────────────────────\n",
       "                                 m₀                                  m₀       \n",
       "\n",
       "   2    2                             2                                      2\n",
       "⋅h̅ ⋅k_y    0.176776695296637⋅√6⋅γ₂⋅h̅ ⋅k_z⋅kₓ   0.176776695296637⋅√6⋅ⅈ⋅γ₂⋅h̅ \n",
       "───────── + ────────────────────────────────── - ─────────────────────────────\n",
       "                            m₀                                    m₀          \n",
       "\n",
       "                                    2                                       2 \n",
       "⋅k_z⋅kₓ   0.176776695296637⋅√6⋅γ₂⋅h̅ ⋅k_z⋅k_y   0.176776695296637⋅√6⋅ⅈ⋅γ₂⋅h̅ ⋅\n",
       "─────── + ─────────────────────────────────── - ──────────────────────────────\n",
       "                           m₀                                     m₀          \n",
       "\n",
       "                                    2    2                               2    \n",
       "k_z⋅k_y   5.55111512312578e-17⋅γ₂⋅h̅ ⋅k_z    9.71445146547012e-17⋅ⅈ⋅γ₂⋅h̅ ⋅k_z\n",
       "─────── - ──────────────────────────────── - ─────────────────────────────────\n",
       "                         m₀                                  m₀               \n",
       "\n",
       "2                                2                                         2  \n",
       "    1.73472347597681e-17⋅√3⋅γ₃⋅h̅ ⋅kₓ⋅k_y   6.93889390390723e-17⋅√3⋅ⅈ⋅γ₃⋅h̅ ⋅k\n",
       "─ - ───────────────────────────────────── + ──────────────────────────────────\n",
       "                      m₀                                       m₀             \n",
       "\n",
       "                     2                         2                              \n",
       "ₓ⋅k_y   0.25⋅√3⋅γ₃⋅h̅ ⋅kₓ⋅k_z   0.25⋅√3⋅ⅈ⋅γ₃⋅h̅ ⋅kₓ⋅k_z   1.73472347597681e-17\n",
       "───── + ───────────────────── + ─────────────────────── - ────────────────────\n",
       "                  m₀                       m₀                             m₀  \n",
       "\n",
       "         2   2                                2   2                           \n",
       "⋅√3⋅γ₃⋅h̅ ⋅kₓ    8.32667268468867e-17⋅√6⋅γ₃⋅h̅ ⋅kₓ    7.63278329429795e-17⋅√6⋅\n",
       "────────────── + ────────────────────────────────── - ────────────────────────\n",
       "                                 m₀                                    m₀     \n",
       "\n",
       "       2   2                                  2   2                           \n",
       "ⅈ⋅γ₃⋅h̅ ⋅kₓ    6.93889390390723e-17⋅√3⋅ⅈ⋅γ₃⋅h̅ ⋅kₓ    1.73472347597681e-17⋅√3⋅\n",
       "──────────── + ──────────────────────────────────── - ────────────────────────\n",
       "                                m₀                                      m₀    \n",
       "\n",
       "     2                                         2                       2      \n",
       "γ₃⋅h̅ ⋅k_y⋅kₓ   6.93889390390723e-17⋅√3⋅ⅈ⋅γ₃⋅h̅ ⋅k_y⋅kₓ   0.25⋅√3⋅γ₃⋅h̅ ⋅k_y⋅k\n",
       "───────────── + ─────────────────────────────────────── - ────────────────────\n",
       "                                   m₀                               m₀        \n",
       "\n",
       "                    2                                        2    2           \n",
       "_z   0.25⋅√3⋅ⅈ⋅γ₃⋅h̅ ⋅k_y⋅k_z   8.32667268468867e-17⋅√6⋅γ₃⋅h̅ ⋅k_y    1.734723\n",
       "── - ──────────────────────── - ─────────────────────────────────── - ────────\n",
       "                m₀                               m₀                           \n",
       "\n",
       "                     2    2                                  2    2           \n",
       "47597681e-17⋅√3⋅γ₃⋅h̅ ⋅k_y    6.93889390390723e-17⋅√3⋅ⅈ⋅γ₃⋅h̅ ⋅k_y    7.632783\n",
       "─────────────────────────── + ───────────────────────────────────── + ────────\n",
       "         m₀                                     m₀                            \n",
       "\n",
       "                       2    2                2                         2      \n",
       "29429795e-17⋅√6⋅ⅈ⋅γ₃⋅h̅ ⋅k_y    0.25⋅√3⋅γ₃⋅h̅ ⋅k_z⋅kₓ   0.25⋅√3⋅ⅈ⋅γ₃⋅h̅ ⋅k_z⋅k\n",
       "───────────────────────────── + ───────────────────── + ──────────────────────\n",
       "          m₀                              m₀                       m₀         \n",
       "\n",
       "                 2                          2                                 \n",
       "ₓ   0.25⋅√3⋅γ₃⋅h̅ ⋅k_z⋅k_y   0.25⋅√3⋅ⅈ⋅γ₃⋅h̅ ⋅k_z⋅k_y   3.46944695195361e-17⋅√\n",
       "─ - ────────────────────── - ──────────────────────── + ──────────────────────\n",
       "              m₀                        m₀                               m₀   \n",
       "\n",
       "       2    2                                  2    2                         \n",
       "3⋅γ₃⋅h̅ ⋅k_z    1.38777878078145e-16⋅√3⋅ⅈ⋅γ₃⋅h̅ ⋅k_z    1.94289029309402e-16⋅√\n",
       "───────────── - ───────────────────────────────────── - ──────────────────────\n",
       "                                  m₀                                     m₀   \n",
       "\n",
       "    2                                      2                                  \n",
       "2⋅h̅ ⋅κ⋅kₓ⋅k_y   1.38777878078145e-17⋅√6⋅h̅ ⋅κ⋅kₓ⋅k_y   6.24500451351651e-17⋅√\n",
       "────────────── - ──────────────────────────────────── - ──────────────────────\n",
       "                                  m₀                                      m₀  \n",
       "\n",
       "      2                                        2                              \n",
       "6⋅ⅈ⋅h̅ ⋅κ⋅kₓ⋅k_y   8.32667268468867e-17⋅√2⋅ⅈ⋅h̅ ⋅κ⋅kₓ⋅k_y   0.21650635094611⋅h\n",
       "──────────────── + ────────────────────────────────────── + ──────────────────\n",
       "                                     m₀                                   m₀  \n",
       "\n",
       " 2                       2                                   2                \n",
       "̅ ⋅κ⋅kₓ⋅k_z   0.125⋅√3⋅h̅ ⋅κ⋅kₓ⋅k_z   0.306186217847897⋅√2⋅h̅ ⋅κ⋅kₓ⋅k_z   0.30\n",
       "─────────── + ───────────────────── + ───────────────────────────────── - ────\n",
       "                        m₀                            m₀                      \n",
       "\n",
       "                     2                                 2                      \n",
       "6186217847897⋅√2⋅ⅈ⋅h̅ ⋅κ⋅kₓ⋅k_z   0.21650635094611⋅ⅈ⋅h̅ ⋅κ⋅kₓ⋅k_z   0.125⋅√3⋅ⅈ\n",
       "─────────────────────────────── + ─────────────────────────────── + ──────────\n",
       "             m₀                                  m₀                           \n",
       "\n",
       "   2                                      2                                   \n",
       "⋅h̅ ⋅κ⋅kₓ⋅k_z   1.38777878078145e-17⋅√6⋅h̅ ⋅κ⋅k_y⋅kₓ   1.94289029309402e-16⋅√2\n",
       "───────────── + ──────────────────────────────────── + ───────────────────────\n",
       " m₀                              m₀                                     m₀    \n",
       "\n",
       "   2                                        2                                 \n",
       "⋅h̅ ⋅κ⋅k_y⋅kₓ   8.32667268468867e-17⋅√2⋅ⅈ⋅h̅ ⋅κ⋅k_y⋅kₓ   6.24500451351651e-17⋅\n",
       "───────────── - ────────────────────────────────────── + ─────────────────────\n",
       "                                  m₀                                       m₀ \n",
       "\n",
       "       2                       2                                2             \n",
       "√6⋅ⅈ⋅h̅ ⋅κ⋅k_y⋅kₓ   0.125⋅√3⋅h̅ ⋅κ⋅k_y⋅k_z   0.21650635094611⋅h̅ ⋅κ⋅k_y⋅k_z   \n",
       "───────────────── - ────────────────────── - ────────────────────────────── + \n",
       "                              m₀                           m₀                 \n",
       "\n",
       "                       2                                      2               \n",
       "0.306186217847897⋅√2⋅h̅ ⋅κ⋅k_y⋅k_z   0.306186217847897⋅√2⋅ⅈ⋅h̅ ⋅κ⋅k_y⋅k_z   0.\n",
       "────────────────────────────────── - ──────────────────────────────────── - ──\n",
       "                m₀                                    m₀                      \n",
       "\n",
       "           2                                  2                               \n",
       "125⋅√3⋅ⅈ⋅h̅ ⋅κ⋅k_y⋅k_z   0.21650635094611⋅ⅈ⋅h̅ ⋅κ⋅k_y⋅k_z   0.306186217847897⋅\n",
       "────────────────────── - ──────────────────────────────── - ──────────────────\n",
       "         m₀                             m₀                                  m₀\n",
       "\n",
       "     2                       2                               2                \n",
       "√2⋅h̅ ⋅κ⋅k_z⋅kₓ   0.125⋅√3⋅h̅ ⋅κ⋅k_z⋅kₓ   0.21650635094611⋅h̅ ⋅κ⋅k_z⋅kₓ   0.12\n",
       "─────────────── - ───────────────────── - ───────────────────────────── - ────\n",
       "                            m₀                          m₀                    \n",
       "\n",
       "         2                                 2                                  \n",
       "5⋅√3⋅ⅈ⋅h̅ ⋅κ⋅k_z⋅kₓ   0.21650635094611⋅ⅈ⋅h̅ ⋅κ⋅k_z⋅kₓ   0.306186217847897⋅√2⋅ⅈ\n",
       "─────────────────── - ─────────────────────────────── + ──────────────────────\n",
       "       m₀                            m₀                                  m₀   \n",
       "\n",
       "   2                                   2                                2     \n",
       "⋅h̅ ⋅κ⋅k_z⋅kₓ   0.306186217847897⋅√2⋅h̅ ⋅κ⋅k_z⋅k_y   0.21650635094611⋅h̅ ⋅κ⋅k_\n",
       "───────────── - ────────────────────────────────── + ─────────────────────────\n",
       "                                m₀                                 m₀         \n",
       "\n",
       "                   2                                  2                       \n",
       "z⋅k_y   0.125⋅√3⋅h̅ ⋅κ⋅k_z⋅k_y   0.21650635094611⋅ⅈ⋅h̅ ⋅κ⋅k_z⋅k_y   0.125⋅√3⋅ⅈ\n",
       "───── + ────────────────────── + ──────────────────────────────── + ──────────\n",
       "                  m₀                            m₀                            \n",
       "\n",
       "   2                                      2                                   \n",
       "⋅h̅ ⋅κ⋅k_z⋅k_y   0.306186217847897⋅√2⋅ⅈ⋅h̅ ⋅κ⋅k_z⋅k_y   6.24500451351651e-17⋅√\n",
       "────────────── + ──────────────────────────────────── - ──────────────────────\n",
       " m₀                               m₀                                    m₀    \n",
       "\n",
       "    2                                    2                                    \n",
       "2⋅h̅ ⋅kₓ⋅k_y   6.93889390390723e-18⋅√6⋅h̅ ⋅kₓ⋅k_y   2.77555756156289e-17⋅√6⋅ⅈ⋅\n",
       "──────────── - ────────────────────────────────── - ──────────────────────────\n",
       "                               m₀                                    m₀       \n",
       "\n",
       "  2                                      2                               2    \n",
       "h̅ ⋅kₓ⋅k_y   2.77555756156289e-17⋅√2⋅ⅈ⋅h̅ ⋅kₓ⋅k_y   0.0721687836487032⋅h̅ ⋅kₓ⋅\n",
       "────────── + ──────────────────────────────────── + ──────────────────────────\n",
       "                              m₀                                  m₀          \n",
       "\n",
       "                              2                                 2             \n",
       "k_z   0.0416666666666667⋅√3⋅h̅ ⋅kₓ⋅k_z   0.102062072615966⋅√2⋅h̅ ⋅kₓ⋅k_z   0.1\n",
       "─── + ──────────────────────────────── + ─────────────────────────────── - ───\n",
       "                     m₀                                 m₀                    \n",
       "\n",
       "                      2                                 2                     \n",
       "02062072615966⋅√2⋅ⅈ⋅h̅ ⋅kₓ⋅k_z   0.0721687836487032⋅ⅈ⋅h̅ ⋅kₓ⋅k_z   0.041666666\n",
       "────────────────────────────── + ─────────────────────────────── + ───────────\n",
       "             m₀                                 m₀                            \n",
       "\n",
       "               2                                    2                         \n",
       "6666667⋅√3⋅ⅈ⋅h̅ ⋅kₓ⋅k_z   6.93889390390723e-18⋅√6⋅h̅ ⋅k_y⋅kₓ   6.2450045135165\n",
       "─────────────────────── + ────────────────────────────────── + ───────────────\n",
       "     m₀                                   m₀                                  \n",
       "\n",
       "           2                                      2                           \n",
       "1e-17⋅√2⋅h̅ ⋅k_y⋅kₓ   2.77555756156289e-17⋅√2⋅ⅈ⋅h̅ ⋅k_y⋅kₓ   2.77555756156289e\n",
       "─────────────────── - ──────────────────────────────────── + ─────────────────\n",
       " m₀                                    m₀                                     \n",
       "\n",
       "           2                               2                                  \n",
       "-17⋅√6⋅ⅈ⋅h̅ ⋅k_y⋅kₓ   0.0721687836487032⋅h̅ ⋅k_y⋅k_z   0.0416666666666667⋅√3⋅h\n",
       "─────────────────── - ────────────────────────────── - ───────────────────────\n",
       "m₀                                  m₀                                 m₀     \n",
       "\n",
       " 2                                  2                                    2    \n",
       "̅ ⋅k_y⋅k_z   0.102062072615966⋅√2⋅h̅ ⋅k_y⋅k_z   0.102062072615966⋅√2⋅ⅈ⋅h̅ ⋅k_y\n",
       "────────── + ──────────────────────────────── - ──────────────────────────────\n",
       "                            m₀                                  m₀            \n",
       "\n",
       "                                 2                                  2         \n",
       "⋅k_z   0.0416666666666667⋅√3⋅ⅈ⋅h̅ ⋅k_y⋅k_z   0.0721687836487032⋅ⅈ⋅h̅ ⋅k_y⋅k_z \n",
       "──── - ─────────────────────────────────── - ──────────────────────────────── \n",
       "                        m₀                                  m₀                \n",
       "\n",
       "                         2                               2                    \n",
       "  0.102062072615966⋅√2⋅h̅ ⋅k_z⋅kₓ   0.0721687836487032⋅h̅ ⋅k_z⋅kₓ   0.04166666\n",
       "- ─────────────────────────────── - ───────────────────────────── - ──────────\n",
       "                 m₀                               m₀                          \n",
       "\n",
       "              2                                    2                          \n",
       "66666667⋅√3⋅h̅ ⋅k_z⋅kₓ   0.0416666666666667⋅√3⋅ⅈ⋅h̅ ⋅k_z⋅kₓ   0.07216878364870\n",
       "────────────────────── - ────────────────────────────────── - ────────────────\n",
       "     m₀                                  m₀                                  m\n",
       "\n",
       "       2                                   2                                 2\n",
       "32⋅ⅈ⋅h̅ ⋅k_z⋅kₓ   0.102062072615966⋅√2⋅ⅈ⋅h̅ ⋅k_z⋅kₓ   0.102062072615966⋅√2⋅h̅ \n",
       "─────────────── + ───────────────────────────────── - ────────────────────────\n",
       "₀                                 m₀                                 m₀       \n",
       "\n",
       "                                2                                   2         \n",
       "⋅k_z⋅k_y   0.0721687836487032⋅h̅ ⋅k_z⋅k_y   0.0416666666666667⋅√3⋅h̅ ⋅k_z⋅k_y \n",
       "──────── + ────────────────────────────── + ───────────────────────────────── \n",
       "                         m₀                                 m₀                \n",
       "\n",
       "                         2                                     2              \n",
       "  0.0721687836487032⋅ⅈ⋅h̅ ⋅k_z⋅k_y   0.0416666666666667⋅√3⋅ⅈ⋅h̅ ⋅k_z⋅k_y   0.1\n",
       "+ ──────────────────────────────── + ─────────────────────────────────── + ───\n",
       "                 m₀                                   m₀                      \n",
       "\n",
       "                      2        \n",
       "02062072615966⋅√2⋅ⅈ⋅h̅ ⋅k_z⋅k_y\n",
       "───────────────────────────────\n",
       "             m₀                "
      ]
     },
     "execution_count": 21,
     "metadata": {},
     "output_type": "execute_result"
    }
   ],
   "source": [
    "e"
   ]
  },
  {
   "cell_type": "code",
   "execution_count": 22,
   "metadata": {},
   "outputs": [
    {
     "data": {
      "image/png": "[encoded data removed]",
      "text/latex": [
       "$$\\frac{\\gamma_{2} \\hbar^{2}}{m_{0}} \\left(0.433012701892219 - 0.433012701892219 i\\right) k_{x} k_{z} + \\frac{\\gamma_{2} \\hbar^{2}}{m_{0}} \\left(0.433012701892219 - 0.433012701892219 i\\right) k_{y} k_{z} + \\frac{\\gamma_{2} \\hbar^{2}}{m_{0}} \\left(0.433012701892219 - 0.433012701892219 i\\right) k_{z} k_{x} + \\frac{\\gamma_{2} \\hbar^{2}}{m_{0}} \\left(0.433012701892219 - 0.433012701892219 i\\right) k_{z} k_{y} + \\frac{\\gamma_{3} \\hbar^{2}}{m_{0}} \\left(0.433012701892219 + 0.433012701892219 i\\right) k_{x} k_{z} + \\frac{\\gamma_{3} \\hbar^{2}}{m_{0}} \\left(-0.433012701892219 - 0.433012701892219 i\\right) k_{y} k_{z} + \\frac{\\gamma_{3} \\hbar^{2}}{m_{0}} \\left(0.433012701892219 + 0.433012701892219 i\\right) k_{z} k_{x} + \\frac{\\gamma_{3} \\hbar^{2}}{m_{0}} \\left(-0.433012701892219 - 0.433012701892219 i\\right) k_{z} k_{y} + \\frac{0.866025403784439 \\kappa}{m_{0}} \\hbar^{2} k_{x} k_{z} - \\frac{0.866025403784439 i}{m_{0}} \\hbar^{2} \\kappa k_{y} k_{z} - \\frac{0.866025403784439 \\kappa}{m_{0}} \\hbar^{2} k_{z} k_{x} + \\frac{0.866025403784439 i}{m_{0}} \\hbar^{2} \\kappa k_{z} k_{y} + \\frac{0.288675134594813 \\hbar^{2}}{m_{0}} k_{x} k_{z} - \\frac{0.288675134594813 i}{m_{0}} \\hbar^{2} k_{y} k_{z} - \\frac{0.288675134594813 \\hbar^{2}}{m_{0}} k_{z} k_{x} + \\frac{0.288675134594813 i}{m_{0}} \\hbar^{2} k_{z} k_{y}$$"
      ],
      "text/plain": [
       "     2                                                         2              \n",
       "γ₂⋅h̅ ⋅(0.433012701892219 - 0.433012701892219⋅ⅈ)⋅kₓ⋅k_z   γ₂⋅h̅ ⋅(0.4330127018\n",
       "─────────────────────────────────────────────────────── + ────────────────────\n",
       "                           m₀                                                 \n",
       "\n",
       "                                            2                                 \n",
       "92219 - 0.433012701892219⋅ⅈ)⋅k_y⋅k_z   γ₂⋅h̅ ⋅(0.433012701892219 - 0.433012701\n",
       "──────────────────────────────────── + ───────────────────────────────────────\n",
       "       m₀                                                         m₀          \n",
       "\n",
       "                        2                                                     \n",
       "892219⋅ⅈ)⋅k_z⋅kₓ   γ₂⋅h̅ ⋅(0.433012701892219 - 0.433012701892219⋅ⅈ)⋅k_z⋅k_y   \n",
       "──────────────── + ──────────────────────────────────────────────────────── + \n",
       "                                              m₀                              \n",
       "\n",
       "     2                                                         2              \n",
       "γ₃⋅h̅ ⋅(0.433012701892219 + 0.433012701892219⋅ⅈ)⋅kₓ⋅k_z   γ₃⋅h̅ ⋅(-0.433012701\n",
       "─────────────────────────────────────────────────────── + ────────────────────\n",
       "                           m₀                                                 \n",
       "\n",
       "                                             2                                \n",
       "892219 - 0.433012701892219⋅ⅈ)⋅k_y⋅k_z   γ₃⋅h̅ ⋅(0.433012701892219 + 0.43301270\n",
       "───────────────────────────────────── + ──────────────────────────────────────\n",
       "        m₀                                                         m₀         \n",
       "\n",
       "                         2                                                    \n",
       "1892219⋅ⅈ)⋅k_z⋅kₓ   γ₃⋅h̅ ⋅(-0.433012701892219 - 0.433012701892219⋅ⅈ)⋅k_z⋅k_y \n",
       "───────────────── + ───────────────────────────────────────────────────────── \n",
       "                                                m₀                            \n",
       "\n",
       "                      2                                  2                    \n",
       "  0.866025403784439⋅h̅ ⋅κ⋅kₓ⋅k_z   0.866025403784439⋅ⅈ⋅h̅ ⋅κ⋅k_y⋅k_z   0.86602\n",
       "+ ────────────────────────────── - ───────────────────────────────── - ───────\n",
       "                m₀                                 m₀                         \n",
       "\n",
       "             2                                  2                             \n",
       "5403784439⋅h̅ ⋅κ⋅k_z⋅kₓ   0.866025403784439⋅ⅈ⋅h̅ ⋅κ⋅k_z⋅k_y   0.28867513459481\n",
       "─────────────────────── + ───────────────────────────────── + ────────────────\n",
       "       m₀                                 m₀                               m₀ \n",
       "\n",
       "    2                                2                               2        \n",
       "3⋅h̅ ⋅kₓ⋅k_z   0.288675134594813⋅ⅈ⋅h̅ ⋅k_y⋅k_z   0.288675134594813⋅h̅ ⋅k_z⋅kₓ \n",
       "──────────── - ─────────────────────────────── - ──────────────────────────── \n",
       "                              m₀                              m₀              \n",
       "\n",
       "                        2        \n",
       "  0.288675134594813⋅ⅈ⋅h̅ ⋅k_z⋅k_y\n",
       "+ ───────────────────────────────\n",
       "                 m₀              "
      ]
     },
     "execution_count": 22,
     "metadata": {},
     "output_type": "execute_result"
    }
   ],
   "source": [
    "prettify(e, zero_atol=1e-8)"
   ]
  },
  {
   "cell_type": "code",
   "execution_count": 23,
   "metadata": {},
   "outputs": [
    {
     "data": {
      "image/png": "[encoded data removed]",
      "text/latex": [
       "$$\\frac{\\gamma_{2} \\hbar^{2}}{m_{0}} \\left(0.433012701892 - 0.433012701892 i\\right) k_{x} k_{z} + \\frac{\\gamma_{2} \\hbar^{2}}{m_{0}} \\left(0.433012701892 - 0.433012701892 i\\right) k_{y} k_{z} + \\frac{\\gamma_{2} \\hbar^{2}}{m_{0}} \\left(0.433012701892 - 0.433012701892 i\\right) k_{z} k_{x} + \\frac{\\gamma_{2} \\hbar^{2}}{m_{0}} \\left(0.433012701892 - 0.433012701892 i\\right) k_{z} k_{y} + \\frac{\\gamma_{3} \\hbar^{2}}{m_{0}} \\left(0.433012701892 + 0.433012701892 i\\right) k_{x} k_{z} + \\frac{\\gamma_{3} \\hbar^{2}}{m_{0}} \\left(-0.433012701892 - 0.433012701892 i\\right) k_{y} k_{z} + \\frac{\\gamma_{3} \\hbar^{2}}{m_{0}} \\left(0.433012701892 + 0.433012701892 i\\right) k_{z} k_{x} + \\frac{\\gamma_{3} \\hbar^{2}}{m_{0}} \\left(-0.433012701892 - 0.433012701892 i\\right) k_{z} k_{y} + \\frac{0.866025403784 \\kappa}{m_{0}} \\hbar^{2} k_{x} k_{z} - \\frac{0.866025403784 i}{m_{0}} \\hbar^{2} \\kappa k_{y} k_{z} - \\frac{0.866025403784 \\kappa}{m_{0}} \\hbar^{2} k_{z} k_{x} + \\frac{0.866025403784 i}{m_{0}} \\hbar^{2} \\kappa k_{z} k_{y} + \\frac{0.288675134595 \\hbar^{2}}{m_{0}} k_{x} k_{z} - \\frac{0.288675134595 i}{m_{0}} \\hbar^{2} k_{y} k_{z} - \\frac{0.288675134595 \\hbar^{2}}{m_{0}} k_{z} k_{x} + \\frac{0.288675134595 i}{m_{0}} \\hbar^{2} k_{z} k_{y}$$"
      ],
      "text/plain": [
       "     2                                                   2                    \n",
       "γ₂⋅h̅ ⋅(0.433012701892 - 0.433012701892⋅ⅈ)⋅kₓ⋅k_z   γ₂⋅h̅ ⋅(0.433012701892 - 0\n",
       "───────────────────────────────────────────────── + ──────────────────────────\n",
       "                        m₀                                                  m₀\n",
       "\n",
       "                                2                                             \n",
       ".433012701892⋅ⅈ)⋅k_y⋅k_z   γ₂⋅h̅ ⋅(0.433012701892 - 0.433012701892⋅ⅈ)⋅k_z⋅kₓ  \n",
       "──────────────────────── + ───────────────────────────────────────────────── +\n",
       "                                                   m₀                         \n",
       "\n",
       "      2                                                    2                  \n",
       " γ₂⋅h̅ ⋅(0.433012701892 - 0.433012701892⋅ⅈ)⋅k_z⋅k_y   γ₃⋅h̅ ⋅(0.433012701892 +\n",
       " ────────────────────────────────────────────────── + ────────────────────────\n",
       "                         m₀                                                   \n",
       "\n",
       "                                 2                                            \n",
       " 0.433012701892⋅ⅈ)⋅kₓ⋅k_z   γ₃⋅h̅ ⋅(-0.433012701892 - 0.433012701892⋅ⅈ)⋅k_y⋅k_\n",
       "───────────────────────── + ──────────────────────────────────────────────────\n",
       "m₀                                                   m₀                       \n",
       "\n",
       "         2                                                   2                \n",
       "z   γ₃⋅h̅ ⋅(0.433012701892 + 0.433012701892⋅ⅈ)⋅k_z⋅kₓ   γ₃⋅h̅ ⋅(-0.43301270189\n",
       "─ + ───────────────────────────────────────────────── + ──────────────────────\n",
       "                            m₀                                                \n",
       "\n",
       "                                                 2                            \n",
       "2 - 0.433012701892⋅ⅈ)⋅k_z⋅k_y   0.866025403784⋅h̅ ⋅κ⋅kₓ⋅k_z   0.866025403784⋅ⅈ\n",
       "───────────────────────────── + ─────────────────────────── - ────────────────\n",
       "   m₀                                        m₀                             m₀\n",
       "\n",
       "   2                              2                               2           \n",
       "⋅h̅ ⋅κ⋅k_y⋅k_z   0.866025403784⋅h̅ ⋅κ⋅k_z⋅kₓ   0.866025403784⋅ⅈ⋅h̅ ⋅κ⋅k_z⋅k_y \n",
       "────────────── - ─────────────────────────── + ────────────────────────────── \n",
       "                              m₀                             m₀               \n",
       "\n",
       "                   2                             2                            \n",
       "  0.288675134595⋅h̅ ⋅kₓ⋅k_z   0.288675134595⋅ⅈ⋅h̅ ⋅k_y⋅k_z   0.288675134595⋅h̅\n",
       "+ ───────────────────────── - ──────────────────────────── - ─────────────────\n",
       "              m₀                           m₀                            m₀   \n",
       "\n",
       "2                             2        \n",
       " ⋅k_z⋅kₓ   0.288675134595⋅ⅈ⋅h̅ ⋅k_z⋅k_y\n",
       "──────── + ────────────────────────────\n",
       "                        m₀             "
      ]
     },
     "execution_count": 23,
     "metadata": {},
     "output_type": "execute_result"
    }
   ],
   "source": [
    "prettify(e, decimals=12)"
   ]
  },
  {
   "cell_type": "code",
   "execution_count": 24,
   "metadata": {},
   "outputs": [
    {
     "data": {
      "image/png": "[encoded data removed]",
      "text/latex": [
       "$$\\frac{\\gamma_{2} \\hbar^{2}}{m_{0}} \\left(\\frac{\\sqrt{3}}{4} - \\frac{\\sqrt{3} i}{4}\\right) k_{x} k_{z} + \\frac{\\gamma_{2} \\hbar^{2}}{m_{0}} \\left(\\frac{\\sqrt{3}}{4} - \\frac{\\sqrt{3} i}{4}\\right) k_{y} k_{z} + \\frac{\\gamma_{2} \\hbar^{2}}{m_{0}} \\left(\\frac{\\sqrt{3}}{4} - \\frac{\\sqrt{3} i}{4}\\right) k_{z} k_{x} + \\frac{\\gamma_{2} \\hbar^{2}}{m_{0}} \\left(\\frac{\\sqrt{3}}{4} - \\frac{\\sqrt{3} i}{4}\\right) k_{z} k_{y} + \\frac{\\gamma_{3} \\hbar^{2}}{m_{0}} \\left(\\frac{\\sqrt{3}}{4} + \\frac{\\sqrt{3} i}{4}\\right) k_{x} k_{z} + \\frac{\\gamma_{3} \\hbar^{2}}{m_{0}} \\left(- \\frac{\\sqrt{3}}{4} - \\frac{\\sqrt{3} i}{4}\\right) k_{y} k_{z} + \\frac{\\gamma_{3} \\hbar^{2}}{m_{0}} \\left(\\frac{\\sqrt{3}}{4} + \\frac{\\sqrt{3} i}{4}\\right) k_{z} k_{x} + \\frac{\\gamma_{3} \\hbar^{2}}{m_{0}} \\left(- \\frac{\\sqrt{3}}{4} - \\frac{\\sqrt{3} i}{4}\\right) k_{z} k_{y} + \\frac{\\sqrt{3} \\hbar^{2} \\kappa k_{x}}{2 m_{0}} k_{z} - \\frac{\\sqrt{3} i \\hbar^{2} \\kappa}{2 m_{0}} k_{y} k_{z} - \\frac{\\sqrt{3} \\hbar^{2} \\kappa k_{z}}{2 m_{0}} k_{x} + \\frac{\\sqrt{3} i \\hbar^{2} \\kappa}{2 m_{0}} k_{z} k_{y} + \\frac{\\sqrt{3} \\hbar^{2} k_{x} k_{z}}{6 m_{0}} - \\frac{\\sqrt{3} i \\hbar^{2} k_{y}}{6 m_{0}} k_{z} - \\frac{\\sqrt{3} \\hbar^{2} k_{z} k_{x}}{6 m_{0}} + \\frac{\\sqrt{3} i \\hbar^{2} k_{z}}{6 m_{0}} k_{y}$$"
      ],
      "text/plain": [
       "     2 ⎛√3   √3⋅ⅈ⎞               2 ⎛√3   √3⋅ⅈ⎞                2 ⎛√3   √3⋅ⅈ⎞   \n",
       "γ₂⋅h̅ ⋅⎜── - ────⎟⋅kₓ⋅k_z   γ₂⋅h̅ ⋅⎜── - ────⎟⋅k_y⋅k_z   γ₂⋅h̅ ⋅⎜── - ────⎟⋅k_\n",
       "       ⎝4     4  ⎠                 ⎝4     4  ⎠                  ⎝4     4  ⎠   \n",
       "───────────────────────── + ────────────────────────── + ─────────────────────\n",
       "            m₀                          m₀                           m₀       \n",
       "\n",
       "            2 ⎛√3   √3⋅ⅈ⎞                2 ⎛√3   √3⋅ⅈ⎞               2 ⎛  √3  \n",
       "z⋅kₓ   γ₂⋅h̅ ⋅⎜── - ────⎟⋅k_z⋅k_y   γ₃⋅h̅ ⋅⎜── + ────⎟⋅kₓ⋅k_z   γ₃⋅h̅ ⋅⎜- ── -\n",
       "              ⎝4     4  ⎠                  ⎝4     4  ⎠                 ⎝  4   \n",
       "──── + ────────────────────────── + ───────────────────────── + ──────────────\n",
       "                   m₀                           m₀                           m\n",
       "\n",
       " √3⋅ⅈ⎞                2 ⎛√3   √3⋅ⅈ⎞               2 ⎛  √3   √3⋅ⅈ⎞             \n",
       " ────⎟⋅k_y⋅k_z   γ₃⋅h̅ ⋅⎜── + ────⎟⋅k_z⋅kₓ   γ₃⋅h̅ ⋅⎜- ── - ────⎟⋅k_z⋅k_y     \n",
       "  4  ⎠                  ⎝4     4  ⎠                 ⎝  4     4  ⎠           √3\n",
       "────────────── + ───────────────────────── + ──────────────────────────── + ──\n",
       "₀                            m₀                           m₀                  \n",
       "\n",
       "                                                                              \n",
       "   2                   2                  2                   2               \n",
       "⋅h̅ ⋅κ⋅kₓ⋅k_z   √3⋅ⅈ⋅h̅ ⋅κ⋅k_y⋅k_z   √3⋅h̅ ⋅κ⋅k_z⋅kₓ   √3⋅ⅈ⋅h̅ ⋅κ⋅k_z⋅k_y   √3\n",
       "───────────── - ────────────────── - ─────────────── + ────────────────── + ──\n",
       "    2⋅m₀               2⋅m₀                2⋅m₀               2⋅m₀            \n",
       "\n",
       "                                                                 \n",
       "   2                 2                2                 2        \n",
       "⋅h̅ ⋅kₓ⋅k_z   √3⋅ⅈ⋅h̅ ⋅k_y⋅k_z   √3⋅h̅ ⋅k_z⋅kₓ   √3⋅ⅈ⋅h̅ ⋅k_z⋅k_y\n",
       "─────────── - ──────────────── - ───────────── + ────────────────\n",
       "   6⋅m₀             6⋅m₀              6⋅m₀             6⋅m₀      "
      ]
     },
     "execution_count": 24,
     "metadata": {},
     "output_type": "execute_result"
    }
   ],
   "source": [
    "prettify(e, zero_atol=1e-8, nsimplify=True)"
   ]
  },
  {
   "cell_type": "code",
   "execution_count": 25,
   "metadata": {},
   "outputs": [
    {
     "data": {
      "image/png": "[encoded data removed]",
      "text/latex": [
       "$$\\frac{\\gamma_{2} \\hbar^{2}}{m_{0}} \\left(\\frac{\\sqrt{3}}{4} - \\frac{\\sqrt{3} i}{4}\\right) k_{x} k_{z} + \\frac{\\gamma_{2} \\hbar^{2}}{m_{0}} \\left(\\frac{\\sqrt{3}}{4} - \\frac{\\sqrt{3} i}{4}\\right) k_{y} k_{z} + \\frac{\\gamma_{2} \\hbar^{2}}{m_{0}} \\left(\\frac{\\sqrt{3}}{4} - \\frac{\\sqrt{3} i}{4}\\right) k_{z} k_{x} + \\frac{\\gamma_{2} \\hbar^{2}}{m_{0}} \\left(\\frac{\\sqrt{3}}{4} - \\frac{\\sqrt{3} i}{4}\\right) k_{z} k_{y} + \\frac{\\gamma_{3} \\hbar^{2}}{m_{0}} \\left(\\frac{\\sqrt{3}}{4} + \\frac{\\sqrt{3} i}{4}\\right) k_{x} k_{z} + \\frac{\\gamma_{3} \\hbar^{2}}{m_{0}} \\left(- \\frac{\\sqrt{3}}{4} - \\frac{\\sqrt{3} i}{4}\\right) k_{y} k_{z} + \\frac{\\gamma_{3} \\hbar^{2}}{m_{0}} \\left(\\frac{\\sqrt{3}}{4} + \\frac{\\sqrt{3} i}{4}\\right) k_{z} k_{x} + \\frac{\\gamma_{3} \\hbar^{2}}{m_{0}} \\left(- \\frac{\\sqrt{3}}{4} - \\frac{\\sqrt{3} i}{4}\\right) k_{z} k_{y} + \\frac{\\sqrt{3} \\hbar^{2} \\kappa k_{x}}{2 m_{0}} k_{z} - \\frac{\\sqrt{3} i \\hbar^{2} \\kappa}{2 m_{0}} k_{y} k_{z} - \\frac{\\sqrt{3} \\hbar^{2} \\kappa k_{z}}{2 m_{0}} k_{x} + \\frac{\\sqrt{3} i \\hbar^{2} \\kappa}{2 m_{0}} k_{z} k_{y} + \\frac{\\sqrt{3} \\hbar^{2} k_{x} k_{z}}{6 m_{0}} - \\frac{\\sqrt{3} i \\hbar^{2} k_{y}}{6 m_{0}} k_{z} - \\frac{\\sqrt{3} \\hbar^{2} k_{z} k_{x}}{6 m_{0}} + \\frac{\\sqrt{3} i \\hbar^{2} k_{z}}{6 m_{0}} k_{y}$$"
      ],
      "text/plain": [
       "     2 ⎛√3   √3⋅ⅈ⎞               2 ⎛√3   √3⋅ⅈ⎞                2 ⎛√3   √3⋅ⅈ⎞   \n",
       "γ₂⋅h̅ ⋅⎜── - ────⎟⋅kₓ⋅k_z   γ₂⋅h̅ ⋅⎜── - ────⎟⋅k_y⋅k_z   γ₂⋅h̅ ⋅⎜── - ────⎟⋅k_\n",
       "       ⎝4     4  ⎠                 ⎝4     4  ⎠                  ⎝4     4  ⎠   \n",
       "───────────────────────── + ────────────────────────── + ─────────────────────\n",
       "            m₀                          m₀                           m₀       \n",
       "\n",
       "            2 ⎛√3   √3⋅ⅈ⎞                2 ⎛√3   √3⋅ⅈ⎞               2 ⎛  √3  \n",
       "z⋅kₓ   γ₂⋅h̅ ⋅⎜── - ────⎟⋅k_z⋅k_y   γ₃⋅h̅ ⋅⎜── + ────⎟⋅kₓ⋅k_z   γ₃⋅h̅ ⋅⎜- ── -\n",
       "              ⎝4     4  ⎠                  ⎝4     4  ⎠                 ⎝  4   \n",
       "──── + ────────────────────────── + ───────────────────────── + ──────────────\n",
       "                   m₀                           m₀                           m\n",
       "\n",
       " √3⋅ⅈ⎞                2 ⎛√3   √3⋅ⅈ⎞               2 ⎛  √3   √3⋅ⅈ⎞             \n",
       " ────⎟⋅k_y⋅k_z   γ₃⋅h̅ ⋅⎜── + ────⎟⋅k_z⋅kₓ   γ₃⋅h̅ ⋅⎜- ── - ────⎟⋅k_z⋅k_y     \n",
       "  4  ⎠                  ⎝4     4  ⎠                 ⎝  4     4  ⎠           √3\n",
       "────────────── + ───────────────────────── + ──────────────────────────── + ──\n",
       "₀                            m₀                           m₀                  \n",
       "\n",
       "                                                                              \n",
       "   2                   2                  2                   2               \n",
       "⋅h̅ ⋅κ⋅kₓ⋅k_z   √3⋅ⅈ⋅h̅ ⋅κ⋅k_y⋅k_z   √3⋅h̅ ⋅κ⋅k_z⋅kₓ   √3⋅ⅈ⋅h̅ ⋅κ⋅k_z⋅k_y   √3\n",
       "───────────── - ────────────────── - ─────────────── + ────────────────── + ──\n",
       "    2⋅m₀               2⋅m₀                2⋅m₀               2⋅m₀            \n",
       "\n",
       "                                                                 \n",
       "   2                 2                2                 2        \n",
       "⋅h̅ ⋅kₓ⋅k_z   √3⋅ⅈ⋅h̅ ⋅k_y⋅k_z   √3⋅h̅ ⋅k_z⋅kₓ   √3⋅ⅈ⋅h̅ ⋅k_z⋅k_y\n",
       "─────────── - ──────────────── - ───────────── + ────────────────\n",
       "   6⋅m₀             6⋅m₀              6⋅m₀             6⋅m₀      "
      ]
     },
     "execution_count": 25,
     "metadata": {},
     "output_type": "execute_result"
    }
   ],
   "source": [
    "prettify(e, decimals=12, nsimplify=True)"
   ]
  },
  {
   "cell_type": "markdown",
   "metadata": {},
   "source": [
    "# spin matrices"
   ]
  },
  {
   "cell_type": "code",
   "execution_count": 18,
   "metadata": {},
   "outputs": [],
   "source": [
    "import numpy as np\n",
    "\n",
    "def spin_matrices(s):\n",
    "    \"\"\"Construct spin-s matrices for any spin.\"\"\"\n",
    "    d = np.round(2*s + 1)\n",
    "    if not np.isclose(d, int(d)):\n",
    "        raise ValueError(\"Argument 's' must be integer or half integer.\")\n",
    "    d = int(d)\n",
    "    Sz = 1/2 * np.diag(np.arange(d - 1, -d, -2))\n",
    "    # first diagonal for general s from en.wikipedia.org/wiki/Spin_(physics)\n",
    "    diag = [(1 / 2) * np.sqrt(2 * i * (s + 1) - i * (i + 1)) for i in np.arange(1, d)]\n",
    "    Sx = np.diag(diag, k=1) + np.diag(diag, k=-1)\n",
    "    Sy = -1j * np.diag(diag, k=1) + 1j * np.diag(diag, k=-1)\n",
    "    return Sx, Sy, Sz\n"
   ]
  },
  {
   "cell_type": "code",
   "execution_count": 19,
   "metadata": {},
   "outputs": [
    {
     "data": {
      "text/plain": [
       "(array([[0. , 0.5],\n",
       "        [0.5, 0. ]]), array([[0.+0.j , 0.-0.5j],\n",
       "        [0.+0.5j, 0.+0.j ]]), array([[ 0.5,  0. ],\n",
       "        [ 0. , -0.5]]))"
      ]
     },
     "execution_count": 19,
     "metadata": {},
     "output_type": "execute_result"
    }
   ],
   "source": [
    "spin_matrices(1/2)"
   ]
  },
  {
   "cell_type": "code",
   "execution_count": 44,
   "metadata": {},
   "outputs": [
    {
     "data": {
      "text/latex": [
       "$$\\left [ \\left[\\begin{matrix}0 & \\frac{1}{2}\\\\\\frac{1}{2} & 0\\end{matrix}\\right], \\quad \\left[\\begin{matrix}0 & - \\frac{i}{2}\\\\\\frac{i}{2} & 0\\end{matrix}\\right], \\quad \\left[\\begin{matrix}\\frac{1}{2} & 0\\\\0 & - \\frac{1}{2}\\end{matrix}\\right]\\right ]$$"
      ],
      "text/plain": [
       "⎡            ⎡   -ⅈ ⎤             ⎤\n",
       "⎢            ⎢0  ───⎥             ⎥\n",
       "⎢⎡ 0   1/2⎤  ⎢    2 ⎥  ⎡1/2   0  ⎤⎥\n",
       "⎢⎢        ⎥, ⎢      ⎥, ⎢         ⎥⎥\n",
       "⎢⎣1/2   0 ⎦  ⎢ⅈ     ⎥  ⎣ 0   -1/2⎦⎥\n",
       "⎢            ⎢─   0 ⎥             ⎥\n",
       "⎣            ⎣2     ⎦             ⎦"
      ]
     },
     "execution_count": 44,
     "metadata": {},
     "output_type": "execute_result"
    }
   ],
   "source": [
    "[prettify(sympy.Matrix(s), nsimplify=True) for s in spin_matrices(1/2)]"
   ]
  },
  {
   "cell_type": "code",
   "execution_count": 41,
   "metadata": {},
   "outputs": [
    {
     "data": {
      "text/latex": [
       "$$\\left [ \\left[\\begin{matrix}0 & \\frac{1}{2}\\\\\\frac{1}{2} & 0\\end{matrix}\\right], \\quad \\left[\\begin{matrix}0 & - \\frac{i}{2}\\\\\\frac{i}{2} & 0\\end{matrix}\\right], \\quad \\left[\\begin{matrix}\\frac{1}{2} & 0\\\\0 & - \\frac{1}{2}\\end{matrix}\\right]\\right ]$$"
      ],
      "text/plain": [
       "⎡            ⎡   -ⅈ ⎤             ⎤\n",
       "⎢            ⎢0  ───⎥             ⎥\n",
       "⎢⎡ 0   1/2⎤  ⎢    2 ⎥  ⎡1/2   0  ⎤⎥\n",
       "⎢⎢        ⎥, ⎢      ⎥, ⎢         ⎥⎥\n",
       "⎢⎣1/2   0 ⎦  ⎢ⅈ     ⎥  ⎣ 0   -1/2⎦⎥\n",
       "⎢            ⎢─   0 ⎥             ⎥\n",
       "⎣            ⎣2     ⎦             ⎦"
      ]
     },
     "execution_count": 41,
     "metadata": {},
     "output_type": "execute_result"
    }
   ],
   "source": [
    "semicon.models.spin_operators(bands=['gamma_6c'])"
   ]
  },
  {
   "cell_type": "code",
   "execution_count": 46,
   "metadata": {},
   "outputs": [
    {
     "data": {
      "text/plain": [
       "-1"
      ]
     },
     "execution_count": 46,
     "metadata": {},
     "output_type": "execute_result"
    }
   ],
   "source": [
    "np.sign(-1)"
   ]
  },
  {
   "cell_type": "code",
   "execution_count": 70,
   "metadata": {},
   "outputs": [],
   "source": [
    "rotation_subs = lambda R, v: {cprime: c for (cprime, c) in zip(v, R @ v)}"
   ]
  },
  {
   "cell_type": "code",
   "execution_count": 82,
   "metadata": {},
   "outputs": [],
   "source": [
    "momentum = kwant.continuum.momentum_operators\n",
    "position = kwant.continuum.position_operators"
   ]
  },
  {
   "cell_type": "code",
   "execution_count": 83,
   "metadata": {},
   "outputs": [],
   "source": [
    "act_on = np.atleast_2d([momentum, position])"
   ]
  },
  {
   "cell_type": "code",
   "execution_count": 92,
   "metadata": {},
   "outputs": [],
   "source": [
    "subs = {}\n",
    "for row in act_on:\n",
    "    new_subs = rotation_subs(R, sympy.Matrix(row))\n",
    "    subs.update(new_subs)"
   ]
  },
  {
   "cell_type": "code",
   "execution_count": 93,
   "metadata": {},
   "outputs": [
    {
     "data": {
      "image/png": "[encoded data removed]",
      "text/latex": [
       "$$\\left \\{ k_{x} : \\frac{k_{x}}{2} + \\frac{k_{y}}{2} + \\frac{\\sqrt{2} k_{z}}{2}, \\quad k_{y} : - \\frac{k_{x}}{2} - \\frac{k_{y}}{2} + \\frac{\\sqrt{2} k_{z}}{2}, \\quad k_{z} : \\frac{\\sqrt{2} k_{x}}{2} - \\frac{\\sqrt{2} k_{y}}{2}, \\quad x : \\frac{x}{2} + \\frac{y}{2} + \\frac{\\sqrt{2} z}{2}, \\quad y : - \\frac{x}{2} - \\frac{y}{2} + \\frac{\\sqrt{2} z}{2}, \\quad z : \\frac{\\sqrt{2} x}{2} - \\frac{\\sqrt{2} y}{2}\\right \\}$$"
      ],
      "text/plain": [
       "⎧    kₓ   k_y   √2⋅k_z         kₓ   k_y   √2⋅k_z       √2⋅kₓ   √2⋅k_y     x   \n",
       "⎨kₓ: ── + ─── + ──────, k_y: - ── - ─── + ──────, k_z: ───── - ──────, x: ─ + \n",
       "⎩    2     2      2            2     2      2            2       2        2   \n",
       "\n",
       "y   √2⋅z       x   y   √2⋅z     √2⋅x   √2⋅y⎫\n",
       "─ + ────, y: - ─ - ─ + ────, z: ──── - ────⎬\n",
       "2    2         2   2    2        2      2  ⎭"
      ]
     },
     "execution_count": 93,
     "metadata": {},
     "output_type": "execute_result"
    }
   ],
   "source": [
    "subs"
   ]
  },
  {
   "cell_type": "code",
   "execution_count": 89,
   "metadata": {},
   "outputs": [
    {
     "data": {
      "image/png": "[encoded data removed]",
      "text/latex": [
       "$$\\left \\{ k_{x} : \\frac{k_{x}}{2} + \\frac{k_{y}}{2} + \\frac{\\sqrt{2} k_{z}}{2}, \\quad k_{y} : - \\frac{k_{x}}{2} - \\frac{k_{y}}{2} + \\frac{\\sqrt{2} k_{z}}{2}, \\quad k_{z} : \\frac{\\sqrt{2} k_{x}}{2} - \\frac{\\sqrt{2} k_{y}}{2}, \\quad x : \\frac{x}{2} + \\frac{y}{2} + \\frac{\\sqrt{2} z}{2}, \\quad y : - \\frac{x}{2} - \\frac{y}{2} + \\frac{\\sqrt{2} z}{2}, \\quad z : \\frac{\\sqrt{2} x}{2} - \\frac{\\sqrt{2} y}{2}\\right \\}$$"
      ],
      "text/plain": [
       "⎧    kₓ   k_y   √2⋅k_z         kₓ   k_y   √2⋅k_z       √2⋅kₓ   √2⋅k_y     x   \n",
       "⎨kₓ: ── + ─── + ──────, k_y: - ── - ─── + ──────, k_z: ───── - ──────, x: ─ + \n",
       "⎩    2     2      2            2     2      2            2       2        2   \n",
       "\n",
       "y   √2⋅z       x   y   √2⋅z     √2⋅x   √2⋅y⎫\n",
       "─ + ────, y: - ─ - ─ + ────, z: ──── - ────⎬\n",
       "2    2         2   2    2        2      2  ⎭"
      ]
     },
     "execution_count": 89,
     "metadata": {},
     "output_type": "execute_result"
    }
   ],
   "source": [
    "{k: v \n",
    " for row in act_on\n",
    " for k, v in .items()\n",
    " }"
   ]
  },
  {
   "cell_type": "code",
   "execution_count": null,
   "metadata": {},
   "outputs": [],
   "source": []
  },
  {
   "cell_type": "code",
   "execution_count": 56,
   "metadata": {},
   "outputs": [
    {
     "data": {
      "text/plain": [
       "sympy.matrices.dense.MutableDenseMatrix"
      ]
     },
     "execution_count": 56,
     "metadata": {},
     "output_type": "execute_result"
    }
   ],
   "source": [
    "kwant.continuum.sympify('[k_x, k_y, k_z]')"
   ]
  },
  {
   "cell_type": "code",
   "execution_count": 53,
   "metadata": {},
   "outputs": [],
   "source": [
    "from semicon.kp_models.symbols import momentum_symbols"
   ]
  },
  {
   "cell_type": "code",
   "execution_count": 59,
   "metadata": {},
   "outputs": [
    {
     "data": {
      "text/latex": [
       "$$\\left[\\begin{matrix}k_{x}\\\\k_{y}\\\\k_{z}\\end{matrix}\\right]$$"
      ],
      "text/plain": [
       "⎡kₓ ⎤\n",
       "⎢   ⎥\n",
       "⎢k_y⎥\n",
       "⎢   ⎥\n",
       "⎣k_z⎦"
      ]
     },
     "execution_count": 59,
     "metadata": {},
     "output_type": "execute_result"
    }
   ],
   "source": [
    "sympy.Matrix(momentum_symbols)"
   ]
  },
  {
   "cell_type": "code",
   "execution_count": 68,
   "metadata": {},
   "outputs": [
    {
     "data": {
      "text/plain": [
       "array([[k_x, k_y, k_z]], dtype=object)"
      ]
     },
     "execution_count": 68,
     "metadata": {},
     "output_type": "execute_result"
    }
   ],
   "source": [
    "np.atleast_2d(kwant.continuum.momentum_operators)"
   ]
  },
  {
   "cell_type": "code",
   "execution_count": 75,
   "metadata": {},
   "outputs": [
    {
     "name": "stdout",
     "output_type": "stream",
     "text": [
      "[1 2 3]\n",
      "[2 3 5]\n"
     ]
    }
   ],
   "source": [
    "for row in np.atleast_2d([[1, 2, 3], [2, 3, 5]]):\n",
    "    print(row)"
   ]
  },
  {
   "cell_type": "code",
   "execution_count": null,
   "metadata": {},
   "outputs": [],
   "source": []
  },
  {
   "cell_type": "code",
   "execution_count": 62,
   "metadata": {},
   "outputs": [
    {
     "data": {
      "text/plain": [
       "array([[k_x],\n",
       "       [k_y],\n",
       "       [k_z]], dtype=object)"
      ]
     },
     "execution_count": 62,
     "metadata": {},
     "output_type": "execute_result"
    }
   ],
   "source": [
    "np.atleast_2d(sympy.Matrix(kwant.continuum.momentum_operators))"
   ]
  }
 ],
 "metadata": {
  "kernelspec": {
   "display_name": "Python 3",
   "language": "python",
   "name": "python3"
  },
  "language_info": {
   "codemirror_mode": {
    "name": "ipython",
    "version": 3
   },
   "file_extension": ".py",
   "mimetype": "text/x-python",
   "name": "python",
   "nbconvert_exporter": "python",
   "pygments_lexer": "ipython3",
   "version": "3.6.6"
  }
 },
 "nbformat": 4,
 "nbformat_minor": 2
}
