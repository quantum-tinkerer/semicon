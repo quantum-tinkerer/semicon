{
 "cells": [
  {
   "cell_type": "code",
   "execution_count": 1,
   "metadata": {},
   "outputs": [],
   "source": [
    "import scipy"
   ]
  },
  {
   "cell_type": "code",
   "execution_count": 2,
   "metadata": {},
   "outputs": [
    {
     "data": {
      "text/plain": [
       "'1.2.0.dev0+10233db'"
      ]
     },
     "execution_count": 2,
     "metadata": {},
     "output_type": "execute_result"
    }
   ],
   "source": [
    "scipy.__version__"
   ]
  },
  {
   "cell_type": "code",
   "execution_count": 3,
   "metadata": {},
   "outputs": [],
   "source": [
    "import kwant\n",
    "\n",
    "import numpy as np\n",
    "import sympy\n",
    "sympy.init_printing(print_builtin=False)"
   ]
  },
  {
   "cell_type": "markdown",
   "metadata": {},
   "source": [
    "# prepare test Hamiltonian"
   ]
  },
  {
   "cell_type": "code",
   "execution_count": 4,
   "metadata": {},
   "outputs": [],
   "source": [
    "tmp = \"alpha_{0} * k_{0} * sigma_{0}\"\n",
    "sx, sy, sz = sympy.symbols('sigma_x sigma_y sigma_z')\n",
    "\n",
    "ham1 = kwant.continuum.sympify(\n",
    "    \" + \".join(tmp.format(s) for s in ['x', 'y', 'z']),\n",
    "    locals={'sigma_x': sx, 'sigma_y': sy, 'sigma_z': sz}\n",
    "\n",
    ")\n",
    "\n",
    "ham2 = kwant.continuum.sympify(\" + \".join(tmp.format(s) for s in ['x', 'y', 'z']))"
   ]
  },
  {
   "cell_type": "code",
   "execution_count": 5,
   "metadata": {},
   "outputs": [
    {
     "data": {
      "image/png": "[encoded data removed]",
      "text/latex": [
       "$$\\alpha_{x} \\sigma_{x} k_{x} + \\alpha_{y} \\sigma_{y} k_{y} + \\alpha_{z} \\sigma_{z} k_{z}$$"
      ],
      "text/plain": [
       "αₓ⋅σₓ⋅kₓ + α_y⋅σ_y⋅k_y + α_z⋅σ_z⋅k_z"
      ]
     },
     "execution_count": 5,
     "metadata": {},
     "output_type": "execute_result"
    }
   ],
   "source": [
    "ham1"
   ]
  },
  {
   "cell_type": "code",
   "execution_count": 6,
   "metadata": {},
   "outputs": [
    {
     "data": {
      "text/latex": [
       "$$\\left[\\begin{matrix}\\alpha_{z} k_{z} & \\alpha_{x} k_{x} - i \\alpha_{y} k_{y}\\\\\\alpha_{x} k_{x} + i \\alpha_{y} k_{y} & - \\alpha_{z} k_{z}\\end{matrix}\\right]$$"
      ],
      "text/plain": [
       "⎡     α_z⋅k_z       αₓ⋅kₓ - ⅈ⋅α_y⋅k_y⎤\n",
       "⎢                                    ⎥\n",
       "⎣αₓ⋅kₓ + ⅈ⋅α_y⋅k_y      -α_z⋅k_z     ⎦"
      ]
     },
     "execution_count": 6,
     "metadata": {},
     "output_type": "execute_result"
    }
   ],
   "source": [
    "ham2"
   ]
  },
  {
   "cell_type": "markdown",
   "metadata": {},
   "source": [
    "# Define rotation"
   ]
  },
  {
   "cell_type": "code",
   "execution_count": 7,
   "metadata": {},
   "outputs": [],
   "source": [
    "import scipy.linalg as la\n",
    "from scipy.spatial.transform import Rotation"
   ]
  },
  {
   "cell_type": "code",
   "execution_count": 8,
   "metadata": {},
   "outputs": [],
   "source": [
    "R = np.array([[0, -1, 0],\n",
    "              [+1, 0, 0],\n",
    "              [0, 0, 1]])\n",
    "\n",
    "# R = kwant.rmt.circular(3, 'BDI')\n",
    "\n",
    "# n = Rotation.from_dcm(R).as_rotvec()"
   ]
  },
  {
   "cell_type": "code",
   "execution_count": 9,
   "metadata": {},
   "outputs": [
    {
     "data": {
      "text/plain": [
       "array([0, 1, 0])"
      ]
     },
     "execution_count": 9,
     "metadata": {},
     "output_type": "execute_result"
    }
   ],
   "source": [
    "R @ [1, 0, 0]"
   ]
  },
  {
   "cell_type": "code",
   "execution_count": 10,
   "metadata": {},
   "outputs": [
    {
     "data": {
      "text/plain": [
       "1.0"
      ]
     },
     "execution_count": 10,
     "metadata": {},
     "output_type": "execute_result"
    }
   ],
   "source": [
    "la.det(R)"
   ]
  },
  {
   "cell_type": "markdown",
   "metadata": {},
   "source": [
    "# Define rotation procedure"
   ]
  },
  {
   "cell_type": "code",
   "execution_count": 11,
   "metadata": {},
   "outputs": [],
   "source": [
    "from semicon.misc import rotate_symbols, basis_rotation"
   ]
  },
  {
   "cell_type": "code",
   "execution_count": 12,
   "metadata": {},
   "outputs": [],
   "source": [
    "def tmp_rotate(expr, R):\n",
    "    def rotation_subs(R, v):\n",
    "        return {cprime: c for (cprime, c) in zip(v, R @ v)}\n",
    "\n",
    "    subs = rotation_subs(R, sympy.Matrix(kwant.continuum.momentum_operators))\n",
    "    subs.update(rotation_subs(R, sympy.Matrix([sx, sy, sz])))\n",
    "\n",
    "    return expr.subs(subs, simultaneous=True).expand()\n"
   ]
  },
  {
   "cell_type": "code",
   "execution_count": 13,
   "metadata": {},
   "outputs": [
    {
     "data": {
      "image/png": "[encoded data removed]",
      "text/latex": [
       "$$\\alpha_{x} \\sigma_{x} k_{x} + \\alpha_{y} \\sigma_{y} k_{y} + \\alpha_{z} \\sigma_{z} k_{z}$$"
      ],
      "text/plain": [
       "αₓ⋅σₓ⋅kₓ + α_y⋅σ_y⋅k_y + α_z⋅σ_z⋅k_z"
      ]
     },
     "execution_count": 13,
     "metadata": {},
     "output_type": "execute_result"
    }
   ],
   "source": [
    "ham1"
   ]
  },
  {
   "cell_type": "code",
   "execution_count": 14,
   "metadata": {},
   "outputs": [
    {
     "data": {
      "image/png": "[encoded data removed]",
      "text/latex": [
       "$$\\alpha_{x} \\sigma_{y} k_{y} + \\alpha_{y} \\sigma_{x} k_{x} + \\alpha_{z} \\sigma_{z} k_{z}$$"
      ],
      "text/plain": [
       "αₓ⋅σ_y⋅k_y + α_y⋅σₓ⋅kₓ + α_z⋅σ_z⋅k_z"
      ]
     },
     "execution_count": 14,
     "metadata": {},
     "output_type": "execute_result"
    }
   ],
   "source": [
    "s = tmp_rotate(ham1, R); s"
   ]
  },
  {
   "cell_type": "code",
   "execution_count": 15,
   "metadata": {},
   "outputs": [
    {
     "data": {
      "text/latex": [
       "$$\\left[\\begin{matrix}\\alpha_{z} k_{z} & - i \\alpha_{x} k_{y} + \\alpha_{y} k_{x}\\\\i \\alpha_{x} k_{y} + \\alpha_{y} k_{x} & - \\alpha_{z} k_{z}\\end{matrix}\\right]$$"
      ],
      "text/plain": [
       "⎡     α_z⋅k_z       -ⅈ⋅αₓ⋅k_y + α_y⋅kₓ⎤\n",
       "⎢                                     ⎥\n",
       "⎣ⅈ⋅αₓ⋅k_y + α_y⋅kₓ       -α_z⋅k_z     ⎦"
      ]
     },
     "execution_count": 15,
     "metadata": {},
     "output_type": "execute_result"
    }
   ],
   "source": [
    "kwant.continuum.sympify(str(s))"
   ]
  },
  {
   "cell_type": "code",
   "execution_count": 16,
   "metadata": {},
   "outputs": [],
   "source": [
    "from semicon.models import spin_operators\n",
    "from semicon.misc import rotate_symbols, basis_rotation, round_sympy"
   ]
  },
  {
   "cell_type": "code",
   "execution_count": 17,
   "metadata": {},
   "outputs": [],
   "source": [
    "S = kwant.continuum.sympify(\"[[sigma_x, sigma_y, sigma_z]]\") / 2\n",
    "\n",
    "t = rotate_symbols(ham2, R)\n",
    "U = basis_rotation(R, S)"
   ]
  },
  {
   "cell_type": "code",
   "execution_count": 18,
   "metadata": {},
   "outputs": [],
   "source": [
    "t = round_sympy(U @ t @ U.transpose().conjugate()).expand()"
   ]
  },
  {
   "cell_type": "markdown",
   "metadata": {},
   "source": [
    "# test "
   ]
  },
  {
   "cell_type": "code",
   "execution_count": 19,
   "metadata": {},
   "outputs": [
    {
     "data": {
      "text/latex": [
       "$$\\left[\\begin{matrix}0 & 0\\\\0 & 0\\end{matrix}\\right]$$"
      ],
      "text/plain": [
       "⎡0  0⎤\n",
       "⎢    ⎥\n",
       "⎣0  0⎦"
      ]
     },
     "execution_count": 19,
     "metadata": {},
     "output_type": "execute_result"
    }
   ],
   "source": [
    "round_sympy(sympy.expand(kwant.continuum.sympify(str(s)) - round_sympy(t)))"
   ]
  },
  {
   "cell_type": "markdown",
   "metadata": {},
   "source": [
    "# on kp ham"
   ]
  },
  {
   "cell_type": "code",
   "execution_count": 20,
   "metadata": {},
   "outputs": [],
   "source": [
    "import semicon\n",
    "bands = ('gamma_8v', )\n",
    "kpham = semicon.models.foreman(bands=bands)\n",
    "S = semicon.models.spin_operators(bands=bands)"
   ]
  },
  {
   "cell_type": "code",
   "execution_count": 21,
   "metadata": {},
   "outputs": [],
   "source": [
    "from semicon.kp_models.explicit_zeeman import Jx, Jy, Jz"
   ]
  },
  {
   "cell_type": "code",
   "execution_count": 22,
   "metadata": {},
   "outputs": [],
   "source": [
    "t = rotate_symbols(kpham, R)\n",
    "U = basis_rotation(R, S)\n",
    "\n",
    "t = (U @ t @ U.transpose().conjugate()).expand()"
   ]
  },
  {
   "cell_type": "code",
   "execution_count": 23,
   "metadata": {},
   "outputs": [
    {
     "data": {
      "text/latex": [
       "$$\\left[\\begin{matrix}-0.707106781186547 + 0.707106781186548 i & 0 & 0 & 0\\\\0 & 0.707106781186548 + 0.707106781186547 i & 0 & 0\\\\0 & 0 & 0.707106781186548 - 0.707106781186547 i & 0\\\\0 & 0 & 0 & -0.707106781186547 - 0.707106781186548 i\\end{matrix}\\right]$$"
      ],
      "text/plain": [
       "⎡-0.707106781186547 + 0.707106781186548⋅ⅈ                     0               \n",
       "⎢                                                                             \n",
       "⎢                   0                      0.707106781186548 + 0.7071067811865\n",
       "⎢                                                                             \n",
       "⎢                   0                                         0               \n",
       "⎢                                                                             \n",
       "⎣                   0                                         0               \n",
       "\n",
       "                         0                                        0           \n",
       "                                                                              \n",
       "47⋅ⅈ                     0                                        0           \n",
       "                                                                              \n",
       "      0.707106781186548 - 0.707106781186547⋅ⅈ                     0           \n",
       "                                                                              \n",
       "                         0                     -0.707106781186547 - 0.70710678\n",
       "\n",
       "         ⎤\n",
       "         ⎥\n",
       "         ⎥\n",
       "         ⎥\n",
       "         ⎥\n",
       "         ⎥\n",
       "1186548⋅ⅈ⎦"
      ]
     },
     "execution_count": 23,
     "metadata": {},
     "output_type": "execute_result"
    }
   ],
   "source": [
    "sympy.sympify(U)"
   ]
  },
  {
   "cell_type": "code",
   "execution_count": 24,
   "metadata": {},
   "outputs": [],
   "source": [
    "t = round_sympy(t, 15)"
   ]
  },
  {
   "cell_type": "code",
   "execution_count": 25,
   "metadata": {},
   "outputs": [
    {
     "data": {
      "image/png": "[encoded data removed]",
      "text/latex": [
       "$$\\frac{0.866025403784439 \\gamma_{3}}{m_{0}} \\hbar^{2} k_{x} k_{z} - \\frac{0.866025403784439 i}{m_{0}} \\gamma_{3} \\hbar^{2} k_{y} k_{z} + \\frac{0.866025403784439 \\gamma_{3}}{m_{0}} \\hbar^{2} k_{z} k_{x} - \\frac{0.866025403784439 i}{m_{0}} \\gamma_{3} \\hbar^{2} k_{z} k_{y} + \\frac{0.866025403784439 \\kappa}{m_{0}} \\hbar^{2} k_{x} k_{z} - \\frac{0.866025403784439 i}{m_{0}} \\hbar^{2} \\kappa k_{y} k_{z} - \\frac{0.866025403784439 \\kappa}{m_{0}} \\hbar^{2} k_{z} k_{x} + \\frac{0.866025403784439 i}{m_{0}} \\hbar^{2} \\kappa k_{z} k_{y} + \\frac{0.288675134594813 \\hbar^{2}}{m_{0}} k_{x} k_{z} - \\frac{0.288675134594813 i}{m_{0}} \\hbar^{2} k_{y} k_{z} - \\frac{0.288675134594813 \\hbar^{2}}{m_{0}} k_{z} k_{x} + \\frac{0.288675134594813 i}{m_{0}} \\hbar^{2} k_{z} k_{y}$$"
      ],
      "text/plain": [
       "                       2                                   2                  \n",
       "0.866025403784439⋅γ₃⋅h̅ ⋅kₓ⋅k_z   0.866025403784439⋅ⅈ⋅γ₃⋅h̅ ⋅k_y⋅k_z   0.86602\n",
       "─────────────────────────────── - ────────────────────────────────── + ───────\n",
       "               m₀                                 m₀                          \n",
       "\n",
       "                2                                   2                         \n",
       "5403784439⋅γ₃⋅h̅ ⋅k_z⋅kₓ   0.866025403784439⋅ⅈ⋅γ₃⋅h̅ ⋅k_z⋅k_y   0.866025403784\n",
       "──────────────────────── - ────────────────────────────────── + ──────────────\n",
       "        m₀                                 m₀                                 \n",
       "\n",
       "      2                                  2                                 2  \n",
       "439⋅h̅ ⋅κ⋅kₓ⋅k_z   0.866025403784439⋅ⅈ⋅h̅ ⋅κ⋅k_y⋅k_z   0.866025403784439⋅h̅ ⋅κ\n",
       "──────────────── - ───────────────────────────────── - ───────────────────────\n",
       "m₀                                 m₀                                m₀       \n",
       "\n",
       "                                2                                 2           \n",
       "⋅k_z⋅kₓ   0.866025403784439⋅ⅈ⋅h̅ ⋅κ⋅k_z⋅k_y   0.288675134594813⋅h̅ ⋅kₓ⋅k_z   0\n",
       "─────── + ───────────────────────────────── + ──────────────────────────── - ─\n",
       "                          m₀                               m₀                 \n",
       "\n",
       "                     2                               2                        \n",
       ".288675134594813⋅ⅈ⋅h̅ ⋅k_y⋅k_z   0.288675134594813⋅h̅ ⋅k_z⋅kₓ   0.288675134594\n",
       "────────────────────────────── - ──────────────────────────── + ──────────────\n",
       "              m₀                              m₀                              \n",
       "\n",
       "        2        \n",
       "813⋅ⅈ⋅h̅ ⋅k_z⋅k_y\n",
       "─────────────────\n",
       " m₀              "
      ]
     },
     "execution_count": 25,
     "metadata": {},
     "output_type": "execute_result"
    }
   ],
   "source": [
    "t[0, 1]"
   ]
  }
 ],
 "metadata": {
  "kernelspec": {
   "display_name": "Python 3",
   "language": "python",
   "name": "python3"
  },
  "language_info": {
   "codemirror_mode": {
    "name": "ipython",
    "version": 3
   },
   "file_extension": ".py",
   "mimetype": "text/x-python",
   "name": "python",
   "nbconvert_exporter": "python",
   "pygments_lexer": "ipython3",
   "version": "3.6.5"
  }
 },
 "nbformat": 4,
 "nbformat_minor": 2
}
