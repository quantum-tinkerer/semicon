{
 "cells": [
  {
   "cell_type": "markdown",
   "metadata": {},
   "source": [
    "# Idea of API\n",
    "\n",
    "See corresponding [issue](https://gitlab.kwant-project.org/semicon/semicon/issues/16)."
   ]
  },
  {
   "cell_type": "markdown",
   "metadata": {},
   "source": [
    "## Basic idea"
   ]
  },
  {
   "cell_type": "code",
   "execution_count": null,
   "metadata": {},
   "outputs": [],
   "source": [
    "from semicon.models import Zincblende\n",
    "from semicon.helpers import interpolate_parameters\n",
    "\n",
    "\n",
    "# coords describe space dependence of parameters\n",
    "# bands and components are sequence of strings\n",
    "model = Zincblende(coords='z', bands=..., components=...)\n",
    "\n",
    "\n",
    "# hamiltonian property returned as sympy object\n",
    "smp_ham = model.hamiltonian\n",
    "\n",
    "\n",
    "# parameters returned via method of model\n",
    "# this method has access to \"bands\" and \"components\" and return\n",
    "# a parameter class object: subclass of dict with extra method\n",
    "# for removing spurious solutions\n",
    "pInAs = model.parameters(material='InAs', databank=lawaetz)\n",
    "pInAs = pInAs.renormalize(gamma_0=1)\n",
    "\n",
    "\n",
    "\n",
    "# these could be for example combined with helper function\n",
    "# to provide interpolated smooth functions for a \"sandwich\"\n",
    "# two-deg system\n",
    "parameters = {k: model.parameters(material=k).renormalize(gamma_0=1) \n",
    "              for k in ['InAs', 'GaSb', 'AlSb']}\n",
    "\n",
    "syst = ... # user defines his system of appropriate shape and fill \n",
    "           # with smp_ham through discretizer on his own\n",
    "\n",
    "# assingment is mapping from coords to material name\n",
    "parameters = interpolate_parameters(syst, parameters, assingment)"
   ]
  },
  {
   "cell_type": "markdown",
   "metadata": {},
   "source": [
    "## basic bulk example"
   ]
  },
  {
   "cell_type": "code",
   "execution_count": null,
   "metadata": {},
   "outputs": [],
   "source": [
    "from semicon.models import Zincblende\n",
    "\n",
    "model = Zincblende(\n",
    "    bands=('gamma_6c', 'gamma_8v', 'gamma_7v'),\n",
    "    components=('base', 'zeeman', 'strain'),\n",
    ")\n",
    "\n",
    "params = model.parameters(material='InAs').renormalize(gamma_0=1)\n",
    "\n",
    "\n",
    "# and standard kwant code (for continuum disp)\n",
    "\n",
    "disp = kwant.continuum.lambdify(model.hamiltonian)\n",
    "e_k = lambda kx, ky, kz: disp(k_x=kx, k_y=ky, k_z=kz, **params)\n",
    "...\n",
    "\n",
    "\n",
    "# and standard kwant code (for tb dispersion)\n",
    "\n",
    "template = kwant.continuum.discretize(model.hamiltonian, grid_spacing=0.5)\n",
    "syst = kwant.wraparound.wraparound(template).finalized()\n",
    "e_k = lambda kx, ky, kz: syst.hamiltonian_submpatrix(params=dict('k_x': k_x, ..., **params))\n",
    "..."
   ]
  },
  {
   "cell_type": "markdown",
   "metadata": {},
   "source": [
    "## basic two-deg example"
   ]
  },
  {
   "cell_type": "code",
   "execution_count": null,
   "metadata": {},
   "outputs": [],
   "source": [
    "from semicon.models import Zincblende\n",
    "import semicon\n",
    "\n",
    "\n",
    "model = Zincblende(\n",
    "    coords='z',\n",
    "    bands=('gamma_6c', 'gamma_8v', 'gamma_7v'),\n",
    "    components=('base', 'zeeman', 'strain'),\n",
    ")\n",
    "\n",
    "parameters = {k: model.parameters(material=k).renormalize(gamma_0=1) \n",
    "              for k in ['InAs', 'GaSb', 'AlSb']}"
   ]
  },
  {
   "cell_type": "markdown",
   "metadata": {},
   "source": [
    "### get system"
   ]
  },
  {
   "cell_type": "code",
   "execution_count": null,
   "metadata": {},
   "outputs": [],
   "source": [
    "grid = 0.5\n",
    "L = 20\n",
    "\n",
    "template = kwant.continuum.discretize(model.hamiltonian, coords='z', grid_spacing=a)\n",
    "syst = kwant.Builder()\n",
    "\n",
    "shape = semicon.shapes.twodeg(start=0 - a/2, end=L + a/2)\n",
    "syst.fill(template, shape, (0,))\n",
    "syst = syst.finalized()"
   ]
  },
  {
   "cell_type": "markdown",
   "metadata": {},
   "source": [
    "## get 2deg parameters"
   ]
  },
  {
   "cell_type": "code",
   "execution_count": null,
   "metadata": {},
   "outputs": [],
   "source": [
    "def twodeg_mapping(z):\n",
    "    \"\"\"User specified mapping from coord to material.\"\"\"\n",
    "    return 'AlSb' if z < 5 or z > 5 else 'InAs'\n",
    " \n",
    "    \n",
    "pars_2deg = semicon.helpers.interpolate(\n",
    "    syst=syst,\n",
    "    parameters=parameters,\n",
    "    mapping=twodeg_mapping \n",
    ")"
   ]
  },
  {
   "cell_type": "markdown",
   "metadata": {},
   "source": [
    "## and finally obtain hamiltonian and do simulation"
   ]
  },
  {
   "cell_type": "code",
   "execution_count": null,
   "metadata": {},
   "outputs": [],
   "source": [
    "ham = syst.hamiltonian_submatrix(params=pars_2deg)\n",
    "..."
   ]
  },
  {
   "cell_type": "markdown",
   "metadata": {},
   "source": [
    "# further nice helpers"
   ]
  },
  {
   "cell_type": "markdown",
   "metadata": {},
   "source": [
    "## different growth direction\n",
    "\n",
    "Basic idea about the rotation of coordinates is explained in this [notebook](./rotations.ipynb) and discussed in this [issue](https://gitlab.kwant-project.org/semicon/semicon/issues/12).\n",
    "\n",
    "From the notebook it is clear that applying rotation produce ugly numerical coefficients in the Hamiltonian. Therefore it may be good idea to chain this method with ``prettify`` functionality."
   ]
  },
  {
   "cell_type": "code",
   "execution_count": null,
   "metadata": {},
   "outputs": [],
   "source": [
    "from semicon.models import Zincblende\n",
    "\n",
    "model = Zincblende(\n",
    "    bands=('gamma_6c', 'gamma_8v', 'gamma_7v'),\n",
    "    components=('base', 'zeeman', 'strain'),\n",
    ")\n",
    "\n",
    "R = ... # 3x3 rotation matrix\n",
    "model = model.rotate(R, act_on=semicon.symbols.momenta) \\ \n",
    "             .prettify(zero_atol=1e-8, nsimplify=True)\n",
    "\n",
    "\n",
    "# note: Using \"act_on\" to specify rotation of only momenta\n",
    "# allows to leave coords unchanged (treat them as they \n",
    "# would be already defined in simulation coordinate system)"
   ]
  }
 ],
 "metadata": {
  "kernelspec": {
   "display_name": "Python 3",
   "language": "python",
   "name": "python3"
  },
  "language_info": {
   "codemirror_mode": {
    "name": "ipython",
    "version": 3
   },
   "file_extension": ".py",
   "mimetype": "text/x-python",
   "name": "python",
   "nbconvert_exporter": "python",
   "pygments_lexer": "ipython3",
   "version": "3.6.6"
  }
 },
 "nbformat": 4,
 "nbformat_minor": 2
}
