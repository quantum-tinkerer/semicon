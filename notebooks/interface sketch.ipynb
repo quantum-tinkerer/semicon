{
 "cells": [
  {
   "cell_type": "markdown",
   "metadata": {},
   "source": [
    "# basic interface idea (prototype)"
   ]
  },
  {
   "cell_type": "code",
   "execution_count": null,
   "metadata": {
    "collapsed": true
   },
   "outputs": [],
   "source": [
    "import semicon\n",
    "\n",
    "bands = ['gamma_6c', 'gamma_8v', 'gamma_7v']\n",
    "\n",
    "# this will be probably a sympy model, that\n",
    "# can directly be used by ``kwant.continuum.discretizer``.\n",
    "\n",
    "hamiltonian = semicon.models.kane(\n",
    "    components=['base', 'zeeman', 'dresselhaus'], \n",
    "    bands=bands,\n",
    "    coords='z',\n",
    ")\n",
    "\n",
    "\n",
    "# this will be a dictionary that can be passed into ``params`` of kwant system.\n",
    "# possible it will also have attributes with extra information about material\n",
    "# sources, etc.\n",
    "\n",
    "parameters = semicon.parameters.two_deg(\n",
    "    bank='lawaetz',\n",
    "    materials=['AlSb', 'InAs', 'GaSb', 'InAs'],\n",
    "    widths=[5, 12.5, 5, 5],\n",
    "    valence_band_offsets=[.18, .0, .56, .18]\n",
    "    extra_constants={'hbar': 1, 'e': 1},\n",
    "    bands=bands,\n",
    ")\n",
    "\n",
    "\n",
    "shape = semicon.shapes.two_deg(L=sum(parameters.widths))"
   ]
  },
  {
   "cell_type": "code",
   "execution_count": null,
   "metadata": {
    "collapsed": true
   },
   "outputs": [],
   "source": [
    "import kwant\n",
    "template = kwant.continuum.discretize(hamiltonian, coords='z', grid_spacing=0.5)\n",
    "syst = kwant.Builder()\n",
    "\n",
    "syst.fill(template, shape, (0,))\n",
    "syst = syst.finalized()\n",
    "\n",
    "ham = syst.hamiltonian_submatrix(params=parameters)"
   ]
  }
 ],
 "metadata": {
  "kernelspec": {
   "display_name": "Python 3",
   "language": "python",
   "name": "python3"
  },
  "language_info": {
   "codemirror_mode": {
    "name": "ipython",
    "version": 3
   },
   "file_extension": ".py",
   "mimetype": "text/x-python",
   "name": "python",
   "nbconvert_exporter": "python",
   "pygments_lexer": "ipython3",
   "version": "3.5.2"
  }
 },
 "nbformat": 4,
 "nbformat_minor": 2
}
