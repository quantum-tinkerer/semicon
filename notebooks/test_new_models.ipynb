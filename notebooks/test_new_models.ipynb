{
 "cells": [
  {
   "cell_type": "code",
   "execution_count": 1,
   "metadata": {},
   "outputs": [],
   "source": [
    "import numpy as np\n",
    "import kwant\n",
    "\n",
    "import sympy\n",
    "sympy.init_printing(print_builtin=False)\n",
    "\n",
    "from semicon import models, parameters"
   ]
  },
  {
   "cell_type": "markdown",
   "metadata": {},
   "source": [
    "# Test methods of basic BulkModel class"
   ]
  },
  {
   "cell_type": "markdown",
   "metadata": {},
   "source": [
    "## Simple case"
   ]
  },
  {
   "cell_type": "code",
   "execution_count": 2,
   "metadata": {},
   "outputs": [],
   "source": [
    "hamiltonian = kwant.continuum.sympify(\"A_x * k_x**2 + B_x * k_y**2\")\n",
    "model = models.Model(hamiltonian)"
   ]
  },
  {
   "cell_type": "code",
   "execution_count": 3,
   "metadata": {},
   "outputs": [
    {
     "data": {
      "image/png": "[encoded data removed]",
      "text/latex": [
       "$$A_{x} k_{x}^{2} + B_{x} k_{y}^{2}$$"
      ],
      "text/plain": [
       "     2         2\n",
       "Aₓ⋅kₓ  + Bₓ⋅k_y "
      ]
     },
     "execution_count": 3,
     "metadata": {},
     "output_type": "execute_result"
    }
   ],
   "source": [
    "model.hamiltonian"
   ]
  },
  {
   "cell_type": "code",
   "execution_count": 4,
   "metadata": {},
   "outputs": [
    {
     "data": {
      "image/png": "[encoded data removed]",
      "text/latex": [
       "$$A_{x} k_{y}^{2} + B_{x} k_{x}^{2}$$"
      ],
      "text/plain": [
       "      2        2\n",
       "Aₓ⋅k_y  + Bₓ⋅kₓ "
      ]
     },
     "execution_count": 4,
     "metadata": {},
     "output_type": "execute_result"
    }
   ],
   "source": [
    "R = np.array([[0, 1, 0], [-1, 0, 0], [0, 0, 1]])\n",
    "model.rotate(R).hamiltonian"
   ]
  },
  {
   "cell_type": "markdown",
   "metadata": {},
   "source": [
    "## Matrix structure"
   ]
  },
  {
   "cell_type": "code",
   "execution_count": 5,
   "metadata": {},
   "outputs": [],
   "source": [
    "tmp = \"alpha_{0} * k_{0} * sigma_{0}\"\n",
    "ham_str = \" + \".join(tmp.format(s) for s in ['x', 'y', 'z'])\n",
    "R = np.array([[0, 1, 0], [-1, 0, 0], [0, 0, 1]])"
   ]
  },
  {
   "cell_type": "markdown",
   "metadata": {},
   "source": [
    "### Reference approach"
   ]
  },
  {
   "cell_type": "code",
   "execution_count": 6,
   "metadata": {},
   "outputs": [],
   "source": [
    "sx, sy, sz = sympy.symbols('sigma_x sigma_y sigma_z')\n",
    "\n",
    "hamiltonian = kwant.continuum.sympify(\n",
    "    ham_str,\n",
    "    locals={'sigma_x': sx, 'sigma_y': sy, 'sigma_z': sz}\n",
    "\n",
    ")\n",
    "\n",
    "model = models.Model(hamiltonian)"
   ]
  },
  {
   "cell_type": "code",
   "execution_count": 7,
   "metadata": {},
   "outputs": [
    {
     "data": {
      "image/png": "[encoded data removed]",
      "text/latex": [
       "$$\\alpha_{x} \\sigma_{x} k_{x} + \\alpha_{y} \\sigma_{y} k_{y} + \\alpha_{z} \\sigma_{z} k_{z}$$"
      ],
      "text/plain": [
       "αₓ⋅σₓ⋅kₓ + α_y⋅σ_y⋅k_y + α_z⋅σ_z⋅k_z"
      ]
     },
     "execution_count": 7,
     "metadata": {},
     "output_type": "execute_result"
    }
   ],
   "source": [
    "model.hamiltonian"
   ]
  },
  {
   "cell_type": "code",
   "execution_count": 8,
   "metadata": {},
   "outputs": [],
   "source": [
    "act_on = (kwant.continuum.momentum_operators, [sx, sy, sz])\n",
    "model = model.rotate(R, act_on=act_on)"
   ]
  },
  {
   "cell_type": "code",
   "execution_count": 9,
   "metadata": {},
   "outputs": [
    {
     "data": {
      "image/png": "[encoded data removed]",
      "text/latex": [
       "$$\\alpha_{x} \\sigma_{y} k_{y} + \\alpha_{y} \\sigma_{x} k_{x} + \\alpha_{z} \\sigma_{z} k_{z}$$"
      ],
      "text/plain": [
       "αₓ⋅σ_y⋅k_y + α_y⋅σₓ⋅kₓ + α_z⋅σ_z⋅k_z"
      ]
     },
     "execution_count": 9,
     "metadata": {},
     "output_type": "execute_result"
    }
   ],
   "source": [
    "model.hamiltonian"
   ]
  },
  {
   "cell_type": "code",
   "execution_count": 10,
   "metadata": {},
   "outputs": [
    {
     "data": {
      "text/latex": [
       "$$\\left[\\begin{matrix}\\alpha_{z} k_{z} & - i \\alpha_{x} k_{y} + \\alpha_{y} k_{x}\\\\i \\alpha_{x} k_{y} + \\alpha_{y} k_{x} & - \\alpha_{z} k_{z}\\end{matrix}\\right]$$"
      ],
      "text/plain": [
       "⎡     α_z⋅k_z       -ⅈ⋅αₓ⋅k_y + α_y⋅kₓ⎤\n",
       "⎢                                     ⎥\n",
       "⎣ⅈ⋅αₓ⋅k_y + α_y⋅kₓ       -α_z⋅k_z     ⎦"
      ]
     },
     "execution_count": 10,
     "metadata": {},
     "output_type": "execute_result"
    }
   ],
   "source": [
    "kwant.continuum.sympify(str(model.hamiltonian))"
   ]
  },
  {
   "cell_type": "markdown",
   "metadata": {},
   "source": [
    "### Wrong approach (no information about the spin)"
   ]
  },
  {
   "cell_type": "code",
   "execution_count": 11,
   "metadata": {},
   "outputs": [
    {
     "data": {
      "text/latex": [
       "$$\\left[\\begin{matrix}\\alpha_{z} k_{z} & \\alpha_{x} k_{y} + i \\alpha_{y} k_{x}\\\\\\alpha_{x} k_{y} - i \\alpha_{y} k_{x} & - \\alpha_{z} k_{z}\\end{matrix}\\right]$$"
      ],
      "text/plain": [
       "⎡     α_z⋅k_z       αₓ⋅k_y + ⅈ⋅α_y⋅kₓ⎤\n",
       "⎢                                    ⎥\n",
       "⎣αₓ⋅k_y - ⅈ⋅α_y⋅kₓ      -α_z⋅k_z     ⎦"
      ]
     },
     "execution_count": 11,
     "metadata": {},
     "output_type": "execute_result"
    }
   ],
   "source": [
    "model = models.Model(kwant.continuum.sympify(ham_str))\n",
    "model.rotate(R).prettify(zero_atol=1e-6, nsimplify=True).hamiltonian"
   ]
  },
  {
   "cell_type": "markdown",
   "metadata": {},
   "source": [
    "### Correct approach (with information about the spin)"
   ]
  },
  {
   "cell_type": "code",
   "execution_count": 12,
   "metadata": {},
   "outputs": [
    {
     "data": {
      "text/latex": [
       "$$\\left[\\begin{matrix}\\alpha_{z} k_{z} & - i \\alpha_{x} k_{y} + \\alpha_{y} k_{x}\\\\i \\alpha_{x} k_{y} + \\alpha_{y} k_{x} & - \\alpha_{z} k_{z}\\end{matrix}\\right]$$"
      ],
      "text/plain": [
       "⎡     α_z⋅k_z       -ⅈ⋅αₓ⋅k_y + α_y⋅kₓ⎤\n",
       "⎢                                     ⎥\n",
       "⎣ⅈ⋅αₓ⋅k_y + α_y⋅kₓ       -α_z⋅k_z     ⎦"
      ]
     },
     "execution_count": 12,
     "metadata": {},
     "output_type": "execute_result"
    }
   ],
   "source": [
    "model = models.Model(kwant.continuum.sympify(ham_str), spins=1/2)\n",
    "model.rotate(R).prettify(zero_atol=1e-6, nsimplify=True).hamiltonian"
   ]
  },
  {
   "cell_type": "code",
   "execution_count": 13,
   "metadata": {},
   "outputs": [
    {
     "data": {
      "text/plain": [
       "array([[[ 0. +0.j ,  0.5+0.j ],\n",
       "        [ 0.5+0.j ,  0. +0.j ]],\n",
       "\n",
       "       [[ 0. +0.j ,  0. -0.5j],\n",
       "        [ 0. +0.5j,  0. +0.j ]],\n",
       "\n",
       "       [[ 0.5+0.j ,  0. +0.j ],\n",
       "        [ 0. +0.j , -0.5+0.j ]]])"
      ]
     },
     "execution_count": 13,
     "metadata": {},
     "output_type": "execute_result"
    }
   ],
   "source": [
    "model.spin_operators"
   ]
  },
  {
   "cell_type": "markdown",
   "metadata": {},
   "source": [
    "# ZincBlende model"
   ]
  },
  {
   "cell_type": "code",
   "execution_count": 14,
   "metadata": {},
   "outputs": [],
   "source": [
    "model = models.ZincBlende(\n",
    "    bands=('gamma_8v', 'gamma_7v'),\n",
    "    components=('foreman', )\n",
    ")"
   ]
  },
  {
   "cell_type": "code",
   "execution_count": 15,
   "metadata": {},
   "outputs": [
    {
     "data": {
      "text/plain": [
       "[1.5, 0.5]"
      ]
     },
     "execution_count": 15,
     "metadata": {},
     "output_type": "execute_result"
    }
   ],
   "source": [
    "model.spins"
   ]
  },
  {
   "cell_type": "code",
   "execution_count": 16,
   "metadata": {},
   "outputs": [
    {
     "data": {
      "text/plain": [
       "(3, 6, 6)"
      ]
     },
     "execution_count": 16,
     "metadata": {},
     "output_type": "execute_result"
    }
   ],
   "source": [
    "model.spin_operators.shape"
   ]
  },
  {
   "cell_type": "code",
   "execution_count": 17,
   "metadata": {},
   "outputs": [
    {
     "data": {
      "image/png": "[encoded data removed]",
      "text/latex": [
       "$$\\frac{\\sqrt{3} \\gamma_{3} \\hbar^{2} k_{x}}{2 m_{0}} k_{z} - \\frac{\\sqrt{3} i \\gamma_{3} \\hbar^{2}}{2 m_{0}} k_{y} k_{z} + \\frac{\\sqrt{3} \\gamma_{3} \\hbar^{2} k_{z}}{2 m_{0}} k_{x} - \\frac{\\sqrt{3} i \\gamma_{3} \\hbar^{2}}{2 m_{0}} k_{z} k_{y} + \\frac{\\sqrt{3} \\hbar^{2} \\kappa k_{x}}{2 m_{0}} k_{z} - \\frac{\\sqrt{3} i \\hbar^{2} \\kappa}{2 m_{0}} k_{y} k_{z} - \\frac{\\sqrt{3} \\hbar^{2} \\kappa k_{z}}{2 m_{0}} k_{x} + \\frac{\\sqrt{3} i \\hbar^{2} \\kappa}{2 m_{0}} k_{z} k_{y} + \\frac{\\sqrt{3} \\hbar^{2} k_{x} k_{z}}{6 m_{0}} - \\frac{\\sqrt{3} i \\hbar^{2} k_{y}}{6 m_{0}} k_{z} - \\frac{\\sqrt{3} \\hbar^{2} k_{z} k_{x}}{6 m_{0}} + \\frac{\\sqrt{3} i \\hbar^{2} k_{z}}{6 m_{0}} k_{y}$$"
      ],
      "text/plain": [
       "        2                    2                   2                    2       \n",
       "√3⋅γ₃⋅h̅ ⋅kₓ⋅k_z   √3⋅ⅈ⋅γ₃⋅h̅ ⋅k_y⋅k_z   √3⋅γ₃⋅h̅ ⋅k_z⋅kₓ   √3⋅ⅈ⋅γ₃⋅h̅ ⋅k_z⋅k_\n",
       "──────────────── - ─────────────────── + ──────────────── - ──────────────────\n",
       "      2⋅m₀                 2⋅m₀                2⋅m₀                 2⋅m₀      \n",
       "\n",
       "         2                   2                  2                   2         \n",
       "y   √3⋅h̅ ⋅κ⋅kₓ⋅k_z   √3⋅ⅈ⋅h̅ ⋅κ⋅k_y⋅k_z   √3⋅h̅ ⋅κ⋅k_z⋅kₓ   √3⋅ⅈ⋅h̅ ⋅κ⋅k_z⋅k_\n",
       "─ + ─────────────── - ────────────────── - ─────────────── + ─────────────────\n",
       "          2⋅m₀               2⋅m₀                2⋅m₀               2⋅m₀      \n",
       "\n",
       "         2                 2                2                 2        \n",
       "y   √3⋅h̅ ⋅kₓ⋅k_z   √3⋅ⅈ⋅h̅ ⋅k_y⋅k_z   √3⋅h̅ ⋅k_z⋅kₓ   √3⋅ⅈ⋅h̅ ⋅k_z⋅k_y\n",
       "─ + ───────────── - ──────────────── - ───────────── + ────────────────\n",
       "         6⋅m₀             6⋅m₀              6⋅m₀             6⋅m₀      "
      ]
     },
     "execution_count": 17,
     "metadata": {},
     "output_type": "execute_result"
    }
   ],
   "source": [
    "model.hamiltonian[0, 1]"
   ]
  },
  {
   "cell_type": "code",
   "execution_count": 18,
   "metadata": {},
   "outputs": [],
   "source": [
    "model = model.rotate(R)"
   ]
  },
  {
   "cell_type": "code",
   "execution_count": 19,
   "metadata": {},
   "outputs": [
    {
     "data": {
      "image/png": "[encoded data removed]",
      "text/latex": [
       "$$\\frac{0.5 \\gamma_{3}}{m_{0}} \\sqrt{3} \\hbar^{2} k_{x} k_{z} + \\frac{i \\gamma_{3}}{m_{0}} 2.22044604925031 \\cdot 10^{-16} \\sqrt{3} \\hbar^{2} k_{x} k_{z} + \\frac{\\sqrt{3} \\gamma_{3}}{m_{0}} 2.22044604925031 \\cdot 10^{-16} \\hbar^{2} k_{y} k_{z} - \\frac{0.5 i}{m_{0}} \\sqrt{3} \\gamma_{3} \\hbar^{2} k_{y} k_{z} + \\frac{0.5 \\gamma_{3}}{m_{0}} \\sqrt{3} \\hbar^{2} k_{z} k_{x} + \\frac{i \\gamma_{3}}{m_{0}} 2.22044604925031 \\cdot 10^{-16} \\sqrt{3} \\hbar^{2} k_{z} k_{x} + \\frac{\\sqrt{3} \\gamma_{3}}{m_{0}} 2.22044604925031 \\cdot 10^{-16} \\hbar^{2} k_{z} k_{y} - \\frac{0.5 i}{m_{0}} \\sqrt{3} \\gamma_{3} \\hbar^{2} k_{z} k_{y} + \\frac{0.5 \\kappa}{m_{0}} \\sqrt{3} \\hbar^{2} k_{x} k_{z} + \\frac{i \\kappa}{m_{0}} 2.22044604925031 \\cdot 10^{-16} \\sqrt{3} \\hbar^{2} k_{x} k_{z} + \\frac{\\sqrt{3} \\kappa}{m_{0}} 2.22044604925031 \\cdot 10^{-16} \\hbar^{2} k_{y} k_{z} - \\frac{0.5 i}{m_{0}} \\sqrt{3} \\hbar^{2} \\kappa k_{y} k_{z} - \\frac{0.5 \\kappa}{m_{0}} \\sqrt{3} \\hbar^{2} k_{z} k_{x} - \\frac{i \\kappa}{m_{0}} 2.22044604925031 \\cdot 10^{-16} \\sqrt{3} \\hbar^{2} k_{z} k_{x} - \\frac{\\sqrt{3} \\kappa}{m_{0}} 2.22044604925031 \\cdot 10^{-16} \\hbar^{2} k_{z} k_{y} + \\frac{0.5 i}{m_{0}} \\sqrt{3} \\hbar^{2} \\kappa k_{z} k_{y} + \\frac{0.166666666666667 \\sqrt{3}}{m_{0}} \\hbar^{2} k_{x} k_{z} + \\frac{\\sqrt{3} i}{m_{0}} 8.32667268468867 \\cdot 10^{-17} \\hbar^{2} k_{x} k_{z} + \\frac{\\sqrt{3} \\hbar^{2}}{m_{0}} 8.32667268468867 \\cdot 10^{-17} k_{y} k_{z} - \\frac{0.166666666666667 i}{m_{0}} \\sqrt{3} \\hbar^{2} k_{y} k_{z} - \\frac{0.166666666666667 \\sqrt{3}}{m_{0}} \\hbar^{2} k_{z} k_{x} - \\frac{\\sqrt{3} i}{m_{0}} 8.32667268468867 \\cdot 10^{-17} \\hbar^{2} k_{z} k_{x} - \\frac{\\sqrt{3} \\hbar^{2}}{m_{0}} 8.32667268468867 \\cdot 10^{-17} k_{z} k_{y} + \\frac{0.166666666666667 i}{m_{0}} \\sqrt{3} \\hbar^{2} k_{z} k_{y}$$"
      ],
      "text/plain": [
       "            2                                         2                       \n",
       "0.5⋅√3⋅γ₃⋅h̅ ⋅kₓ⋅k_z   2.22044604925031e-16⋅√3⋅ⅈ⋅γ₃⋅h̅ ⋅kₓ⋅k_z   2.22044604925\n",
       "──────────────────── + ─────────────────────────────────────── + ─────────────\n",
       "         m₀                               m₀                                  \n",
       "\n",
       "                2                         2                       2           \n",
       "031e-16⋅√3⋅γ₃⋅h̅ ⋅k_y⋅k_z   0.5⋅√3⋅ⅈ⋅γ₃⋅h̅ ⋅k_y⋅k_z   0.5⋅√3⋅γ₃⋅h̅ ⋅k_z⋅kₓ   2\n",
       "───────────────────────── - ─────────────────────── + ──────────────────── + ─\n",
       "     m₀                                m₀                      m₀             \n",
       "\n",
       "                              2                                       2       \n",
       ".22044604925031e-16⋅√3⋅ⅈ⋅γ₃⋅h̅ ⋅k_z⋅kₓ   2.22044604925031e-16⋅√3⋅γ₃⋅h̅ ⋅k_z⋅k_\n",
       "────────────────────────────────────── + ─────────────────────────────────────\n",
       "                  m₀                                       m₀                 \n",
       "\n",
       "                  2                    2                                      \n",
       "y   0.5⋅√3⋅ⅈ⋅γ₃⋅h̅ ⋅k_z⋅k_y   0.5⋅√3⋅h̅ ⋅κ⋅kₓ⋅k_z   2.22044604925031e-16⋅√3⋅ⅈ⋅\n",
       "─ - ─────────────────────── + ─────────────────── + ──────────────────────────\n",
       "               m₀                      m₀                             m₀      \n",
       "\n",
       "  2                                      2                        2           \n",
       "h̅ ⋅κ⋅kₓ⋅k_z   2.22044604925031e-16⋅√3⋅h̅ ⋅κ⋅k_y⋅k_z   0.5⋅√3⋅ⅈ⋅h̅ ⋅κ⋅k_y⋅k_z \n",
       "──────────── + ───────────────────────────────────── - ────────────────────── \n",
       "                                 m₀                              m₀           \n",
       "\n",
       "           2                                        2                         \n",
       "  0.5⋅√3⋅h̅ ⋅κ⋅k_z⋅kₓ   2.22044604925031e-16⋅√3⋅ⅈ⋅h̅ ⋅κ⋅k_z⋅kₓ   2.22044604925\n",
       "- ─────────────────── - ────────────────────────────────────── - ─────────────\n",
       "           m₀                             m₀                                  \n",
       "\n",
       "             2                        2                                    2  \n",
       "031e-16⋅√3⋅h̅ ⋅κ⋅k_z⋅k_y   0.5⋅√3⋅ⅈ⋅h̅ ⋅κ⋅k_z⋅k_y   0.166666666666667⋅√3⋅h̅ ⋅k\n",
       "──────────────────────── + ────────────────────── + ──────────────────────────\n",
       "     m₀                              m₀                            m₀         \n",
       "\n",
       "                                    2                                    2    \n",
       "ₓ⋅k_z   8.32667268468867e-17⋅√3⋅ⅈ⋅h̅ ⋅kₓ⋅k_z   8.32667268468867e-17⋅√3⋅h̅ ⋅k_y\n",
       "───── + ──────────────────────────────────── + ───────────────────────────────\n",
       "                         m₀                                     m₀            \n",
       "\n",
       "                                2                                  2          \n",
       "⋅k_z   0.166666666666667⋅√3⋅ⅈ⋅h̅ ⋅k_y⋅k_z   0.166666666666667⋅√3⋅h̅ ⋅k_z⋅kₓ   \n",
       "──── - ────────────────────────────────── - ─────────────────────────────── - \n",
       "                       m₀                                  m₀                 \n",
       "\n",
       "                            2                                    2            \n",
       "8.32667268468867e-17⋅√3⋅ⅈ⋅h̅ ⋅k_z⋅kₓ   8.32667268468867e-17⋅√3⋅h̅ ⋅k_z⋅k_y   0\n",
       "──────────────────────────────────── - ─────────────────────────────────── + ─\n",
       "                 m₀                                     m₀                    \n",
       "\n",
       "                        2        \n",
       ".166666666666667⋅√3⋅ⅈ⋅h̅ ⋅k_z⋅k_y\n",
       "─────────────────────────────────\n",
       "               m₀                "
      ]
     },
     "execution_count": 19,
     "metadata": {},
     "output_type": "execute_result"
    }
   ],
   "source": [
    "model.hamiltonian[0, 1]"
   ]
  },
  {
   "cell_type": "code",
   "execution_count": 20,
   "metadata": {},
   "outputs": [
    {
     "data": {
      "image/png": "[encoded data removed]",
      "text/latex": [
       "$$\\frac{0.8660254038 \\gamma_{3}}{m_{0}} \\hbar^{2} k_{x} k_{z} - \\frac{0.8660254038 i}{m_{0}} \\gamma_{3} \\hbar^{2} k_{y} k_{z} + \\frac{0.8660254038 \\gamma_{3}}{m_{0}} \\hbar^{2} k_{z} k_{x} - \\frac{0.8660254038 i}{m_{0}} \\gamma_{3} \\hbar^{2} k_{z} k_{y} + \\frac{0.8660254038 \\kappa}{m_{0}} \\hbar^{2} k_{x} k_{z} - \\frac{0.8660254038 i}{m_{0}} \\hbar^{2} \\kappa k_{y} k_{z} - \\frac{0.8660254038 \\kappa}{m_{0}} \\hbar^{2} k_{z} k_{x} + \\frac{0.8660254038 i}{m_{0}} \\hbar^{2} \\kappa k_{z} k_{y} + \\frac{0.2886751346 \\hbar^{2}}{m_{0}} k_{x} k_{z} - \\frac{0.2886751346 i}{m_{0}} \\hbar^{2} k_{y} k_{z} - \\frac{0.2886751346 \\hbar^{2}}{m_{0}} k_{z} k_{x} + \\frac{0.2886751346 i}{m_{0}} \\hbar^{2} k_{z} k_{y}$$"
      ],
      "text/plain": [
       "                  2                              2                            \n",
       "0.8660254038⋅γ₃⋅h̅ ⋅kₓ⋅k_z   0.8660254038⋅ⅈ⋅γ₃⋅h̅ ⋅k_y⋅k_z   0.8660254038⋅γ₃⋅h\n",
       "────────────────────────── - ───────────────────────────── + ─────────────────\n",
       "            m₀                             m₀                            m₀   \n",
       "\n",
       " 2                              2                          2                  \n",
       "̅ ⋅k_z⋅kₓ   0.8660254038⋅ⅈ⋅γ₃⋅h̅ ⋅k_z⋅k_y   0.8660254038⋅h̅ ⋅κ⋅kₓ⋅k_z   0.8660\n",
       "───────── - ───────────────────────────── + ───────────────────────── - ──────\n",
       "                          m₀                            m₀                    \n",
       "\n",
       "           2                            2                             2       \n",
       "254038⋅ⅈ⋅h̅ ⋅κ⋅k_y⋅k_z   0.8660254038⋅h̅ ⋅κ⋅k_z⋅kₓ   0.8660254038⋅ⅈ⋅h̅ ⋅κ⋅k_z⋅\n",
       "────────────────────── - ───────────────────────── + ─────────────────────────\n",
       "       m₀                            m₀                           m₀          \n",
       "\n",
       "                     2                           2                          2 \n",
       "k_y   0.2886751346⋅h̅ ⋅kₓ⋅k_z   0.2886751346⋅ⅈ⋅h̅ ⋅k_y⋅k_z   0.2886751346⋅h̅ ⋅\n",
       "─── + ─────────────────────── - ────────────────────────── - ─────────────────\n",
       "                 m₀                         m₀                          m₀    \n",
       "\n",
       "                          2        \n",
       "k_z⋅kₓ   0.2886751346⋅ⅈ⋅h̅ ⋅k_z⋅k_y\n",
       "────── + ──────────────────────────\n",
       "                     m₀            "
      ]
     },
     "execution_count": 20,
     "metadata": {},
     "output_type": "execute_result"
    }
   ],
   "source": [
    "model.prettify(decimals=10).hamiltonian[0, 1]"
   ]
  },
  {
   "cell_type": "code",
   "execution_count": 21,
   "metadata": {},
   "outputs": [
    {
     "data": {
      "image/png": "[encoded data removed]",
      "text/latex": [
       "$$\\frac{\\sqrt{3} \\gamma_{3} \\hbar^{2} k_{x}}{2 m_{0}} k_{z} - \\frac{\\sqrt{3} i \\gamma_{3} \\hbar^{2}}{2 m_{0}} k_{y} k_{z} + \\frac{\\sqrt{3} \\gamma_{3} \\hbar^{2} k_{z}}{2 m_{0}} k_{x} - \\frac{\\sqrt{3} i \\gamma_{3} \\hbar^{2}}{2 m_{0}} k_{z} k_{y} + \\frac{\\sqrt{3} \\hbar^{2} \\kappa k_{x}}{2 m_{0}} k_{z} - \\frac{\\sqrt{3} i \\hbar^{2} \\kappa}{2 m_{0}} k_{y} k_{z} - \\frac{\\sqrt{3} \\hbar^{2} \\kappa k_{z}}{2 m_{0}} k_{x} + \\frac{\\sqrt{3} i \\hbar^{2} \\kappa}{2 m_{0}} k_{z} k_{y} + \\frac{\\sqrt{3} \\hbar^{2} k_{x} k_{z}}{6 m_{0}} - \\frac{\\sqrt{3} i \\hbar^{2} k_{y}}{6 m_{0}} k_{z} - \\frac{\\sqrt{3} \\hbar^{2} k_{z} k_{x}}{6 m_{0}} + \\frac{\\sqrt{3} i \\hbar^{2} k_{z}}{6 m_{0}} k_{y}$$"
      ],
      "text/plain": [
       "        2                    2                   2                    2       \n",
       "√3⋅γ₃⋅h̅ ⋅kₓ⋅k_z   √3⋅ⅈ⋅γ₃⋅h̅ ⋅k_y⋅k_z   √3⋅γ₃⋅h̅ ⋅k_z⋅kₓ   √3⋅ⅈ⋅γ₃⋅h̅ ⋅k_z⋅k_\n",
       "──────────────── - ─────────────────── + ──────────────── - ──────────────────\n",
       "      2⋅m₀                 2⋅m₀                2⋅m₀                 2⋅m₀      \n",
       "\n",
       "         2                   2                  2                   2         \n",
       "y   √3⋅h̅ ⋅κ⋅kₓ⋅k_z   √3⋅ⅈ⋅h̅ ⋅κ⋅k_y⋅k_z   √3⋅h̅ ⋅κ⋅k_z⋅kₓ   √3⋅ⅈ⋅h̅ ⋅κ⋅k_z⋅k_\n",
       "─ + ─────────────── - ────────────────── - ─────────────── + ─────────────────\n",
       "          2⋅m₀               2⋅m₀                2⋅m₀               2⋅m₀      \n",
       "\n",
       "         2                 2                2                 2        \n",
       "y   √3⋅h̅ ⋅kₓ⋅k_z   √3⋅ⅈ⋅h̅ ⋅k_y⋅k_z   √3⋅h̅ ⋅k_z⋅kₓ   √3⋅ⅈ⋅h̅ ⋅k_z⋅k_y\n",
       "─ + ───────────── - ──────────────── - ───────────── + ────────────────\n",
       "         6⋅m₀             6⋅m₀              6⋅m₀             6⋅m₀      "
      ]
     },
     "execution_count": 21,
     "metadata": {},
     "output_type": "execute_result"
    }
   ],
   "source": [
    "model.prettify(zero_atol=1e-8, nsimplify=True).hamiltonian[0, 1]"
   ]
  },
  {
   "cell_type": "markdown",
   "metadata": {},
   "source": [
    "# Parameters"
   ]
  },
  {
   "cell_type": "markdown",
   "metadata": {},
   "source": [
    "### default databank can be provided"
   ]
  },
  {
   "cell_type": "code",
   "execution_count": 22,
   "metadata": {},
   "outputs": [
    {
     "data": {
      "text/plain": [
       "{'E_0': 0.42, 'Delta_0': 0.38, 'P': 0.9197, 'g_c': 1.9387298407111935, 'gamma_1': 2.050284378198743, 'gamma_2': -0.43985781090063014, 'gamma_3': 0.4801421890993698, 'kappa': -1.1298578109006296, 'q': 0.04, 'gamma_0': -1.0115210754829604, 'E_v': 0, 'm_0': 510998.94609999994, 'phi_0': 4135.667662, 'mu_B': 5.7883818012e-05, 'hbar': 197.3269788}"
      ]
     },
     "execution_count": 22,
     "metadata": {},
     "output_type": "execute_result"
    }
   ],
   "source": [
    "model = models.ZincBlende(\n",
    "    bands=('gamma_6c', 'gamma_8v', 'gamma_7v'),\n",
    "    components=('foreman', ),\n",
    "    default_databank='lawaetz',\n",
    ")\n",
    "\n",
    "model.parameters('InAs')"
   ]
  },
  {
   "cell_type": "markdown",
   "metadata": {},
   "source": [
    "### it can be overwritten or provided later as well"
   ]
  },
  {
   "cell_type": "code",
   "execution_count": 23,
   "metadata": {},
   "outputs": [
    {
     "data": {
      "text/plain": [
       "{'E_0': 0.418, 'Delta_0': 0.38, 'P': 0.9197, 'g_c': 1.960971886891162, 'gamma_1': 2.6959795187642825, 'gamma_2': -0.5520102406178573, 'gamma_3': 0.24798975938214163, 'kappa': -1.2520102406178584, 'q': 0.39, 'gamma_0': -1.0134532295192091, 'E_v': 0, 'm_0': 510998.94609999994, 'phi_0': 4135.667662, 'mu_B': 5.7883818012e-05, 'hbar': 197.3269788}"
      ]
     },
     "execution_count": 23,
     "metadata": {},
     "output_type": "execute_result"
    }
   ],
   "source": [
    "db = parameters.DataBank('winkler')\n",
    "model.parameters('InAs', databank=db)"
   ]
  },
  {
   "cell_type": "markdown",
   "metadata": {},
   "source": [
    "## workaround to spurious solutions can be easily applied"
   ]
  },
  {
   "cell_type": "code",
   "execution_count": 24,
   "metadata": {},
   "outputs": [],
   "source": [
    "InAs = model.parameters('InAs')"
   ]
  },
  {
   "cell_type": "code",
   "execution_count": 25,
   "metadata": {},
   "outputs": [
    {
     "data": {
      "text/plain": [
       "{'E_0': 0.42, 'Delta_0': 0.38, 'P': 0.8986682778019771, 'g_c': 1.1819199311235522, 'gamma_1': 2.8469263882910028, 'gamma_2': -0.04153680585450026, 'gamma_3': 0.8784631941454997, 'kappa': -0.7315368058544998, 'q': 0.04, 'gamma_0': 0.9999999999999964, 'E_v': 0, 'm_0': 510998.94609999994, 'phi_0': 4135.667662, 'mu_B': 5.7883818012e-05, 'hbar': 197.3269788}"
      ]
     },
     "execution_count": 25,
     "metadata": {},
     "output_type": "execute_result"
    }
   ],
   "source": [
    "InAs.renormalize(new_gamma_0=1)"
   ]
  },
  {
   "cell_type": "code",
   "execution_count": 26,
   "metadata": {},
   "outputs": [
    {
     "data": {
      "text/plain": [
       "{'E_0': 0.42, 'Delta_0': 0.38, 'P': 0.8986682778019771, 'g_c': 1.1819199311235522, 'gamma_1': 2.8469263882910028, 'gamma_2': -0.04153680585450026, 'gamma_3': 0.8784631941454997, 'kappa': -0.7315368058544998, 'q': 0.04, 'gamma_0': 0.9999999999999964, 'E_v': 0, 'm_0': 510998.94609999994, 'phi_0': 4135.667662, 'mu_B': 5.7883818012e-05, 'hbar': 197.3269788}"
      ]
     },
     "execution_count": 26,
     "metadata": {},
     "output_type": "execute_result"
    }
   ],
   "source": [
    "InAs.renormalize(new_P=0.8986682778019771)"
   ]
  }
 ],
 "metadata": {
  "kernelspec": {
   "display_name": "Python 3",
   "language": "python",
   "name": "python3"
  },
  "language_info": {
   "codemirror_mode": {
    "name": "ipython",
    "version": 3
   },
   "file_extension": ".py",
   "mimetype": "text/x-python",
   "name": "python",
   "nbconvert_exporter": "python",
   "pygments_lexer": "ipython3",
   "version": "3.6.6"
  }
 },
 "nbformat": 4,
 "nbformat_minor": 2
}
